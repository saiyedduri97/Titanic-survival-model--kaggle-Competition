{
 "cells": [
  {
   "cell_type": "markdown",
   "id": "2f72095f",
   "metadata": {},
   "source": [
    "# Goal: To apply the skills for classifaction model in titanic competition at kaggle\n",
    "\n",
    "Learning outcome: learn more data-analysis techniques through discussion\n",
    "\n",
    "1. [Read the titanic dataset](#Read-the-titanic-dataset)  \n",
    "2. [Know the data](#Know-the-data)\n",
    "    1. [Peak-into-the-data](#Peaking-into-the-data)\n",
    "    2. [Check-the-size-of-the-data](#Checking-the-size-of-the-data)\n",
    "    3. [Identify-the-NaN-series-and-datatype](#Identifying-the-NaN-series-and-datatype)\n",
    "    4. [descriptive-statistics](#Get-descriptive-statistics-on-number-datatype)\n",
    "    5. [Categorize features into numerical, categorical and others](#Categorizing-features-into-Numerical,Categorical-and-Text)\n",
    "3. [Explarotary Data analysis](#Exploratorty-Dataanalysis-findings:)\n",
    "    1. [Identify Influence of outliers](#Identifying-the-influence-of-outliers-through-histograms)\n",
    "4. Data preprocessing\n",
    "    1. Setting-up Pipeline:\n",
    "        1. [Setup numeric featurespipeline](#Setup-numeric-pipeline-for-preprocessing-numerical-features)\n",
    "        \n",
    "        2. [Setup Categorical features pipeline](#Setup-categorical-pipeline-for-categorical-features)\n",
    "        3. [Setup full pipeline for data preprocessing](#Setup-full-pipeline-for-data-preprocessing-data)\n",
    " \n",
    "6. Train and Validate the model:\n",
    "    1. [Select the best Classification model for the data](#Choosing-the-best-Classification-model:)\n",
    "    2. [Train the classification model](#Light-GBM)\n",
    "7. Prediction:\n",
    "    1. [Prediction](#Predicting-the-survival-of-titanic-passengers)\n",
    "\n",
    "\n",
    "\n",
    "\n",
    "\n"
   ]
  },
  {
   "cell_type": "code",
   "execution_count": 16,
   "id": "4793d0dc",
   "metadata": {},
   "outputs": [
    {
     "data": {
      "text/plain": [
       "'#-Choosing-the-best-Classification-model:'"
      ]
     },
     "execution_count": 16,
     "metadata": {},
     "output_type": "execute_result"
    }
   ],
   "source": [
    "def converter(string):\n",
    "    string=string.replace(\" \",\"-\")\n",
    "    return string\n",
    "string=\"# Choosing the best Classification model:\"\n",
    "converter(string)\n",
    "\n"
   ]
  },
  {
   "cell_type": "code",
   "execution_count": 3,
   "id": "10a3c6b9",
   "metadata": {},
   "outputs": [],
   "source": [
    "import numpy as np\n",
    "import pandas as pd\n",
    "import matplotlib.pyplot as plt\n",
    "\n",
    "from sklearn.preprocessing import FunctionTransformer\n"
   ]
  },
  {
   "cell_type": "markdown",
   "id": "514108b0",
   "metadata": {},
   "source": [
    "# Read the titanic dataset"
   ]
  },
  {
   "cell_type": "code",
   "execution_count": 4,
   "id": "42dd294d",
   "metadata": {},
   "outputs": [],
   "source": [
    "train_path=\"./train.csv\"\n",
    "test_path=\"./test.csv\""
   ]
  },
  {
   "cell_type": "code",
   "execution_count": 5,
   "id": "02a23443",
   "metadata": {},
   "outputs": [],
   "source": [
    "tit_data=pd.read_csv(train_path,index_col=\"PassengerId\")\n",
    "test_data=pd.read_csv(test_path,index_col=\"PassengerId\")"
   ]
  },
  {
   "cell_type": "code",
   "execution_count": 6,
   "id": "89416b85",
   "metadata": {},
   "outputs": [
    {
     "data": {
      "text/plain": [
       "(418, 10)"
      ]
     },
     "execution_count": 6,
     "metadata": {},
     "output_type": "execute_result"
    }
   ],
   "source": [
    "test_data.shape"
   ]
  },
  {
   "cell_type": "markdown",
   "id": "af789f1d",
   "metadata": {},
   "source": [
    "# Know the data\n",
    "Inferences:\n",
    "1. The majority of passengers on board were in the upper-middle ticket class, with an average fare of &dollar; 32.2 and an approximate average age of 30 years.  \n",
    "2. Out of the total 891 passengers, only 38.2% were able to survive the accident.  \n",
    "3. The standard deviation of fare prices, amounting to &dollar; 49.69, indicates a significant disparity in ticket fares among the passengers, emphasizing the varying economic backgrounds."
   ]
  },
  {
   "cell_type": "markdown",
   "id": "b0c2acf3",
   "metadata": {},
   "source": [
    "## Peaking into the data"
   ]
  },
  {
   "cell_type": "code",
   "execution_count": 7,
   "id": "ba7bd010",
   "metadata": {},
   "outputs": [
    {
     "data": {
      "text/html": [
       "<div>\n",
       "<style scoped>\n",
       "    .dataframe tbody tr th:only-of-type {\n",
       "        vertical-align: middle;\n",
       "    }\n",
       "\n",
       "    .dataframe tbody tr th {\n",
       "        vertical-align: top;\n",
       "    }\n",
       "\n",
       "    .dataframe thead th {\n",
       "        text-align: right;\n",
       "    }\n",
       "</style>\n",
       "<table border=\"1\" class=\"dataframe\">\n",
       "  <thead>\n",
       "    <tr style=\"text-align: right;\">\n",
       "      <th></th>\n",
       "      <th>Survived</th>\n",
       "      <th>Pclass</th>\n",
       "      <th>Name</th>\n",
       "      <th>Sex</th>\n",
       "      <th>Age</th>\n",
       "      <th>SibSp</th>\n",
       "      <th>Parch</th>\n",
       "      <th>Ticket</th>\n",
       "      <th>Fare</th>\n",
       "      <th>Cabin</th>\n",
       "      <th>Embarked</th>\n",
       "    </tr>\n",
       "    <tr>\n",
       "      <th>PassengerId</th>\n",
       "      <th></th>\n",
       "      <th></th>\n",
       "      <th></th>\n",
       "      <th></th>\n",
       "      <th></th>\n",
       "      <th></th>\n",
       "      <th></th>\n",
       "      <th></th>\n",
       "      <th></th>\n",
       "      <th></th>\n",
       "      <th></th>\n",
       "    </tr>\n",
       "  </thead>\n",
       "  <tbody>\n",
       "    <tr>\n",
       "      <th>1</th>\n",
       "      <td>0</td>\n",
       "      <td>3</td>\n",
       "      <td>Braund, Mr. Owen Harris</td>\n",
       "      <td>male</td>\n",
       "      <td>22.0</td>\n",
       "      <td>1</td>\n",
       "      <td>0</td>\n",
       "      <td>A/5 21171</td>\n",
       "      <td>7.2500</td>\n",
       "      <td>NaN</td>\n",
       "      <td>S</td>\n",
       "    </tr>\n",
       "    <tr>\n",
       "      <th>2</th>\n",
       "      <td>1</td>\n",
       "      <td>1</td>\n",
       "      <td>Cumings, Mrs. John Bradley (Florence Briggs Th...</td>\n",
       "      <td>female</td>\n",
       "      <td>38.0</td>\n",
       "      <td>1</td>\n",
       "      <td>0</td>\n",
       "      <td>PC 17599</td>\n",
       "      <td>71.2833</td>\n",
       "      <td>C85</td>\n",
       "      <td>C</td>\n",
       "    </tr>\n",
       "    <tr>\n",
       "      <th>3</th>\n",
       "      <td>1</td>\n",
       "      <td>3</td>\n",
       "      <td>Heikkinen, Miss. Laina</td>\n",
       "      <td>female</td>\n",
       "      <td>26.0</td>\n",
       "      <td>0</td>\n",
       "      <td>0</td>\n",
       "      <td>STON/O2. 3101282</td>\n",
       "      <td>7.9250</td>\n",
       "      <td>NaN</td>\n",
       "      <td>S</td>\n",
       "    </tr>\n",
       "    <tr>\n",
       "      <th>4</th>\n",
       "      <td>1</td>\n",
       "      <td>1</td>\n",
       "      <td>Futrelle, Mrs. Jacques Heath (Lily May Peel)</td>\n",
       "      <td>female</td>\n",
       "      <td>35.0</td>\n",
       "      <td>1</td>\n",
       "      <td>0</td>\n",
       "      <td>113803</td>\n",
       "      <td>53.1000</td>\n",
       "      <td>C123</td>\n",
       "      <td>S</td>\n",
       "    </tr>\n",
       "    <tr>\n",
       "      <th>5</th>\n",
       "      <td>0</td>\n",
       "      <td>3</td>\n",
       "      <td>Allen, Mr. William Henry</td>\n",
       "      <td>male</td>\n",
       "      <td>35.0</td>\n",
       "      <td>0</td>\n",
       "      <td>0</td>\n",
       "      <td>373450</td>\n",
       "      <td>8.0500</td>\n",
       "      <td>NaN</td>\n",
       "      <td>S</td>\n",
       "    </tr>\n",
       "  </tbody>\n",
       "</table>\n",
       "</div>"
      ],
      "text/plain": [
       "             Survived  Pclass  \\\n",
       "PassengerId                     \n",
       "1                   0       3   \n",
       "2                   1       1   \n",
       "3                   1       3   \n",
       "4                   1       1   \n",
       "5                   0       3   \n",
       "\n",
       "                                                          Name     Sex   Age  \\\n",
       "PassengerId                                                                    \n",
       "1                                      Braund, Mr. Owen Harris    male  22.0   \n",
       "2            Cumings, Mrs. John Bradley (Florence Briggs Th...  female  38.0   \n",
       "3                                       Heikkinen, Miss. Laina  female  26.0   \n",
       "4                 Futrelle, Mrs. Jacques Heath (Lily May Peel)  female  35.0   \n",
       "5                                     Allen, Mr. William Henry    male  35.0   \n",
       "\n",
       "             SibSp  Parch            Ticket     Fare Cabin Embarked  \n",
       "PassengerId                                                          \n",
       "1                1      0         A/5 21171   7.2500   NaN        S  \n",
       "2                1      0          PC 17599  71.2833   C85        C  \n",
       "3                0      0  STON/O2. 3101282   7.9250   NaN        S  \n",
       "4                1      0            113803  53.1000  C123        S  \n",
       "5                0      0            373450   8.0500   NaN        S  "
      ]
     },
     "execution_count": 7,
     "metadata": {},
     "output_type": "execute_result"
    }
   ],
   "source": [
    "tit_data.head()"
   ]
  },
  {
   "cell_type": "markdown",
   "id": "b45178c5",
   "metadata": {},
   "source": [
    "## Checking the size of the data"
   ]
  },
  {
   "cell_type": "code",
   "execution_count": 8,
   "id": "6d6472b7",
   "metadata": {},
   "outputs": [
    {
     "data": {
      "text/plain": [
       "(891, 11)"
      ]
     },
     "execution_count": 8,
     "metadata": {},
     "output_type": "execute_result"
    }
   ],
   "source": [
    "tit_data.shape"
   ]
  },
  {
   "cell_type": "markdown",
   "id": "5b72e01c",
   "metadata": {},
   "source": [
    "##  Identifying the NaN series and datatype"
   ]
  },
  {
   "cell_type": "code",
   "execution_count": 9,
   "id": "8766ca6b",
   "metadata": {},
   "outputs": [
    {
     "name": "stdout",
     "output_type": "stream",
     "text": [
      "<class 'pandas.core.frame.DataFrame'>\n",
      "Int64Index: 891 entries, 1 to 891\n",
      "Data columns (total 11 columns):\n",
      " #   Column    Non-Null Count  Dtype  \n",
      "---  ------    --------------  -----  \n",
      " 0   Survived  891 non-null    int64  \n",
      " 1   Pclass    891 non-null    int64  \n",
      " 2   Name      891 non-null    object \n",
      " 3   Sex       891 non-null    object \n",
      " 4   Age       714 non-null    float64\n",
      " 5   SibSp     891 non-null    int64  \n",
      " 6   Parch     891 non-null    int64  \n",
      " 7   Ticket    891 non-null    object \n",
      " 8   Fare      891 non-null    float64\n",
      " 9   Cabin     204 non-null    object \n",
      " 10  Embarked  889 non-null    object \n",
      "dtypes: float64(2), int64(4), object(5)\n",
      "memory usage: 83.5+ KB\n"
     ]
    }
   ],
   "source": [
    "tit_data.info()\n",
    "# age and cabin has the nan values"
   ]
  },
  {
   "cell_type": "markdown",
   "id": "7a23e2d8",
   "metadata": {},
   "source": [
    "# Get descriptive statistics on number datatypes"
   ]
  },
  {
   "cell_type": "code",
   "execution_count": 10,
   "id": "eecb9717",
   "metadata": {},
   "outputs": [
    {
     "data": {
      "text/html": [
       "<div>\n",
       "<style scoped>\n",
       "    .dataframe tbody tr th:only-of-type {\n",
       "        vertical-align: middle;\n",
       "    }\n",
       "\n",
       "    .dataframe tbody tr th {\n",
       "        vertical-align: top;\n",
       "    }\n",
       "\n",
       "    .dataframe thead th {\n",
       "        text-align: right;\n",
       "    }\n",
       "</style>\n",
       "<table border=\"1\" class=\"dataframe\">\n",
       "  <thead>\n",
       "    <tr style=\"text-align: right;\">\n",
       "      <th></th>\n",
       "      <th>Survived</th>\n",
       "      <th>Pclass</th>\n",
       "      <th>Age</th>\n",
       "      <th>SibSp</th>\n",
       "      <th>Parch</th>\n",
       "      <th>Fare</th>\n",
       "    </tr>\n",
       "  </thead>\n",
       "  <tbody>\n",
       "    <tr>\n",
       "      <th>count</th>\n",
       "      <td>891.000000</td>\n",
       "      <td>891.000000</td>\n",
       "      <td>714.000000</td>\n",
       "      <td>891.000000</td>\n",
       "      <td>891.000000</td>\n",
       "      <td>891.000000</td>\n",
       "    </tr>\n",
       "    <tr>\n",
       "      <th>mean</th>\n",
       "      <td>0.383838</td>\n",
       "      <td>2.308642</td>\n",
       "      <td>29.699118</td>\n",
       "      <td>0.523008</td>\n",
       "      <td>0.381594</td>\n",
       "      <td>32.204208</td>\n",
       "    </tr>\n",
       "    <tr>\n",
       "      <th>std</th>\n",
       "      <td>0.486592</td>\n",
       "      <td>0.836071</td>\n",
       "      <td>14.526497</td>\n",
       "      <td>1.102743</td>\n",
       "      <td>0.806057</td>\n",
       "      <td>49.693429</td>\n",
       "    </tr>\n",
       "    <tr>\n",
       "      <th>min</th>\n",
       "      <td>0.000000</td>\n",
       "      <td>1.000000</td>\n",
       "      <td>0.420000</td>\n",
       "      <td>0.000000</td>\n",
       "      <td>0.000000</td>\n",
       "      <td>0.000000</td>\n",
       "    </tr>\n",
       "    <tr>\n",
       "      <th>25%</th>\n",
       "      <td>0.000000</td>\n",
       "      <td>2.000000</td>\n",
       "      <td>20.125000</td>\n",
       "      <td>0.000000</td>\n",
       "      <td>0.000000</td>\n",
       "      <td>7.910400</td>\n",
       "    </tr>\n",
       "    <tr>\n",
       "      <th>50%</th>\n",
       "      <td>0.000000</td>\n",
       "      <td>3.000000</td>\n",
       "      <td>28.000000</td>\n",
       "      <td>0.000000</td>\n",
       "      <td>0.000000</td>\n",
       "      <td>14.454200</td>\n",
       "    </tr>\n",
       "    <tr>\n",
       "      <th>75%</th>\n",
       "      <td>1.000000</td>\n",
       "      <td>3.000000</td>\n",
       "      <td>38.000000</td>\n",
       "      <td>1.000000</td>\n",
       "      <td>0.000000</td>\n",
       "      <td>31.000000</td>\n",
       "    </tr>\n",
       "    <tr>\n",
       "      <th>max</th>\n",
       "      <td>1.000000</td>\n",
       "      <td>3.000000</td>\n",
       "      <td>80.000000</td>\n",
       "      <td>8.000000</td>\n",
       "      <td>6.000000</td>\n",
       "      <td>512.329200</td>\n",
       "    </tr>\n",
       "  </tbody>\n",
       "</table>\n",
       "</div>"
      ],
      "text/plain": [
       "         Survived      Pclass         Age       SibSp       Parch        Fare\n",
       "count  891.000000  891.000000  714.000000  891.000000  891.000000  891.000000\n",
       "mean     0.383838    2.308642   29.699118    0.523008    0.381594   32.204208\n",
       "std      0.486592    0.836071   14.526497    1.102743    0.806057   49.693429\n",
       "min      0.000000    1.000000    0.420000    0.000000    0.000000    0.000000\n",
       "25%      0.000000    2.000000   20.125000    0.000000    0.000000    7.910400\n",
       "50%      0.000000    3.000000   28.000000    0.000000    0.000000   14.454200\n",
       "75%      1.000000    3.000000   38.000000    1.000000    0.000000   31.000000\n",
       "max      1.000000    3.000000   80.000000    8.000000    6.000000  512.329200"
      ]
     },
     "execution_count": 10,
     "metadata": {},
     "output_type": "execute_result"
    }
   ],
   "source": [
    "tit_data.describe()\n",
    "#(or)\n",
    "tit_data.describe(include=[\"number\"])"
   ]
  },
  {
   "cell_type": "markdown",
   "id": "d17314fb",
   "metadata": {},
   "source": [
    "# Get descriptive statistics on object datatypes"
   ]
  },
  {
   "cell_type": "code",
   "execution_count": 11,
   "id": "7218b18e",
   "metadata": {},
   "outputs": [
    {
     "data": {
      "text/html": [
       "<div>\n",
       "<style scoped>\n",
       "    .dataframe tbody tr th:only-of-type {\n",
       "        vertical-align: middle;\n",
       "    }\n",
       "\n",
       "    .dataframe tbody tr th {\n",
       "        vertical-align: top;\n",
       "    }\n",
       "\n",
       "    .dataframe thead th {\n",
       "        text-align: right;\n",
       "    }\n",
       "</style>\n",
       "<table border=\"1\" class=\"dataframe\">\n",
       "  <thead>\n",
       "    <tr style=\"text-align: right;\">\n",
       "      <th></th>\n",
       "      <th>Name</th>\n",
       "      <th>Sex</th>\n",
       "      <th>Ticket</th>\n",
       "      <th>Cabin</th>\n",
       "      <th>Embarked</th>\n",
       "    </tr>\n",
       "  </thead>\n",
       "  <tbody>\n",
       "    <tr>\n",
       "      <th>count</th>\n",
       "      <td>891</td>\n",
       "      <td>891</td>\n",
       "      <td>891</td>\n",
       "      <td>204</td>\n",
       "      <td>889</td>\n",
       "    </tr>\n",
       "    <tr>\n",
       "      <th>unique</th>\n",
       "      <td>891</td>\n",
       "      <td>2</td>\n",
       "      <td>681</td>\n",
       "      <td>147</td>\n",
       "      <td>3</td>\n",
       "    </tr>\n",
       "    <tr>\n",
       "      <th>top</th>\n",
       "      <td>Braund, Mr. Owen Harris</td>\n",
       "      <td>male</td>\n",
       "      <td>347082</td>\n",
       "      <td>B96 B98</td>\n",
       "      <td>S</td>\n",
       "    </tr>\n",
       "    <tr>\n",
       "      <th>freq</th>\n",
       "      <td>1</td>\n",
       "      <td>577</td>\n",
       "      <td>7</td>\n",
       "      <td>4</td>\n",
       "      <td>644</td>\n",
       "    </tr>\n",
       "  </tbody>\n",
       "</table>\n",
       "</div>"
      ],
      "text/plain": [
       "                           Name   Sex  Ticket    Cabin Embarked\n",
       "count                       891   891     891      204      889\n",
       "unique                      891     2     681      147        3\n",
       "top     Braund, Mr. Owen Harris  male  347082  B96 B98        S\n",
       "freq                          1   577       7        4      644"
      ]
     },
     "execution_count": 11,
     "metadata": {},
     "output_type": "execute_result"
    }
   ],
   "source": [
    "tit_data.describe(include=[\"object\"])"
   ]
  },
  {
   "cell_type": "markdown",
   "id": "af1868a0",
   "metadata": {},
   "source": [
    "# Identifying the NaN entries and non-sensible entries among the features"
   ]
  },
  {
   "cell_type": "code",
   "execution_count": 12,
   "id": "fd9d1b2a",
   "metadata": {
    "scrolled": true
   },
   "outputs": [
    {
     "data": {
      "text/html": [
       "<div>\n",
       "<style scoped>\n",
       "    .dataframe tbody tr th:only-of-type {\n",
       "        vertical-align: middle;\n",
       "    }\n",
       "\n",
       "    .dataframe tbody tr th {\n",
       "        vertical-align: top;\n",
       "    }\n",
       "\n",
       "    .dataframe thead th {\n",
       "        text-align: right;\n",
       "    }\n",
       "</style>\n",
       "<table border=\"1\" class=\"dataframe\">\n",
       "  <thead>\n",
       "    <tr style=\"text-align: right;\">\n",
       "      <th></th>\n",
       "      <th>Survived</th>\n",
       "      <th>Pclass</th>\n",
       "      <th>Name</th>\n",
       "      <th>Sex</th>\n",
       "      <th>Age</th>\n",
       "      <th>SibSp</th>\n",
       "      <th>Parch</th>\n",
       "      <th>Ticket</th>\n",
       "      <th>Fare</th>\n",
       "      <th>Cabin</th>\n",
       "      <th>Embarked</th>\n",
       "    </tr>\n",
       "    <tr>\n",
       "      <th>PassengerId</th>\n",
       "      <th></th>\n",
       "      <th></th>\n",
       "      <th></th>\n",
       "      <th></th>\n",
       "      <th></th>\n",
       "      <th></th>\n",
       "      <th></th>\n",
       "      <th></th>\n",
       "      <th></th>\n",
       "      <th></th>\n",
       "      <th></th>\n",
       "    </tr>\n",
       "  </thead>\n",
       "  <tbody>\n",
       "    <tr>\n",
       "      <th>1</th>\n",
       "      <td>0</td>\n",
       "      <td>3</td>\n",
       "      <td>Braund, Mr. Owen Harris</td>\n",
       "      <td>male</td>\n",
       "      <td>22.0</td>\n",
       "      <td>1</td>\n",
       "      <td>0</td>\n",
       "      <td>A/5 21171</td>\n",
       "      <td>7.2500</td>\n",
       "      <td>NaN</td>\n",
       "      <td>S</td>\n",
       "    </tr>\n",
       "    <tr>\n",
       "      <th>3</th>\n",
       "      <td>1</td>\n",
       "      <td>3</td>\n",
       "      <td>Heikkinen, Miss. Laina</td>\n",
       "      <td>female</td>\n",
       "      <td>26.0</td>\n",
       "      <td>0</td>\n",
       "      <td>0</td>\n",
       "      <td>STON/O2. 3101282</td>\n",
       "      <td>7.9250</td>\n",
       "      <td>NaN</td>\n",
       "      <td>S</td>\n",
       "    </tr>\n",
       "    <tr>\n",
       "      <th>5</th>\n",
       "      <td>0</td>\n",
       "      <td>3</td>\n",
       "      <td>Allen, Mr. William Henry</td>\n",
       "      <td>male</td>\n",
       "      <td>35.0</td>\n",
       "      <td>0</td>\n",
       "      <td>0</td>\n",
       "      <td>373450</td>\n",
       "      <td>8.0500</td>\n",
       "      <td>NaN</td>\n",
       "      <td>S</td>\n",
       "    </tr>\n",
       "    <tr>\n",
       "      <th>6</th>\n",
       "      <td>0</td>\n",
       "      <td>3</td>\n",
       "      <td>Moran, Mr. James</td>\n",
       "      <td>male</td>\n",
       "      <td>NaN</td>\n",
       "      <td>0</td>\n",
       "      <td>0</td>\n",
       "      <td>330877</td>\n",
       "      <td>8.4583</td>\n",
       "      <td>NaN</td>\n",
       "      <td>Q</td>\n",
       "    </tr>\n",
       "    <tr>\n",
       "      <th>8</th>\n",
       "      <td>0</td>\n",
       "      <td>3</td>\n",
       "      <td>Palsson, Master. Gosta Leonard</td>\n",
       "      <td>male</td>\n",
       "      <td>2.0</td>\n",
       "      <td>3</td>\n",
       "      <td>1</td>\n",
       "      <td>349909</td>\n",
       "      <td>21.0750</td>\n",
       "      <td>NaN</td>\n",
       "      <td>S</td>\n",
       "    </tr>\n",
       "    <tr>\n",
       "      <th>...</th>\n",
       "      <td>...</td>\n",
       "      <td>...</td>\n",
       "      <td>...</td>\n",
       "      <td>...</td>\n",
       "      <td>...</td>\n",
       "      <td>...</td>\n",
       "      <td>...</td>\n",
       "      <td>...</td>\n",
       "      <td>...</td>\n",
       "      <td>...</td>\n",
       "      <td>...</td>\n",
       "    </tr>\n",
       "    <tr>\n",
       "      <th>885</th>\n",
       "      <td>0</td>\n",
       "      <td>3</td>\n",
       "      <td>Sutehall, Mr. Henry Jr</td>\n",
       "      <td>male</td>\n",
       "      <td>25.0</td>\n",
       "      <td>0</td>\n",
       "      <td>0</td>\n",
       "      <td>SOTON/OQ 392076</td>\n",
       "      <td>7.0500</td>\n",
       "      <td>NaN</td>\n",
       "      <td>S</td>\n",
       "    </tr>\n",
       "    <tr>\n",
       "      <th>886</th>\n",
       "      <td>0</td>\n",
       "      <td>3</td>\n",
       "      <td>Rice, Mrs. William (Margaret Norton)</td>\n",
       "      <td>female</td>\n",
       "      <td>39.0</td>\n",
       "      <td>0</td>\n",
       "      <td>5</td>\n",
       "      <td>382652</td>\n",
       "      <td>29.1250</td>\n",
       "      <td>NaN</td>\n",
       "      <td>Q</td>\n",
       "    </tr>\n",
       "    <tr>\n",
       "      <th>887</th>\n",
       "      <td>0</td>\n",
       "      <td>2</td>\n",
       "      <td>Montvila, Rev. Juozas</td>\n",
       "      <td>male</td>\n",
       "      <td>27.0</td>\n",
       "      <td>0</td>\n",
       "      <td>0</td>\n",
       "      <td>211536</td>\n",
       "      <td>13.0000</td>\n",
       "      <td>NaN</td>\n",
       "      <td>S</td>\n",
       "    </tr>\n",
       "    <tr>\n",
       "      <th>889</th>\n",
       "      <td>0</td>\n",
       "      <td>3</td>\n",
       "      <td>Johnston, Miss. Catherine Helen \"Carrie\"</td>\n",
       "      <td>female</td>\n",
       "      <td>NaN</td>\n",
       "      <td>1</td>\n",
       "      <td>2</td>\n",
       "      <td>W./C. 6607</td>\n",
       "      <td>23.4500</td>\n",
       "      <td>NaN</td>\n",
       "      <td>S</td>\n",
       "    </tr>\n",
       "    <tr>\n",
       "      <th>891</th>\n",
       "      <td>0</td>\n",
       "      <td>3</td>\n",
       "      <td>Dooley, Mr. Patrick</td>\n",
       "      <td>male</td>\n",
       "      <td>32.0</td>\n",
       "      <td>0</td>\n",
       "      <td>0</td>\n",
       "      <td>370376</td>\n",
       "      <td>7.7500</td>\n",
       "      <td>NaN</td>\n",
       "      <td>Q</td>\n",
       "    </tr>\n",
       "  </tbody>\n",
       "</table>\n",
       "<p>687 rows × 11 columns</p>\n",
       "</div>"
      ],
      "text/plain": [
       "             Survived  Pclass                                      Name  \\\n",
       "PassengerId                                                               \n",
       "1                   0       3                   Braund, Mr. Owen Harris   \n",
       "3                   1       3                    Heikkinen, Miss. Laina   \n",
       "5                   0       3                  Allen, Mr. William Henry   \n",
       "6                   0       3                          Moran, Mr. James   \n",
       "8                   0       3            Palsson, Master. Gosta Leonard   \n",
       "...               ...     ...                                       ...   \n",
       "885                 0       3                    Sutehall, Mr. Henry Jr   \n",
       "886                 0       3      Rice, Mrs. William (Margaret Norton)   \n",
       "887                 0       2                     Montvila, Rev. Juozas   \n",
       "889                 0       3  Johnston, Miss. Catherine Helen \"Carrie\"   \n",
       "891                 0       3                       Dooley, Mr. Patrick   \n",
       "\n",
       "                Sex   Age  SibSp  Parch            Ticket     Fare Cabin  \\\n",
       "PassengerId                                                                \n",
       "1              male  22.0      1      0         A/5 21171   7.2500   NaN   \n",
       "3            female  26.0      0      0  STON/O2. 3101282   7.9250   NaN   \n",
       "5              male  35.0      0      0            373450   8.0500   NaN   \n",
       "6              male   NaN      0      0            330877   8.4583   NaN   \n",
       "8              male   2.0      3      1            349909  21.0750   NaN   \n",
       "...             ...   ...    ...    ...               ...      ...   ...   \n",
       "885            male  25.0      0      0   SOTON/OQ 392076   7.0500   NaN   \n",
       "886          female  39.0      0      5            382652  29.1250   NaN   \n",
       "887            male  27.0      0      0            211536  13.0000   NaN   \n",
       "889          female   NaN      1      2        W./C. 6607  23.4500   NaN   \n",
       "891            male  32.0      0      0            370376   7.7500   NaN   \n",
       "\n",
       "            Embarked  \n",
       "PassengerId           \n",
       "1                  S  \n",
       "3                  S  \n",
       "5                  S  \n",
       "6                  Q  \n",
       "8                  S  \n",
       "...              ...  \n",
       "885                S  \n",
       "886                Q  \n",
       "887                S  \n",
       "889                S  \n",
       "891                Q  \n",
       "\n",
       "[687 rows x 11 columns]"
      ]
     },
     "execution_count": 12,
     "metadata": {},
     "output_type": "execute_result"
    }
   ],
   "source": [
    "tit_data[tit_data[\"Cabin\"].isnull()]"
   ]
  },
  {
   "cell_type": "markdown",
   "id": "586c82ab",
   "metadata": {},
   "source": [
    "## Identifying zeros  in fare(assumption: fare cannot be zero)"
   ]
  },
  {
   "cell_type": "code",
   "execution_count": 13,
   "id": "0f700d9d",
   "metadata": {},
   "outputs": [
    {
     "data": {
      "text/plain": [
       "Survived    549\n",
       "Pclass        0\n",
       "Name          0\n",
       "Sex           0\n",
       "Age           0\n",
       "SibSp       608\n",
       "Parch       678\n",
       "Ticket        0\n",
       "Fare         15\n",
       "Cabin         0\n",
       "Embarked      0\n",
       "dtype: int64"
      ]
     },
     "execution_count": 13,
     "metadata": {},
     "output_type": "execute_result"
    }
   ],
   "source": [
    "features=tit_data.columns\n",
    "(tit_data[features]==0).sum()"
   ]
  },
  {
   "cell_type": "markdown",
   "id": "f988d4d2",
   "metadata": {},
   "source": [
    "# Categorizing features into Numerical,Categorical and Text\n",
    "titanic set has 12 features out of which\n",
    "\n",
    "- Numerical features:  \n",
    "  - continuous:\n",
    "    1. Age     \n",
    "    2. Fare\n",
    "    \n",
    "  - discrete:\n",
    "    3. SibSip\n",
    "    4. Parch\n",
    "\n",
    "    \n",
    "- Categorical features:\n",
    "    1. Pclass  \n",
    "    2. Sex  \n",
    "    3. Embarked  \n",
    "    4. Cabin: Since 204/891 are non null values, its better to not consider as we wont\n",
    "               get a better model even if we did.\n",
    "    5. Survived(Target feature)  \n",
    "- Other/Text features:\n",
    "    1. Name\n",
    "    \n",
    "    2. Ticket:This variable also only contains the unique ticket value for each passenger, and there is no pattern that we can extract. So, we'll just remove this variable.\n",
    "    \n",
    "    3. PassengerId: Since passenger id is of unique names and doesnt contribue to data analysis(interms of pattern), we ignore it \n",
    "    \n",
    "    "
   ]
  },
  {
   "cell_type": "markdown",
   "id": "1791f98f",
   "metadata": {},
   "source": [
    "# Exploratorty Dataanalysis findings:"
   ]
  },
  {
   "cell_type": "code",
   "execution_count": 14,
   "id": "b7c80690",
   "metadata": {},
   "outputs": [],
   "source": [
    "import seaborn as sns"
   ]
  },
  {
   "cell_type": "code",
   "execution_count": 15,
   "id": "8264e832",
   "metadata": {},
   "outputs": [
    {
     "data": {
      "image/png": "[encoded data removed]",
      "text/plain": [
       "<Figure size 1200x400 with 2 Axes>"
      ]
     },
     "metadata": {},
     "output_type": "display_data"
    },
    {
     "data": {
      "image/png": "[encoded data removed]",
      "text/plain": [
       "<Figure size 1200x400 with 2 Axes>"
      ]
     },
     "metadata": {},
     "output_type": "display_data"
    },
    {
     "data": {
      "image/png": "[encoded data removed]",
      "text/plain": [
       "<Figure size 1200x400 with 2 Axes>"
      ]
     },
     "metadata": {},
     "output_type": "display_data"
    },
    {
     "data": {
      "image/png": "[encoded data removed]",
      "text/plain": [
       "<Figure size 1200x400 with 2 Axes>"
      ]
     },
     "metadata": {},
     "output_type": "display_data"
    }
   ],
   "source": [
    "def num_dist(data, num_feature):\n",
    "    fig, axis = plt.subplots(1, 2, figsize=(12, 4))\n",
    "\n",
    "    sns.histplot(data=data, x=num_feature, kde=True, ax=axis[0])\n",
    "    sns.boxplot(data=data, x=num_feature, ax=axis[1])\n",
    "    axis[0].set_title(f\"{num_feature} Distribution Histogram\")\n",
    "    axis[1].set_title(f\"{num_feature} Distribution Boxplot\")\n",
    "\n",
    "    plt.show()\n",
    "\n",
    "num_features = [\"SibSp\", \"Parch\", \"Age\", \"Fare\"]\n",
    "cat_features = [\"Sex\", \"Embarked\", \"Pclass\"]\n",
    "\n",
    "for feature in num_features:\n",
    "    num_dist(tit_data, feature)"
   ]
  },
  {
   "cell_type": "code",
   "execution_count": 16,
   "id": "13a65af1",
   "metadata": {},
   "outputs": [
    {
     "data": {
      "image/png": "[encoded data removed]",
      "text/plain": [
       "<Figure size 1200x400 with 2 Axes>"
      ]
     },
     "metadata": {},
     "output_type": "display_data"
    },
    {
     "data": {
      "image/png": "[encoded data removed]",
      "text/plain": [
       "<Figure size 1200x400 with 2 Axes>"
      ]
     },
     "metadata": {},
     "output_type": "display_data"
    },
    {
     "data": {
      "image/png": "[encoded data removed]",
      "text/plain": [
       "<Figure size 1200x400 with 2 Axes>"
      ]
     },
     "metadata": {},
     "output_type": "display_data"
    }
   ],
   "source": [
    "# represent categories through pie chart and \n",
    "\n",
    "def cat_dist(data, cat_feature):\n",
    "    #  representing the categories through piechart\n",
    "    fig, axis = plt.subplots(1, 2, figsize=(12, 4))\n",
    "    data[cat_feature].value_counts().plot(kind=\"pie\", \n",
    "                                          explode=[0.1]*(len(data[cat_feature].dropna().unique())),                                 ax=axis[0], \n",
    "                                          autopct='%0.1f%%',\n",
    "                                          shadow=True)\n",
    "    axis[0].set_title(f\"{cat_feature} Pie Chart\")\n",
    "    \n",
    "    # representing the numbers through countplot is a count on y and  feature on x bargraph\n",
    "    count = sns.countplot(x=cat_feature,hue=\"Survived\",data=data, ax=axis[1])\n",
    "    for bar in count.patches:\n",
    "            # x-coordinate: bar.get_x() + bar.get_width() / 2\n",
    "            # y-coordinate: bar.get_height()\n",
    "            # free space to be left to make graph pleasing: (0, 8)\n",
    "    # ha and va stand for the horizontal and vertical alignment\n",
    "      count.annotate(format(bar.get_height(),\"0.1f\"),\n",
    "                   ((bar.get_x() + bar.get_width() / 2), bar.get_height()), \n",
    "                   ha='center', va='center',\n",
    "                   size=11,xytext=(0, 8),\n",
    "                   textcoords='offset points')\n",
    "    axis[1].set_title(f\"{cat_feature} Bar Chart\")\n",
    "    plt.show()\n",
    "\n",
    "for cat_feature in cat_features:\n",
    "    cat_dist(tit_data,cat_feature)"
   ]
  },
  {
   "cell_type": "markdown",
   "id": "020acb58",
   "metadata": {},
   "source": [
    "## Identifying the influence of outliers through histograms\n",
    "- Age series has nan values.Since there are no significant outliers in the age from the distribution curve, we can replace the NnN withmean also if we replace with mean we can make it more homogeneous distribution curve at the age mean of 29.6 years.\n",
    "- Cabin series which have only 204 non-null values.so we need not to consider Cabin series.\n"
   ]
  },
  {
   "cell_type": "code",
   "execution_count": 17,
   "id": "7e9d42dd",
   "metadata": {},
   "outputs": [
    {
     "data": {
      "text/plain": [
       "array([[<Axes: title={'center': 'Survived'}>,\n",
       "        <Axes: title={'center': 'Pclass'}>],\n",
       "       [<Axes: title={'center': 'Age'}>,\n",
       "        <Axes: title={'center': 'SibSp'}>],\n",
       "       [<Axes: title={'center': 'Parch'}>,\n",
       "        <Axes: title={'center': 'Fare'}>]], dtype=object)"
      ]
     },
     "execution_count": 17,
     "metadata": {},
     "output_type": "execute_result"
    },
    {
     "data": {
      "image/png": "[encoded data removed]",
      "text/plain": [
       "<Figure size 2000x2500 with 6 Axes>"
      ]
     },
     "metadata": {},
     "output_type": "display_data"
    }
   ],
   "source": [
    "tit_data.hist(bins=30,figsize=(20,25))"
   ]
  },
  {
   "cell_type": "code",
   "execution_count": 18,
   "id": "09ce43ae",
   "metadata": {},
   "outputs": [
    {
     "name": "stderr",
     "output_type": "stream",
     "text": [
      "C:\\Users\\saiye\\AppData\\Local\\Temp\\ipykernel_10860\\698477029.py:1: FutureWarning: The default value of numeric_only in DataFrame.corr is deprecated. In a future version, it will default to False. Select only valid columns or specify the value of numeric_only to silence this warning.\n",
      "  correlation_mat=tit_data.corr()\n"
     ]
    },
    {
     "data": {
      "text/plain": [
       "Survived    1.000000\n",
       "Pclass     -0.338481\n",
       "Age        -0.077221\n",
       "SibSp      -0.035322\n",
       "Parch       0.081629\n",
       "Fare        0.257307\n",
       "Name: Survived, dtype: float64"
      ]
     },
     "execution_count": 18,
     "metadata": {},
     "output_type": "execute_result"
    }
   ],
   "source": [
    "correlation_mat=tit_data.corr()\n",
    "correlation_mat[\"Survived\"]"
   ]
  },
  {
   "cell_type": "code",
   "execution_count": 19,
   "id": "3f9b9122",
   "metadata": {},
   "outputs": [
    {
     "data": {
      "text/plain": [
       "array([[<Axes: xlabel='Survived', ylabel='Survived'>,\n",
       "        <Axes: xlabel='Parch', ylabel='Survived'>,\n",
       "        <Axes: xlabel='Fare', ylabel='Survived'>],\n",
       "       [<Axes: xlabel='Survived', ylabel='Parch'>,\n",
       "        <Axes: xlabel='Parch', ylabel='Parch'>,\n",
       "        <Axes: xlabel='Fare', ylabel='Parch'>],\n",
       "       [<Axes: xlabel='Survived', ylabel='Fare'>,\n",
       "        <Axes: xlabel='Parch', ylabel='Fare'>,\n",
       "        <Axes: xlabel='Fare', ylabel='Fare'>]], dtype=object)"
      ]
     },
     "execution_count": 19,
     "metadata": {},
     "output_type": "execute_result"
    },
    {
     "data": {
      "image/png": "[encoded data removed]",
      "text/plain": [
       "<Figure size 2000x2500 with 9 Axes>"
      ]
     },
     "metadata": {},
     "output_type": "display_data"
    }
   ],
   "source": [
    "from pandas.plotting import scatter_matrix\n",
    "\n",
    "attributes=[\"Survived\",\"Parch\",\"Fare\"]\n",
    "scatter_matrix(tit_data[attributes],figsize=(20,25))"
   ]
  },
  {
   "cell_type": "code",
   "execution_count": 20,
   "id": "0e99c33d",
   "metadata": {},
   "outputs": [],
   "source": [
    "survival_target=tit_data[\"Survived\"]\n",
    "train_data=tit_data.drop([\"Survived\"],axis=1)\n"
   ]
  },
  {
   "cell_type": "markdown",
   "id": "88e588a2",
   "metadata": {},
   "source": [
    "# Data Preproecssing"
   ]
  },
  {
   "cell_type": "markdown",
   "id": "b9703b17",
   "metadata": {},
   "source": [
    "## Cleaning the data: Handling the Missing Values"
   ]
  },
  {
   "cell_type": "code",
   "execution_count": 21,
   "id": "1e4184c4",
   "metadata": {},
   "outputs": [
    {
     "data": {
      "text/html": [
       "<div>\n",
       "<style scoped>\n",
       "    .dataframe tbody tr th:only-of-type {\n",
       "        vertical-align: middle;\n",
       "    }\n",
       "\n",
       "    .dataframe tbody tr th {\n",
       "        vertical-align: top;\n",
       "    }\n",
       "\n",
       "    .dataframe thead th {\n",
       "        text-align: right;\n",
       "    }\n",
       "</style>\n",
       "<table border=\"1\" class=\"dataframe\">\n",
       "  <thead>\n",
       "    <tr style=\"text-align: right;\">\n",
       "      <th></th>\n",
       "      <th>Pclass</th>\n",
       "      <th>Name</th>\n",
       "      <th>Sex</th>\n",
       "      <th>Age</th>\n",
       "      <th>SibSp</th>\n",
       "      <th>Parch</th>\n",
       "      <th>Ticket</th>\n",
       "      <th>Fare</th>\n",
       "      <th>Cabin</th>\n",
       "      <th>Embarked</th>\n",
       "    </tr>\n",
       "    <tr>\n",
       "      <th>PassengerId</th>\n",
       "      <th></th>\n",
       "      <th></th>\n",
       "      <th></th>\n",
       "      <th></th>\n",
       "      <th></th>\n",
       "      <th></th>\n",
       "      <th></th>\n",
       "      <th></th>\n",
       "      <th></th>\n",
       "      <th></th>\n",
       "    </tr>\n",
       "  </thead>\n",
       "  <tbody>\n",
       "    <tr>\n",
       "      <th>6</th>\n",
       "      <td>3</td>\n",
       "      <td>Moran, Mr. James</td>\n",
       "      <td>male</td>\n",
       "      <td>NaN</td>\n",
       "      <td>0</td>\n",
       "      <td>0</td>\n",
       "      <td>330877</td>\n",
       "      <td>8.4583</td>\n",
       "      <td>NaN</td>\n",
       "      <td>Q</td>\n",
       "    </tr>\n",
       "    <tr>\n",
       "      <th>18</th>\n",
       "      <td>2</td>\n",
       "      <td>Williams, Mr. Charles Eugene</td>\n",
       "      <td>male</td>\n",
       "      <td>NaN</td>\n",
       "      <td>0</td>\n",
       "      <td>0</td>\n",
       "      <td>244373</td>\n",
       "      <td>13.0000</td>\n",
       "      <td>NaN</td>\n",
       "      <td>S</td>\n",
       "    </tr>\n",
       "    <tr>\n",
       "      <th>20</th>\n",
       "      <td>3</td>\n",
       "      <td>Masselmani, Mrs. Fatima</td>\n",
       "      <td>female</td>\n",
       "      <td>NaN</td>\n",
       "      <td>0</td>\n",
       "      <td>0</td>\n",
       "      <td>2649</td>\n",
       "      <td>7.2250</td>\n",
       "      <td>NaN</td>\n",
       "      <td>C</td>\n",
       "    </tr>\n",
       "    <tr>\n",
       "      <th>27</th>\n",
       "      <td>3</td>\n",
       "      <td>Emir, Mr. Farred Chehab</td>\n",
       "      <td>male</td>\n",
       "      <td>NaN</td>\n",
       "      <td>0</td>\n",
       "      <td>0</td>\n",
       "      <td>2631</td>\n",
       "      <td>7.2250</td>\n",
       "      <td>NaN</td>\n",
       "      <td>C</td>\n",
       "    </tr>\n",
       "    <tr>\n",
       "      <th>29</th>\n",
       "      <td>3</td>\n",
       "      <td>O'Dwyer, Miss. Ellen \"Nellie\"</td>\n",
       "      <td>female</td>\n",
       "      <td>NaN</td>\n",
       "      <td>0</td>\n",
       "      <td>0</td>\n",
       "      <td>330959</td>\n",
       "      <td>7.8792</td>\n",
       "      <td>NaN</td>\n",
       "      <td>Q</td>\n",
       "    </tr>\n",
       "    <tr>\n",
       "      <th>...</th>\n",
       "      <td>...</td>\n",
       "      <td>...</td>\n",
       "      <td>...</td>\n",
       "      <td>...</td>\n",
       "      <td>...</td>\n",
       "      <td>...</td>\n",
       "      <td>...</td>\n",
       "      <td>...</td>\n",
       "      <td>...</td>\n",
       "      <td>...</td>\n",
       "    </tr>\n",
       "    <tr>\n",
       "      <th>860</th>\n",
       "      <td>3</td>\n",
       "      <td>Razi, Mr. Raihed</td>\n",
       "      <td>male</td>\n",
       "      <td>NaN</td>\n",
       "      <td>0</td>\n",
       "      <td>0</td>\n",
       "      <td>2629</td>\n",
       "      <td>7.2292</td>\n",
       "      <td>NaN</td>\n",
       "      <td>C</td>\n",
       "    </tr>\n",
       "    <tr>\n",
       "      <th>864</th>\n",
       "      <td>3</td>\n",
       "      <td>Sage, Miss. Dorothy Edith \"Dolly\"</td>\n",
       "      <td>female</td>\n",
       "      <td>NaN</td>\n",
       "      <td>8</td>\n",
       "      <td>2</td>\n",
       "      <td>CA. 2343</td>\n",
       "      <td>69.5500</td>\n",
       "      <td>NaN</td>\n",
       "      <td>S</td>\n",
       "    </tr>\n",
       "    <tr>\n",
       "      <th>869</th>\n",
       "      <td>3</td>\n",
       "      <td>van Melkebeke, Mr. Philemon</td>\n",
       "      <td>male</td>\n",
       "      <td>NaN</td>\n",
       "      <td>0</td>\n",
       "      <td>0</td>\n",
       "      <td>345777</td>\n",
       "      <td>9.5000</td>\n",
       "      <td>NaN</td>\n",
       "      <td>S</td>\n",
       "    </tr>\n",
       "    <tr>\n",
       "      <th>879</th>\n",
       "      <td>3</td>\n",
       "      <td>Laleff, Mr. Kristo</td>\n",
       "      <td>male</td>\n",
       "      <td>NaN</td>\n",
       "      <td>0</td>\n",
       "      <td>0</td>\n",
       "      <td>349217</td>\n",
       "      <td>7.8958</td>\n",
       "      <td>NaN</td>\n",
       "      <td>S</td>\n",
       "    </tr>\n",
       "    <tr>\n",
       "      <th>889</th>\n",
       "      <td>3</td>\n",
       "      <td>Johnston, Miss. Catherine Helen \"Carrie\"</td>\n",
       "      <td>female</td>\n",
       "      <td>NaN</td>\n",
       "      <td>1</td>\n",
       "      <td>2</td>\n",
       "      <td>W./C. 6607</td>\n",
       "      <td>23.4500</td>\n",
       "      <td>NaN</td>\n",
       "      <td>S</td>\n",
       "    </tr>\n",
       "  </tbody>\n",
       "</table>\n",
       "<p>177 rows × 10 columns</p>\n",
       "</div>"
      ],
      "text/plain": [
       "             Pclass                                      Name     Sex  Age  \\\n",
       "PassengerId                                                                  \n",
       "6                 3                          Moran, Mr. James    male  NaN   \n",
       "18                2              Williams, Mr. Charles Eugene    male  NaN   \n",
       "20                3                   Masselmani, Mrs. Fatima  female  NaN   \n",
       "27                3                   Emir, Mr. Farred Chehab    male  NaN   \n",
       "29                3             O'Dwyer, Miss. Ellen \"Nellie\"  female  NaN   \n",
       "...             ...                                       ...     ...  ...   \n",
       "860               3                          Razi, Mr. Raihed    male  NaN   \n",
       "864               3         Sage, Miss. Dorothy Edith \"Dolly\"  female  NaN   \n",
       "869               3               van Melkebeke, Mr. Philemon    male  NaN   \n",
       "879               3                        Laleff, Mr. Kristo    male  NaN   \n",
       "889               3  Johnston, Miss. Catherine Helen \"Carrie\"  female  NaN   \n",
       "\n",
       "             SibSp  Parch      Ticket     Fare Cabin Embarked  \n",
       "PassengerId                                                    \n",
       "6                0      0      330877   8.4583   NaN        Q  \n",
       "18               0      0      244373  13.0000   NaN        S  \n",
       "20               0      0        2649   7.2250   NaN        C  \n",
       "27               0      0        2631   7.2250   NaN        C  \n",
       "29               0      0      330959   7.8792   NaN        Q  \n",
       "...            ...    ...         ...      ...   ...      ...  \n",
       "860              0      0        2629   7.2292   NaN        C  \n",
       "864              8      2    CA. 2343  69.5500   NaN        S  \n",
       "869              0      0      345777   9.5000   NaN        S  \n",
       "879              0      0      349217   7.8958   NaN        S  \n",
       "889              1      2  W./C. 6607  23.4500   NaN        S  \n",
       "\n",
       "[177 rows x 10 columns]"
      ]
     },
     "execution_count": 21,
     "metadata": {},
     "output_type": "execute_result"
    }
   ],
   "source": [
    "\n",
    "train_data[train_data[\"Age\"].isnull()]\n"
   ]
  },
  {
   "cell_type": "code",
   "execution_count": 22,
   "id": "a6a9fc9b",
   "metadata": {},
   "outputs": [],
   "source": [
    "num_train_data=train_data.drop([\"Name\",\"Sex\",\"Ticket\",\"Cabin\",\"Embarked\",\"Pclass\"],axis=1)"
   ]
  },
  {
   "cell_type": "code",
   "execution_count": 23,
   "id": "50045103",
   "metadata": {},
   "outputs": [],
   "source": [
    "from sklearn.preprocessing import FunctionTransformer\n",
    "\n",
    "def replace_fare_zeros_with_nan(data):\n",
    "    \"\"\"\n",
    "    Replace the zeros in fare series with nan values\"\"\"\n",
    "    data1=data.copy()\n",
    "    data1[\"Fare\"]=data1[\"Fare\"].replace(0,np.nan)\n",
    "    return data1\n"
   ]
  },
  {
   "cell_type": "code",
   "execution_count": 24,
   "id": "a3e95b3e",
   "metadata": {},
   "outputs": [],
   "source": [
    "def log_fare1(data):\n",
    "    fare_col=3\n",
    "    data1=data.copy()\n",
    "    data1[fare_col]=np.log(data1[fare_col]+ 1e-6) \n",
    "    return data1\n",
    "# expected output of fare after num_pipeline \n",
    "log_fare=num_train_data[\"Fare\"].apply(lambda df: np.log(df))"
   ]
  },
  {
   "cell_type": "code",
   "execution_count": 25,
   "id": "f8c57363",
   "metadata": {},
   "outputs": [],
   "source": [
    "from sklearn.base import BaseEstimator,TransformerMixin\n",
    "\n",
    "from sklearn.utils import check_array\n",
    "from sklearn.utils.validation import check_is_fitted\n",
    "#creating own StandardScalar transformer\n",
    "\n",
    "class StandardScalerClone(BaseEstimator,TransformerMixin):\n",
    "    def __init__(self,with_mean=True):\n",
    "        self.with_mean=with_mean\n",
    "        \n",
    "    def fit(self,data,y=None):\n",
    "        self.mean_=data.mean(axis=0)\n",
    "        self.std_=data.std(axis=0)\n",
    "        self.n_features_in_=data.shape[1]# every estimator stores self.n_features_in\n",
    "        return self\n",
    "        \n",
    "    def transform(self,data):\n",
    "        \"\"\"Standardize the data by converting to numpy array\"\"\"\n",
    "        # convert sparese/df to numpy array,checks input to be a \n",
    "        #non-empty 2d array target y is 1d arraty with finite values.\n",
    "        check_is_fitted(self)\n",
    "        data=check_array(data) \n",
    "        assert self.n_features_in_==data.shape[1]\n",
    "        if self.with_mean:\n",
    "            data=(data-self.mean_)\n",
    "        return (data/self.std_)\n"
   ]
  },
  {
   "cell_type": "markdown",
   "id": "50eacae1",
   "metadata": {},
   "source": [
    "# Setup numeric pipeline for preprocessing numerical features"
   ]
  },
  {
   "cell_type": "code",
   "execution_count": 26,
   "id": "299fcd24",
   "metadata": {},
   "outputs": [],
   "source": [
    "from sklearn.impute import SimpleImputer\n",
    "from sklearn.pipeline import Pipeline\n",
    "from sklearn.preprocessing import StandardScaler\n",
    "from sklearn.preprocessing import FunctionTransformer\n",
    "\n",
    "from sklearn.compose import ColumnTransformer\n",
    "from sklearn.preprocessing import OneHotEncoder"
   ]
  },
  {
   "cell_type": "code",
   "execution_count": 27,
   "id": "5b2e72f2",
   "metadata": {},
   "outputs": [],
   "source": [
    "num_train_data_attributes=num_train_data.columns\n",
    "num_pipeline=Pipeline([\n",
    "                        (\"replace_fare_zeros\",FunctionTransformer(replace_fare_zeros_with_nan)),\n",
    "                        (\"imputer\",SimpleImputer(strategy=\"mean\")),\n",
    "                        (\"fare_log\",FunctionTransformer(log_fare1)),\n",
    "                        (\"scaler\",StandardScalerClone())\n",
    "                       ])\n"
   ]
  },
  {
   "cell_type": "code",
   "execution_count": 28,
   "id": "a24bf432",
   "metadata": {},
   "outputs": [],
   "source": [
    "numpreprocessed_train_data=num_pipeline.fit_transform(num_train_data)"
   ]
  },
  {
   "cell_type": "code",
   "execution_count": 29,
   "id": "ea579400",
   "metadata": {},
   "outputs": [],
   "source": [
    "check_is_fitted(num_pipeline.named_steps[\"scaler\"])"
   ]
  },
  {
   "cell_type": "code",
   "execution_count": 30,
   "id": "8f991212",
   "metadata": {},
   "outputs": [
    {
     "data": {
      "image/png": "[encoded data removed]",
      "text/plain": [
       "<Figure size 1200x400 with 2 Axes>"
      ]
     },
     "metadata": {},
     "output_type": "display_data"
    },
    {
     "data": {
      "image/png": "[encoded data removed]",
      "text/plain": [
       "<Figure size 1200x400 with 2 Axes>"
      ]
     },
     "metadata": {},
     "output_type": "display_data"
    },
    {
     "data": {
      "image/png": "[encoded data removed]",
      "text/plain": [
       "<Figure size 1200x400 with 2 Axes>"
      ]
     },
     "metadata": {},
     "output_type": "display_data"
    },
    {
     "data": {
      "image/png": "[encoded data removed]",
      "text/plain": [
       "<Figure size 1200x400 with 2 Axes>"
      ]
     },
     "metadata": {},
     "output_type": "display_data"
    }
   ],
   "source": [
    "num_df=pd.DataFrame(numpreprocessed_train_data,columns=num_train_data.columns)\n",
    "num_df.columns\n",
    "\n",
    "for feature in num_df.columns:\n",
    "    num_dist(num_df,feature)\n",
    "    "
   ]
  },
  {
   "cell_type": "code",
   "execution_count": 31,
   "id": "023db61c",
   "metadata": {},
   "outputs": [
    {
     "data": {
      "text/html": [
       "<div>\n",
       "<style scoped>\n",
       "    .dataframe tbody tr th:only-of-type {\n",
       "        vertical-align: middle;\n",
       "    }\n",
       "\n",
       "    .dataframe tbody tr th {\n",
       "        vertical-align: top;\n",
       "    }\n",
       "\n",
       "    .dataframe thead th {\n",
       "        text-align: right;\n",
       "    }\n",
       "</style>\n",
       "<table border=\"1\" class=\"dataframe\">\n",
       "  <thead>\n",
       "    <tr style=\"text-align: right;\">\n",
       "      <th></th>\n",
       "      <th>Age</th>\n",
       "      <th>SibSp</th>\n",
       "      <th>Parch</th>\n",
       "      <th>Fare</th>\n",
       "    </tr>\n",
       "  </thead>\n",
       "  <tbody>\n",
       "  </tbody>\n",
       "</table>\n",
       "</div>"
      ],
      "text/plain": [
       "Empty DataFrame\n",
       "Columns: [Age, SibSp, Parch, Fare]\n",
       "Index: []"
      ]
     },
     "execution_count": 31,
     "metadata": {},
     "output_type": "execute_result"
    }
   ],
   "source": [
    "# no null values in preprocessed data\n",
    "num_df[num_df[\"Age\"].isnull()]\n",
    "# at  the same time all cols are scaled."
   ]
  },
  {
   "cell_type": "code",
   "execution_count": 32,
   "id": "e1906ac5",
   "metadata": {},
   "outputs": [
    {
     "data": {
      "text/plain": [
       "<Axes: xlabel='Fare', ylabel='Count'>"
      ]
     },
     "execution_count": 32,
     "metadata": {},
     "output_type": "execute_result"
    },
    {
     "data": {
      "image/png": "[encoded data removed]",
      "text/plain": [
       "<Figure size 640x480 with 1 Axes>"
      ]
     },
     "metadata": {},
     "output_type": "display_data"
    }
   ],
   "source": [
    "sns.histplot(data=num_df,kde=True, x=\"Fare\")"
   ]
  },
  {
   "cell_type": "code",
   "execution_count": 33,
   "id": "5025568a",
   "metadata": {},
   "outputs": [
    {
     "data": {
      "text/html": [
       "<style>#sk-container-id-1 {color: black;background-color: white;}#sk-container-id-1 pre{padding: 0;}#sk-container-id-1 div.sk-toggleable {background-color: white;}#sk-container-id-1 label.sk-toggleable__label {cursor: pointer;display: block;width: 100%;margin-bottom: 0;padding: 0.3em;box-sizing: border-box;text-align: center;}#sk-container-id-1 label.sk-toggleable__label-arrow:before {content: \"▸\";float: left;margin-right: 0.25em;color: #696969;}#sk-container-id-1 label.sk-toggleable__label-arrow:hover:before {color: black;}#sk-container-id-1 div.sk-estimator:hover label.sk-toggleable__label-arrow:before {color: black;}#sk-container-id-1 div.sk-toggleable__content {max-height: 0;max-width: 0;overflow: hidden;text-align: left;background-color: #f0f8ff;}#sk-container-id-1 div.sk-toggleable__content pre {margin: 0.2em;color: black;border-radius: 0.25em;background-color: #f0f8ff;}#sk-container-id-1 input.sk-toggleable__control:checked~div.sk-toggleable__content {max-height: 200px;max-width: 100%;overflow: auto;}#sk-container-id-1 input.sk-toggleable__control:checked~label.sk-toggleable__label-arrow:before {content: \"▾\";}#sk-container-id-1 div.sk-estimator input.sk-toggleable__control:checked~label.sk-toggleable__label {background-color: #d4ebff;}#sk-container-id-1 div.sk-label input.sk-toggleable__control:checked~label.sk-toggleable__label {background-color: #d4ebff;}#sk-container-id-1 input.sk-hidden--visually {border: 0;clip: rect(1px 1px 1px 1px);clip: rect(1px, 1px, 1px, 1px);height: 1px;margin: -1px;overflow: hidden;padding: 0;position: absolute;width: 1px;}#sk-container-id-1 div.sk-estimator {font-family: monospace;background-color: #f0f8ff;border: 1px dotted black;border-radius: 0.25em;box-sizing: border-box;margin-bottom: 0.5em;}#sk-container-id-1 div.sk-estimator:hover {background-color: #d4ebff;}#sk-container-id-1 div.sk-parallel-item::after {content: \"\";width: 100%;border-bottom: 1px solid gray;flex-grow: 1;}#sk-container-id-1 div.sk-label:hover label.sk-toggleable__label {background-color: #d4ebff;}#sk-container-id-1 div.sk-serial::before {content: \"\";position: absolute;border-left: 1px solid gray;box-sizing: border-box;top: 0;bottom: 0;left: 50%;z-index: 0;}#sk-container-id-1 div.sk-serial {display: flex;flex-direction: column;align-items: center;background-color: white;padding-right: 0.2em;padding-left: 0.2em;position: relative;}#sk-container-id-1 div.sk-item {position: relative;z-index: 1;}#sk-container-id-1 div.sk-parallel {display: flex;align-items: stretch;justify-content: center;background-color: white;position: relative;}#sk-container-id-1 div.sk-item::before, #sk-container-id-1 div.sk-parallel-item::before {content: \"\";position: absolute;border-left: 1px solid gray;box-sizing: border-box;top: 0;bottom: 0;left: 50%;z-index: -1;}#sk-container-id-1 div.sk-parallel-item {display: flex;flex-direction: column;z-index: 1;position: relative;background-color: white;}#sk-container-id-1 div.sk-parallel-item:first-child::after {align-self: flex-end;width: 50%;}#sk-container-id-1 div.sk-parallel-item:last-child::after {align-self: flex-start;width: 50%;}#sk-container-id-1 div.sk-parallel-item:only-child::after {width: 0;}#sk-container-id-1 div.sk-dashed-wrapped {border: 1px dashed gray;margin: 0 0.4em 0.5em 0.4em;box-sizing: border-box;padding-bottom: 0.4em;background-color: white;}#sk-container-id-1 div.sk-label label {font-family: monospace;font-weight: bold;display: inline-block;line-height: 1.2em;}#sk-container-id-1 div.sk-label-container {text-align: center;}#sk-container-id-1 div.sk-container {/* jupyter's `normalize.less` sets `[hidden] { display: none; }` but bootstrap.min.css set `[hidden] { display: none !important; }` so we also need the `!important` here to be able to override the default hidden behavior on the sphinx rendered scikit-learn.org. See: https://github.com/scikit-learn/scikit-learn/issues/21755 */display: inline-block !important;position: relative;}#sk-container-id-1 div.sk-text-repr-fallback {display: none;}</style><div id=\"sk-container-id-1\" class=\"sk-top-container\"><div class=\"sk-text-repr-fallback\"><pre>Pipeline(steps=[(&#x27;replace_fare_zeros&#x27;,\n",
       "                 FunctionTransformer(func=&lt;function replace_fare_zeros_with_nan at 0x00000191BC311000&gt;)),\n",
       "                (&#x27;imputer&#x27;, SimpleImputer()),\n",
       "                (&#x27;fare_log&#x27;,\n",
       "                 FunctionTransformer(func=&lt;function log_fare1 at 0x00000191BC310820&gt;)),\n",
       "                (&#x27;scaler&#x27;, StandardScalerClone())])</pre><b>In a Jupyter environment, please rerun this cell to show the HTML representation or trust the notebook. <br />On GitHub, the HTML representation is unable to render, please try loading this page with nbviewer.org.</b></div><div class=\"sk-container\" hidden><div class=\"sk-item sk-dashed-wrapped\"><div class=\"sk-label-container\"><div class=\"sk-label sk-toggleable\"><input class=\"sk-toggleable__control sk-hidden--visually\" id=\"sk-estimator-id-1\" type=\"checkbox\" ><label for=\"sk-estimator-id-1\" class=\"sk-toggleable__label sk-toggleable__label-arrow\">Pipeline</label><div class=\"sk-toggleable__content\"><pre>Pipeline(steps=[(&#x27;replace_fare_zeros&#x27;,\n",
       "                 FunctionTransformer(func=&lt;function replace_fare_zeros_with_nan at 0x00000191BC311000&gt;)),\n",
       "                (&#x27;imputer&#x27;, SimpleImputer()),\n",
       "                (&#x27;fare_log&#x27;,\n",
       "                 FunctionTransformer(func=&lt;function log_fare1 at 0x00000191BC310820&gt;)),\n",
       "                (&#x27;scaler&#x27;, StandardScalerClone())])</pre></div></div></div><div class=\"sk-serial\"><div class=\"sk-item\"><div class=\"sk-estimator sk-toggleable\"><input class=\"sk-toggleable__control sk-hidden--visually\" id=\"sk-estimator-id-2\" type=\"checkbox\" ><label for=\"sk-estimator-id-2\" class=\"sk-toggleable__label sk-toggleable__label-arrow\">FunctionTransformer</label><div class=\"sk-toggleable__content\"><pre>FunctionTransformer(func=&lt;function replace_fare_zeros_with_nan at 0x00000191BC311000&gt;)</pre></div></div></div><div class=\"sk-item\"><div class=\"sk-estimator sk-toggleable\"><input class=\"sk-toggleable__control sk-hidden--visually\" id=\"sk-estimator-id-3\" type=\"checkbox\" ><label for=\"sk-estimator-id-3\" class=\"sk-toggleable__label sk-toggleable__label-arrow\">SimpleImputer</label><div class=\"sk-toggleable__content\"><pre>SimpleImputer()</pre></div></div></div><div class=\"sk-item\"><div class=\"sk-estimator sk-toggleable\"><input class=\"sk-toggleable__control sk-hidden--visually\" id=\"sk-estimator-id-4\" type=\"checkbox\" ><label for=\"sk-estimator-id-4\" class=\"sk-toggleable__label sk-toggleable__label-arrow\">FunctionTransformer</label><div class=\"sk-toggleable__content\"><pre>FunctionTransformer(func=&lt;function log_fare1 at 0x00000191BC310820&gt;)</pre></div></div></div><div class=\"sk-item\"><div class=\"sk-estimator sk-toggleable\"><input class=\"sk-toggleable__control sk-hidden--visually\" id=\"sk-estimator-id-5\" type=\"checkbox\" ><label for=\"sk-estimator-id-5\" class=\"sk-toggleable__label sk-toggleable__label-arrow\">StandardScalerClone</label><div class=\"sk-toggleable__content\"><pre>StandardScalerClone()</pre></div></div></div></div></div></div></div>"
      ],
      "text/plain": [
       "Pipeline(steps=[('replace_fare_zeros',\n",
       "                 FunctionTransformer(func=<function replace_fare_zeros_with_nan at 0x00000191BC311000>)),\n",
       "                ('imputer', SimpleImputer()),\n",
       "                ('fare_log',\n",
       "                 FunctionTransformer(func=<function log_fare1 at 0x00000191BC310820>)),\n",
       "                ('scaler', StandardScalerClone())])"
      ]
     },
     "execution_count": 33,
     "metadata": {},
     "output_type": "execute_result"
    }
   ],
   "source": [
    "num_pipeline"
   ]
  },
  {
   "cell_type": "code",
   "execution_count": null,
   "id": "4e15d55f",
   "metadata": {},
   "outputs": [],
   "source": [
    "\n",
    "\n",
    "\n",
    "\n",
    "\n"
   ]
  },
  {
   "cell_type": "markdown",
   "id": "fc0cfbb4",
   "metadata": {},
   "source": [
    "# Setup categorical pipeline for categorical features"
   ]
  },
  {
   "cell_type": "code",
   "execution_count": 34,
   "id": "91a7991e",
   "metadata": {},
   "outputs": [],
   "source": [
    "cat_attribs=[\"Pclass\",\"Sex\",\"Embarked\"]\n",
    "cat_train_data=train_data[cat_attribs]\n",
    "null_embarked=cat_train_data[\"Embarked\"][cat_train_data[\"Embarked\"].isnull()]\n"
   ]
  },
  {
   "cell_type": "code",
   "execution_count": 35,
   "id": "60f2d0f5",
   "metadata": {},
   "outputs": [],
   "source": [
    "from sklearn.preprocessing import OneHotEncoder\n",
    "cat_pipeline=Pipeline([\n",
    "                    (\"imputer\",SimpleImputer(strategy=\"most_frequent\")),\n",
    "                    (\"cat_encoder\",OneHotEncoder())\n",
    "                      ])"
   ]
  },
  {
   "cell_type": "code",
   "execution_count": 36,
   "id": "c0e6f1d9",
   "metadata": {},
   "outputs": [
    {
     "data": {
      "text/html": [
       "<style>#sk-container-id-2 {color: black;background-color: white;}#sk-container-id-2 pre{padding: 0;}#sk-container-id-2 div.sk-toggleable {background-color: white;}#sk-container-id-2 label.sk-toggleable__label {cursor: pointer;display: block;width: 100%;margin-bottom: 0;padding: 0.3em;box-sizing: border-box;text-align: center;}#sk-container-id-2 label.sk-toggleable__label-arrow:before {content: \"▸\";float: left;margin-right: 0.25em;color: #696969;}#sk-container-id-2 label.sk-toggleable__label-arrow:hover:before {color: black;}#sk-container-id-2 div.sk-estimator:hover label.sk-toggleable__label-arrow:before {color: black;}#sk-container-id-2 div.sk-toggleable__content {max-height: 0;max-width: 0;overflow: hidden;text-align: left;background-color: #f0f8ff;}#sk-container-id-2 div.sk-toggleable__content pre {margin: 0.2em;color: black;border-radius: 0.25em;background-color: #f0f8ff;}#sk-container-id-2 input.sk-toggleable__control:checked~div.sk-toggleable__content {max-height: 200px;max-width: 100%;overflow: auto;}#sk-container-id-2 input.sk-toggleable__control:checked~label.sk-toggleable__label-arrow:before {content: \"▾\";}#sk-container-id-2 div.sk-estimator input.sk-toggleable__control:checked~label.sk-toggleable__label {background-color: #d4ebff;}#sk-container-id-2 div.sk-label input.sk-toggleable__control:checked~label.sk-toggleable__label {background-color: #d4ebff;}#sk-container-id-2 input.sk-hidden--visually {border: 0;clip: rect(1px 1px 1px 1px);clip: rect(1px, 1px, 1px, 1px);height: 1px;margin: -1px;overflow: hidden;padding: 0;position: absolute;width: 1px;}#sk-container-id-2 div.sk-estimator {font-family: monospace;background-color: #f0f8ff;border: 1px dotted black;border-radius: 0.25em;box-sizing: border-box;margin-bottom: 0.5em;}#sk-container-id-2 div.sk-estimator:hover {background-color: #d4ebff;}#sk-container-id-2 div.sk-parallel-item::after {content: \"\";width: 100%;border-bottom: 1px solid gray;flex-grow: 1;}#sk-container-id-2 div.sk-label:hover label.sk-toggleable__label {background-color: #d4ebff;}#sk-container-id-2 div.sk-serial::before {content: \"\";position: absolute;border-left: 1px solid gray;box-sizing: border-box;top: 0;bottom: 0;left: 50%;z-index: 0;}#sk-container-id-2 div.sk-serial {display: flex;flex-direction: column;align-items: center;background-color: white;padding-right: 0.2em;padding-left: 0.2em;position: relative;}#sk-container-id-2 div.sk-item {position: relative;z-index: 1;}#sk-container-id-2 div.sk-parallel {display: flex;align-items: stretch;justify-content: center;background-color: white;position: relative;}#sk-container-id-2 div.sk-item::before, #sk-container-id-2 div.sk-parallel-item::before {content: \"\";position: absolute;border-left: 1px solid gray;box-sizing: border-box;top: 0;bottom: 0;left: 50%;z-index: -1;}#sk-container-id-2 div.sk-parallel-item {display: flex;flex-direction: column;z-index: 1;position: relative;background-color: white;}#sk-container-id-2 div.sk-parallel-item:first-child::after {align-self: flex-end;width: 50%;}#sk-container-id-2 div.sk-parallel-item:last-child::after {align-self: flex-start;width: 50%;}#sk-container-id-2 div.sk-parallel-item:only-child::after {width: 0;}#sk-container-id-2 div.sk-dashed-wrapped {border: 1px dashed gray;margin: 0 0.4em 0.5em 0.4em;box-sizing: border-box;padding-bottom: 0.4em;background-color: white;}#sk-container-id-2 div.sk-label label {font-family: monospace;font-weight: bold;display: inline-block;line-height: 1.2em;}#sk-container-id-2 div.sk-label-container {text-align: center;}#sk-container-id-2 div.sk-container {/* jupyter's `normalize.less` sets `[hidden] { display: none; }` but bootstrap.min.css set `[hidden] { display: none !important; }` so we also need the `!important` here to be able to override the default hidden behavior on the sphinx rendered scikit-learn.org. See: https://github.com/scikit-learn/scikit-learn/issues/21755 */display: inline-block !important;position: relative;}#sk-container-id-2 div.sk-text-repr-fallback {display: none;}</style><div id=\"sk-container-id-2\" class=\"sk-top-container\"><div class=\"sk-text-repr-fallback\"><pre>OneHotEncoder()</pre><b>In a Jupyter environment, please rerun this cell to show the HTML representation or trust the notebook. <br />On GitHub, the HTML representation is unable to render, please try loading this page with nbviewer.org.</b></div><div class=\"sk-container\" hidden><div class=\"sk-item\"><div class=\"sk-estimator sk-toggleable\"><input class=\"sk-toggleable__control sk-hidden--visually\" id=\"sk-estimator-id-6\" type=\"checkbox\" checked><label for=\"sk-estimator-id-6\" class=\"sk-toggleable__label sk-toggleable__label-arrow\">OneHotEncoder</label><div class=\"sk-toggleable__content\"><pre>OneHotEncoder()</pre></div></div></div></div></div>"
      ],
      "text/plain": [
       "OneHotEncoder()"
      ]
     },
     "execution_count": 36,
     "metadata": {},
     "output_type": "execute_result"
    }
   ],
   "source": [
    "catpreprocessed_train_data=cat_pipeline.fit_transform(cat_train_data)\n",
    "cat_pipeline.named_steps[\"cat_encoder\"]"
   ]
  },
  {
   "cell_type": "code",
   "execution_count": 37,
   "id": "e002bc06",
   "metadata": {},
   "outputs": [
    {
     "data": {
      "text/plain": [
       "[array([1, 2, 3], dtype=object),\n",
       " array(['female', 'male'], dtype=object),\n",
       " array(['C', 'Q', 'S'], dtype=object)]"
      ]
     },
     "execution_count": 37,
     "metadata": {},
     "output_type": "execute_result"
    }
   ],
   "source": [
    "cat_pipeline.named_steps[\"cat_encoder\"].categories_"
   ]
  },
  {
   "cell_type": "code",
   "execution_count": null,
   "id": "9266bd79",
   "metadata": {},
   "outputs": [],
   "source": [
    "tot_list=[]\n",
    "for arr in encoded_feature_names:\n",
    "    tot_list=tot_list+list(arr)\n",
    "tot_list"
   ]
  },
  {
   "cell_type": "code",
   "execution_count": null,
   "id": "31d8d0a1",
   "metadata": {},
   "outputs": [],
   "source": [
    "catpreprocessed_train_data = cat_pipeline.fit_transform(cat_train_data)\n",
    "encoded_feature_names = cat_pipeline.named_steps[\"cat_encoder\"].categories_[0]\n",
    "cat_df = pd.DataFrame(catpreprocessed_train_data.toarray(), columns=tot_list)\n",
    "cat_df"
   ]
  },
  {
   "cell_type": "markdown",
   "id": "2acf9df1",
   "metadata": {},
   "source": [
    "# Setup full pipeline for data preprocessing data"
   ]
  },
  {
   "cell_type": "code",
   "execution_count": null,
   "id": "b0fcdeb4",
   "metadata": {},
   "outputs": [],
   "source": [
    "from sklearn.compose import ColumnTransformer\n",
    "from sklearn.preprocessing import OneHotEncoder"
   ]
  },
  {
   "cell_type": "code",
   "execution_count": null,
   "id": "64d1fda1",
   "metadata": {},
   "outputs": [],
   "source": [
    "num_train_data_attributes=list(num_train_data.columns)\n",
    "num_train_data_attributes"
   ]
  },
  {
   "cell_type": "code",
   "execution_count": 39,
   "id": "1470dc3f",
   "metadata": {},
   "outputs": [],
   "source": [
    "# inference: we havent considered name and ticket because it doesnt contribute much to our survival analysis.\n",
    "# It only adds up more unique elements unnecessarily for categorical encoder.\n",
    "# 204/891 travellers has only mentioned their cabin.remaining are nan values.So we cant infer much from that using the model\n",
    "# So we could also ignore Cabin feature.\n",
    "cat_attribs=[\"Pclass\",\"Sex\",\"Embarked\"]\n",
    "num_train_data_attributes=list(num_train_data.columns)\n",
    "full_pipeline=ColumnTransformer([\n",
    "                (\"num\",num_pipeline,num_train_data_attributes),\n",
    "                (\"cat\",cat_pipeline,cat_attribs)\n",
    "                ])"
   ]
  },
  {
   "cell_type": "code",
   "execution_count": 40,
   "id": "f58654d4",
   "metadata": {},
   "outputs": [],
   "source": [
    "preprocessed_train_data=full_pipeline.fit_transform(train_data)"
   ]
  },
  {
   "cell_type": "code",
   "execution_count": 41,
   "id": "0a597df1",
   "metadata": {},
   "outputs": [
    {
     "data": {
      "text/html": [
       "<div>\n",
       "<style scoped>\n",
       "    .dataframe tbody tr th:only-of-type {\n",
       "        vertical-align: middle;\n",
       "    }\n",
       "\n",
       "    .dataframe tbody tr th {\n",
       "        vertical-align: top;\n",
       "    }\n",
       "\n",
       "    .dataframe thead th {\n",
       "        text-align: right;\n",
       "    }\n",
       "</style>\n",
       "<table border=\"1\" class=\"dataframe\">\n",
       "  <thead>\n",
       "    <tr style=\"text-align: right;\">\n",
       "      <th></th>\n",
       "      <th>0</th>\n",
       "      <th>1</th>\n",
       "      <th>2</th>\n",
       "      <th>3</th>\n",
       "      <th>4</th>\n",
       "      <th>5</th>\n",
       "      <th>6</th>\n",
       "      <th>7</th>\n",
       "      <th>8</th>\n",
       "      <th>9</th>\n",
       "      <th>10</th>\n",
       "      <th>11</th>\n",
       "    </tr>\n",
       "  </thead>\n",
       "  <tbody>\n",
       "    <tr>\n",
       "      <th>0</th>\n",
       "      <td>-0.588487</td>\n",
       "      <td>0.433803</td>\n",
       "      <td>-0.391407</td>\n",
       "      <td>-0.514244</td>\n",
       "      <td>0.0</td>\n",
       "      <td>0.0</td>\n",
       "      <td>1.0</td>\n",
       "      <td>0.0</td>\n",
       "      <td>1.0</td>\n",
       "      <td>0.0</td>\n",
       "      <td>0.0</td>\n",
       "      <td>1.0</td>\n",
       "    </tr>\n",
       "    <tr>\n",
       "      <th>1</th>\n",
       "      <td>0.640115</td>\n",
       "      <td>0.433803</td>\n",
       "      <td>-0.391407</td>\n",
       "      <td>0.779590</td>\n",
       "      <td>1.0</td>\n",
       "      <td>0.0</td>\n",
       "      <td>0.0</td>\n",
       "      <td>1.0</td>\n",
       "      <td>0.0</td>\n",
       "      <td>1.0</td>\n",
       "      <td>0.0</td>\n",
       "      <td>0.0</td>\n",
       "    </tr>\n",
       "    <tr>\n",
       "      <th>2</th>\n",
       "      <td>-0.281336</td>\n",
       "      <td>-0.473517</td>\n",
       "      <td>-0.391407</td>\n",
       "      <td>-0.500605</td>\n",
       "      <td>0.0</td>\n",
       "      <td>0.0</td>\n",
       "      <td>1.0</td>\n",
       "      <td>1.0</td>\n",
       "      <td>0.0</td>\n",
       "      <td>0.0</td>\n",
       "      <td>0.0</td>\n",
       "      <td>1.0</td>\n",
       "    </tr>\n",
       "    <tr>\n",
       "      <th>3</th>\n",
       "      <td>-2.004807</td>\n",
       "      <td>-0.473516</td>\n",
       "      <td>-15.162409</td>\n",
       "      <td>-0.580475</td>\n",
       "      <td>1.0</td>\n",
       "      <td>0.0</td>\n",
       "      <td>0.0</td>\n",
       "      <td>1.0</td>\n",
       "      <td>0.0</td>\n",
       "      <td>0.0</td>\n",
       "      <td>0.0</td>\n",
       "      <td>1.0</td>\n",
       "    </tr>\n",
       "    <tr>\n",
       "      <th>4</th>\n",
       "      <td>0.409752</td>\n",
       "      <td>-0.473517</td>\n",
       "      <td>-0.391407</td>\n",
       "      <td>-0.498080</td>\n",
       "      <td>0.0</td>\n",
       "      <td>0.0</td>\n",
       "      <td>1.0</td>\n",
       "      <td>0.0</td>\n",
       "      <td>1.0</td>\n",
       "      <td>0.0</td>\n",
       "      <td>0.0</td>\n",
       "      <td>1.0</td>\n",
       "    </tr>\n",
       "    <tr>\n",
       "      <th>...</th>\n",
       "      <td>...</td>\n",
       "      <td>...</td>\n",
       "      <td>...</td>\n",
       "      <td>...</td>\n",
       "      <td>...</td>\n",
       "      <td>...</td>\n",
       "      <td>...</td>\n",
       "      <td>...</td>\n",
       "      <td>...</td>\n",
       "      <td>...</td>\n",
       "      <td>...</td>\n",
       "      <td>...</td>\n",
       "    </tr>\n",
       "    <tr>\n",
       "      <th>886</th>\n",
       "      <td>-0.204549</td>\n",
       "      <td>-0.473517</td>\n",
       "      <td>-0.391407</td>\n",
       "      <td>-0.398062</td>\n",
       "      <td>0.0</td>\n",
       "      <td>1.0</td>\n",
       "      <td>0.0</td>\n",
       "      <td>0.0</td>\n",
       "      <td>1.0</td>\n",
       "      <td>0.0</td>\n",
       "      <td>0.0</td>\n",
       "      <td>1.0</td>\n",
       "    </tr>\n",
       "    <tr>\n",
       "      <th>887</th>\n",
       "      <td>-0.818849</td>\n",
       "      <td>-0.473517</td>\n",
       "      <td>-0.391407</td>\n",
       "      <td>-0.054566</td>\n",
       "      <td>1.0</td>\n",
       "      <td>0.0</td>\n",
       "      <td>0.0</td>\n",
       "      <td>1.0</td>\n",
       "      <td>0.0</td>\n",
       "      <td>0.0</td>\n",
       "      <td>0.0</td>\n",
       "      <td>1.0</td>\n",
       "    </tr>\n",
       "    <tr>\n",
       "      <th>888</th>\n",
       "      <td>0.002710</td>\n",
       "      <td>0.433803</td>\n",
       "      <td>1.746915</td>\n",
       "      <td>-0.186913</td>\n",
       "      <td>0.0</td>\n",
       "      <td>0.0</td>\n",
       "      <td>1.0</td>\n",
       "      <td>1.0</td>\n",
       "      <td>0.0</td>\n",
       "      <td>0.0</td>\n",
       "      <td>0.0</td>\n",
       "      <td>1.0</td>\n",
       "    </tr>\n",
       "    <tr>\n",
       "      <th>889</th>\n",
       "      <td>-0.281336</td>\n",
       "      <td>-0.473517</td>\n",
       "      <td>-0.391407</td>\n",
       "      <td>-0.054566</td>\n",
       "      <td>1.0</td>\n",
       "      <td>0.0</td>\n",
       "      <td>0.0</td>\n",
       "      <td>0.0</td>\n",
       "      <td>1.0</td>\n",
       "      <td>1.0</td>\n",
       "      <td>0.0</td>\n",
       "      <td>0.0</td>\n",
       "    </tr>\n",
       "    <tr>\n",
       "      <th>890</th>\n",
       "      <td>0.179389</td>\n",
       "      <td>-0.473517</td>\n",
       "      <td>-0.391407</td>\n",
       "      <td>-0.504141</td>\n",
       "      <td>0.0</td>\n",
       "      <td>0.0</td>\n",
       "      <td>1.0</td>\n",
       "      <td>0.0</td>\n",
       "      <td>1.0</td>\n",
       "      <td>0.0</td>\n",
       "      <td>1.0</td>\n",
       "      <td>0.0</td>\n",
       "    </tr>\n",
       "  </tbody>\n",
       "</table>\n",
       "<p>891 rows × 12 columns</p>\n",
       "</div>"
      ],
      "text/plain": [
       "           0         1          2         3    4    5    6    7    8    9   \\\n",
       "0   -0.588487  0.433803  -0.391407 -0.514244  0.0  0.0  1.0  0.0  1.0  0.0   \n",
       "1    0.640115  0.433803  -0.391407  0.779590  1.0  0.0  0.0  1.0  0.0  1.0   \n",
       "2   -0.281336 -0.473517  -0.391407 -0.500605  0.0  0.0  1.0  1.0  0.0  0.0   \n",
       "3   -2.004807 -0.473516 -15.162409 -0.580475  1.0  0.0  0.0  1.0  0.0  0.0   \n",
       "4    0.409752 -0.473517  -0.391407 -0.498080  0.0  0.0  1.0  0.0  1.0  0.0   \n",
       "..        ...       ...        ...       ...  ...  ...  ...  ...  ...  ...   \n",
       "886 -0.204549 -0.473517  -0.391407 -0.398062  0.0  1.0  0.0  0.0  1.0  0.0   \n",
       "887 -0.818849 -0.473517  -0.391407 -0.054566  1.0  0.0  0.0  1.0  0.0  0.0   \n",
       "888  0.002710  0.433803   1.746915 -0.186913  0.0  0.0  1.0  1.0  0.0  0.0   \n",
       "889 -0.281336 -0.473517  -0.391407 -0.054566  1.0  0.0  0.0  0.0  1.0  1.0   \n",
       "890  0.179389 -0.473517  -0.391407 -0.504141  0.0  0.0  1.0  0.0  1.0  0.0   \n",
       "\n",
       "      10   11  \n",
       "0    0.0  1.0  \n",
       "1    0.0  0.0  \n",
       "2    0.0  1.0  \n",
       "3    0.0  1.0  \n",
       "4    0.0  1.0  \n",
       "..   ...  ...  \n",
       "886  0.0  1.0  \n",
       "887  0.0  1.0  \n",
       "888  0.0  1.0  \n",
       "889  0.0  0.0  \n",
       "890  1.0  0.0  \n",
       "\n",
       "[891 rows x 12 columns]"
      ]
     },
     "execution_count": 41,
     "metadata": {},
     "output_type": "execute_result"
    }
   ],
   "source": [
    "pd.DataFrame(preprocessed_train_data)\n"
   ]
  },
  {
   "cell_type": "code",
   "execution_count": 42,
   "id": "edc98f66",
   "metadata": {},
   "outputs": [
    {
     "data": {
      "text/html": [
       "<style>#sk-container-id-3 {color: black;background-color: white;}#sk-container-id-3 pre{padding: 0;}#sk-container-id-3 div.sk-toggleable {background-color: white;}#sk-container-id-3 label.sk-toggleable__label {cursor: pointer;display: block;width: 100%;margin-bottom: 0;padding: 0.3em;box-sizing: border-box;text-align: center;}#sk-container-id-3 label.sk-toggleable__label-arrow:before {content: \"▸\";float: left;margin-right: 0.25em;color: #696969;}#sk-container-id-3 label.sk-toggleable__label-arrow:hover:before {color: black;}#sk-container-id-3 div.sk-estimator:hover label.sk-toggleable__label-arrow:before {color: black;}#sk-container-id-3 div.sk-toggleable__content {max-height: 0;max-width: 0;overflow: hidden;text-align: left;background-color: #f0f8ff;}#sk-container-id-3 div.sk-toggleable__content pre {margin: 0.2em;color: black;border-radius: 0.25em;background-color: #f0f8ff;}#sk-container-id-3 input.sk-toggleable__control:checked~div.sk-toggleable__content {max-height: 200px;max-width: 100%;overflow: auto;}#sk-container-id-3 input.sk-toggleable__control:checked~label.sk-toggleable__label-arrow:before {content: \"▾\";}#sk-container-id-3 div.sk-estimator input.sk-toggleable__control:checked~label.sk-toggleable__label {background-color: #d4ebff;}#sk-container-id-3 div.sk-label input.sk-toggleable__control:checked~label.sk-toggleable__label {background-color: #d4ebff;}#sk-container-id-3 input.sk-hidden--visually {border: 0;clip: rect(1px 1px 1px 1px);clip: rect(1px, 1px, 1px, 1px);height: 1px;margin: -1px;overflow: hidden;padding: 0;position: absolute;width: 1px;}#sk-container-id-3 div.sk-estimator {font-family: monospace;background-color: #f0f8ff;border: 1px dotted black;border-radius: 0.25em;box-sizing: border-box;margin-bottom: 0.5em;}#sk-container-id-3 div.sk-estimator:hover {background-color: #d4ebff;}#sk-container-id-3 div.sk-parallel-item::after {content: \"\";width: 100%;border-bottom: 1px solid gray;flex-grow: 1;}#sk-container-id-3 div.sk-label:hover label.sk-toggleable__label {background-color: #d4ebff;}#sk-container-id-3 div.sk-serial::before {content: \"\";position: absolute;border-left: 1px solid gray;box-sizing: border-box;top: 0;bottom: 0;left: 50%;z-index: 0;}#sk-container-id-3 div.sk-serial {display: flex;flex-direction: column;align-items: center;background-color: white;padding-right: 0.2em;padding-left: 0.2em;position: relative;}#sk-container-id-3 div.sk-item {position: relative;z-index: 1;}#sk-container-id-3 div.sk-parallel {display: flex;align-items: stretch;justify-content: center;background-color: white;position: relative;}#sk-container-id-3 div.sk-item::before, #sk-container-id-3 div.sk-parallel-item::before {content: \"\";position: absolute;border-left: 1px solid gray;box-sizing: border-box;top: 0;bottom: 0;left: 50%;z-index: -1;}#sk-container-id-3 div.sk-parallel-item {display: flex;flex-direction: column;z-index: 1;position: relative;background-color: white;}#sk-container-id-3 div.sk-parallel-item:first-child::after {align-self: flex-end;width: 50%;}#sk-container-id-3 div.sk-parallel-item:last-child::after {align-self: flex-start;width: 50%;}#sk-container-id-3 div.sk-parallel-item:only-child::after {width: 0;}#sk-container-id-3 div.sk-dashed-wrapped {border: 1px dashed gray;margin: 0 0.4em 0.5em 0.4em;box-sizing: border-box;padding-bottom: 0.4em;background-color: white;}#sk-container-id-3 div.sk-label label {font-family: monospace;font-weight: bold;display: inline-block;line-height: 1.2em;}#sk-container-id-3 div.sk-label-container {text-align: center;}#sk-container-id-3 div.sk-container {/* jupyter's `normalize.less` sets `[hidden] { display: none; }` but bootstrap.min.css set `[hidden] { display: none !important; }` so we also need the `!important` here to be able to override the default hidden behavior on the sphinx rendered scikit-learn.org. See: https://github.com/scikit-learn/scikit-learn/issues/21755 */display: inline-block !important;position: relative;}#sk-container-id-3 div.sk-text-repr-fallback {display: none;}</style><div id=\"sk-container-id-3\" class=\"sk-top-container\"><div class=\"sk-text-repr-fallback\"><pre>ColumnTransformer(transformers=[(&#x27;num&#x27;,\n",
       "                                 Pipeline(steps=[(&#x27;replace_fare_zeros&#x27;,\n",
       "                                                  FunctionTransformer(func=&lt;function replace_fare_zeros_with_nan at 0x00000191BC311000&gt;)),\n",
       "                                                 (&#x27;imputer&#x27;, SimpleImputer()),\n",
       "                                                 (&#x27;fare_log&#x27;,\n",
       "                                                  FunctionTransformer(func=&lt;function log_fare1 at 0x00000191BC310820&gt;)),\n",
       "                                                 (&#x27;scaler&#x27;,\n",
       "                                                  StandardScalerClone())]),\n",
       "                                 [&#x27;Age&#x27;, &#x27;SibSp&#x27;, &#x27;Parch&#x27;, &#x27;Fare&#x27;]),\n",
       "                                (&#x27;cat&#x27;,\n",
       "                                 Pipeline(steps=[(&#x27;imputer&#x27;,\n",
       "                                                  SimpleImputer(strategy=&#x27;most_frequent&#x27;)),\n",
       "                                                 (&#x27;cat_encoder&#x27;,\n",
       "                                                  OneHotEncoder())]),\n",
       "                                 [&#x27;Pclass&#x27;, &#x27;Sex&#x27;, &#x27;Embarked&#x27;])])</pre><b>In a Jupyter environment, please rerun this cell to show the HTML representation or trust the notebook. <br />On GitHub, the HTML representation is unable to render, please try loading this page with nbviewer.org.</b></div><div class=\"sk-container\" hidden><div class=\"sk-item sk-dashed-wrapped\"><div class=\"sk-label-container\"><div class=\"sk-label sk-toggleable\"><input class=\"sk-toggleable__control sk-hidden--visually\" id=\"sk-estimator-id-7\" type=\"checkbox\" ><label for=\"sk-estimator-id-7\" class=\"sk-toggleable__label sk-toggleable__label-arrow\">ColumnTransformer</label><div class=\"sk-toggleable__content\"><pre>ColumnTransformer(transformers=[(&#x27;num&#x27;,\n",
       "                                 Pipeline(steps=[(&#x27;replace_fare_zeros&#x27;,\n",
       "                                                  FunctionTransformer(func=&lt;function replace_fare_zeros_with_nan at 0x00000191BC311000&gt;)),\n",
       "                                                 (&#x27;imputer&#x27;, SimpleImputer()),\n",
       "                                                 (&#x27;fare_log&#x27;,\n",
       "                                                  FunctionTransformer(func=&lt;function log_fare1 at 0x00000191BC310820&gt;)),\n",
       "                                                 (&#x27;scaler&#x27;,\n",
       "                                                  StandardScalerClone())]),\n",
       "                                 [&#x27;Age&#x27;, &#x27;SibSp&#x27;, &#x27;Parch&#x27;, &#x27;Fare&#x27;]),\n",
       "                                (&#x27;cat&#x27;,\n",
       "                                 Pipeline(steps=[(&#x27;imputer&#x27;,\n",
       "                                                  SimpleImputer(strategy=&#x27;most_frequent&#x27;)),\n",
       "                                                 (&#x27;cat_encoder&#x27;,\n",
       "                                                  OneHotEncoder())]),\n",
       "                                 [&#x27;Pclass&#x27;, &#x27;Sex&#x27;, &#x27;Embarked&#x27;])])</pre></div></div></div><div class=\"sk-parallel\"><div class=\"sk-parallel-item\"><div class=\"sk-item\"><div class=\"sk-label-container\"><div class=\"sk-label sk-toggleable\"><input class=\"sk-toggleable__control sk-hidden--visually\" id=\"sk-estimator-id-8\" type=\"checkbox\" ><label for=\"sk-estimator-id-8\" class=\"sk-toggleable__label sk-toggleable__label-arrow\">num</label><div class=\"sk-toggleable__content\"><pre>[&#x27;Age&#x27;, &#x27;SibSp&#x27;, &#x27;Parch&#x27;, &#x27;Fare&#x27;]</pre></div></div></div><div class=\"sk-serial\"><div class=\"sk-item\"><div class=\"sk-serial\"><div class=\"sk-item\"><div class=\"sk-estimator sk-toggleable\"><input class=\"sk-toggleable__control sk-hidden--visually\" id=\"sk-estimator-id-9\" type=\"checkbox\" ><label for=\"sk-estimator-id-9\" class=\"sk-toggleable__label sk-toggleable__label-arrow\">FunctionTransformer</label><div class=\"sk-toggleable__content\"><pre>FunctionTransformer(func=&lt;function replace_fare_zeros_with_nan at 0x00000191BC311000&gt;)</pre></div></div></div><div class=\"sk-item\"><div class=\"sk-estimator sk-toggleable\"><input class=\"sk-toggleable__control sk-hidden--visually\" id=\"sk-estimator-id-10\" type=\"checkbox\" ><label for=\"sk-estimator-id-10\" class=\"sk-toggleable__label sk-toggleable__label-arrow\">SimpleImputer</label><div class=\"sk-toggleable__content\"><pre>SimpleImputer()</pre></div></div></div><div class=\"sk-item\"><div class=\"sk-estimator sk-toggleable\"><input class=\"sk-toggleable__control sk-hidden--visually\" id=\"sk-estimator-id-11\" type=\"checkbox\" ><label for=\"sk-estimator-id-11\" class=\"sk-toggleable__label sk-toggleable__label-arrow\">FunctionTransformer</label><div class=\"sk-toggleable__content\"><pre>FunctionTransformer(func=&lt;function log_fare1 at 0x00000191BC310820&gt;)</pre></div></div></div><div class=\"sk-item\"><div class=\"sk-estimator sk-toggleable\"><input class=\"sk-toggleable__control sk-hidden--visually\" id=\"sk-estimator-id-12\" type=\"checkbox\" ><label for=\"sk-estimator-id-12\" class=\"sk-toggleable__label sk-toggleable__label-arrow\">StandardScalerClone</label><div class=\"sk-toggleable__content\"><pre>StandardScalerClone()</pre></div></div></div></div></div></div></div></div><div class=\"sk-parallel-item\"><div class=\"sk-item\"><div class=\"sk-label-container\"><div class=\"sk-label sk-toggleable\"><input class=\"sk-toggleable__control sk-hidden--visually\" id=\"sk-estimator-id-13\" type=\"checkbox\" ><label for=\"sk-estimator-id-13\" class=\"sk-toggleable__label sk-toggleable__label-arrow\">cat</label><div class=\"sk-toggleable__content\"><pre>[&#x27;Pclass&#x27;, &#x27;Sex&#x27;, &#x27;Embarked&#x27;]</pre></div></div></div><div class=\"sk-serial\"><div class=\"sk-item\"><div class=\"sk-serial\"><div class=\"sk-item\"><div class=\"sk-estimator sk-toggleable\"><input class=\"sk-toggleable__control sk-hidden--visually\" id=\"sk-estimator-id-14\" type=\"checkbox\" ><label for=\"sk-estimator-id-14\" class=\"sk-toggleable__label sk-toggleable__label-arrow\">SimpleImputer</label><div class=\"sk-toggleable__content\"><pre>SimpleImputer(strategy=&#x27;most_frequent&#x27;)</pre></div></div></div><div class=\"sk-item\"><div class=\"sk-estimator sk-toggleable\"><input class=\"sk-toggleable__control sk-hidden--visually\" id=\"sk-estimator-id-15\" type=\"checkbox\" ><label for=\"sk-estimator-id-15\" class=\"sk-toggleable__label sk-toggleable__label-arrow\">OneHotEncoder</label><div class=\"sk-toggleable__content\"><pre>OneHotEncoder()</pre></div></div></div></div></div></div></div></div></div></div></div></div>"
      ],
      "text/plain": [
       "ColumnTransformer(transformers=[('num',\n",
       "                                 Pipeline(steps=[('replace_fare_zeros',\n",
       "                                                  FunctionTransformer(func=<function replace_fare_zeros_with_nan at 0x00000191BC311000>)),\n",
       "                                                 ('imputer', SimpleImputer()),\n",
       "                                                 ('fare_log',\n",
       "                                                  FunctionTransformer(func=<function log_fare1 at 0x00000191BC310820>)),\n",
       "                                                 ('scaler',\n",
       "                                                  StandardScalerClone())]),\n",
       "                                 ['Age', 'SibSp', 'Parch', 'Fare']),\n",
       "                                ('cat',\n",
       "                                 Pipeline(steps=[('imputer',\n",
       "                                                  SimpleImputer(strategy='most_frequent')),\n",
       "                                                 ('cat_encoder',\n",
       "                                                  OneHotEncoder())]),\n",
       "                                 ['Pclass', 'Sex', 'Embarked'])])"
      ]
     },
     "execution_count": 42,
     "metadata": {},
     "output_type": "execute_result"
    }
   ],
   "source": [
    "full_pipeline"
   ]
  },
  {
   "cell_type": "code",
   "execution_count": 43,
   "id": "29efa42e",
   "metadata": {},
   "outputs": [
    {
     "data": {
      "text/plain": [
       "{'n_jobs': None,\n",
       " 'remainder': 'drop',\n",
       " 'sparse_threshold': 0.3,\n",
       " 'transformer_weights': None,\n",
       " 'transformers': [('num',\n",
       "   Pipeline(steps=[('replace_fare_zeros',\n",
       "                    FunctionTransformer(func=<function replace_fare_zeros_with_nan at 0x00000191BC311000>)),\n",
       "                   ('imputer', SimpleImputer()),\n",
       "                   ('fare_log',\n",
       "                    FunctionTransformer(func=<function log_fare1 at 0x00000191BC310820>)),\n",
       "                   ('scaler', StandardScalerClone())]),\n",
       "   ['Age', 'SibSp', 'Parch', 'Fare']),\n",
       "  ('cat',\n",
       "   Pipeline(steps=[('imputer', SimpleImputer(strategy='most_frequent')),\n",
       "                   ('cat_encoder', OneHotEncoder())]),\n",
       "   ['Pclass', 'Sex', 'Embarked'])],\n",
       " 'verbose': False,\n",
       " 'verbose_feature_names_out': True,\n",
       " 'num': Pipeline(steps=[('replace_fare_zeros',\n",
       "                  FunctionTransformer(func=<function replace_fare_zeros_with_nan at 0x00000191BC311000>)),\n",
       "                 ('imputer', SimpleImputer()),\n",
       "                 ('fare_log',\n",
       "                  FunctionTransformer(func=<function log_fare1 at 0x00000191BC310820>)),\n",
       "                 ('scaler', StandardScalerClone())]),\n",
       " 'cat': Pipeline(steps=[('imputer', SimpleImputer(strategy='most_frequent')),\n",
       "                 ('cat_encoder', OneHotEncoder())]),\n",
       " 'num__memory': None,\n",
       " 'num__steps': [('replace_fare_zeros',\n",
       "   FunctionTransformer(func=<function replace_fare_zeros_with_nan at 0x00000191BC311000>)),\n",
       "  ('imputer', SimpleImputer()),\n",
       "  ('fare_log',\n",
       "   FunctionTransformer(func=<function log_fare1 at 0x00000191BC310820>)),\n",
       "  ('scaler', StandardScalerClone())],\n",
       " 'num__verbose': False,\n",
       " 'num__replace_fare_zeros': FunctionTransformer(func=<function replace_fare_zeros_with_nan at 0x00000191BC311000>),\n",
       " 'num__imputer': SimpleImputer(),\n",
       " 'num__fare_log': FunctionTransformer(func=<function log_fare1 at 0x00000191BC310820>),\n",
       " 'num__scaler': StandardScalerClone(),\n",
       " 'num__replace_fare_zeros__accept_sparse': False,\n",
       " 'num__replace_fare_zeros__check_inverse': True,\n",
       " 'num__replace_fare_zeros__feature_names_out': None,\n",
       " 'num__replace_fare_zeros__func': <function __main__.replace_fare_zeros_with_nan(data)>,\n",
       " 'num__replace_fare_zeros__inv_kw_args': None,\n",
       " 'num__replace_fare_zeros__inverse_func': None,\n",
       " 'num__replace_fare_zeros__kw_args': None,\n",
       " 'num__replace_fare_zeros__validate': False,\n",
       " 'num__imputer__add_indicator': False,\n",
       " 'num__imputer__copy': True,\n",
       " 'num__imputer__fill_value': None,\n",
       " 'num__imputer__keep_empty_features': False,\n",
       " 'num__imputer__missing_values': nan,\n",
       " 'num__imputer__strategy': 'mean',\n",
       " 'num__imputer__verbose': 'deprecated',\n",
       " 'num__fare_log__accept_sparse': False,\n",
       " 'num__fare_log__check_inverse': True,\n",
       " 'num__fare_log__feature_names_out': None,\n",
       " 'num__fare_log__func': <function __main__.log_fare1(data)>,\n",
       " 'num__fare_log__inv_kw_args': None,\n",
       " 'num__fare_log__inverse_func': None,\n",
       " 'num__fare_log__kw_args': None,\n",
       " 'num__fare_log__validate': False,\n",
       " 'num__scaler__with_mean': True,\n",
       " 'cat__memory': None,\n",
       " 'cat__steps': [('imputer', SimpleImputer(strategy='most_frequent')),\n",
       "  ('cat_encoder', OneHotEncoder())],\n",
       " 'cat__verbose': False,\n",
       " 'cat__imputer': SimpleImputer(strategy='most_frequent'),\n",
       " 'cat__cat_encoder': OneHotEncoder(),\n",
       " 'cat__imputer__add_indicator': False,\n",
       " 'cat__imputer__copy': True,\n",
       " 'cat__imputer__fill_value': None,\n",
       " 'cat__imputer__keep_empty_features': False,\n",
       " 'cat__imputer__missing_values': nan,\n",
       " 'cat__imputer__strategy': 'most_frequent',\n",
       " 'cat__imputer__verbose': 'deprecated',\n",
       " 'cat__cat_encoder__categories': 'auto',\n",
       " 'cat__cat_encoder__drop': None,\n",
       " 'cat__cat_encoder__dtype': numpy.float64,\n",
       " 'cat__cat_encoder__handle_unknown': 'error',\n",
       " 'cat__cat_encoder__max_categories': None,\n",
       " 'cat__cat_encoder__min_frequency': None,\n",
       " 'cat__cat_encoder__sparse': 'deprecated',\n",
       " 'cat__cat_encoder__sparse_output': True}"
      ]
     },
     "execution_count": 43,
     "metadata": {},
     "output_type": "execute_result"
    }
   ],
   "source": [
    "full_pipeline.get_params()"
   ]
  },
  {
   "cell_type": "markdown",
   "id": "e9f11d39",
   "metadata": {},
   "source": [
    "# train and validate the model"
   ]
  },
  {
   "cell_type": "code",
   "execution_count": 44,
   "id": "f27fb5d9",
   "metadata": {},
   "outputs": [],
   "source": [
    "from sklearn.tree import DecisionTreeRegressor\n",
    "from sklearn.ensemble import RandomForestRegressor\n",
    "from sklearn.metrics import mean_squared_error"
   ]
  },
  {
   "cell_type": "code",
   "execution_count": 45,
   "id": "ef4e939b",
   "metadata": {},
   "outputs": [],
   "source": [
    "model=DecisionTreeRegressor()"
   ]
  },
  {
   "cell_type": "code",
   "execution_count": 46,
   "id": "b5df9a4a",
   "metadata": {},
   "outputs": [
    {
     "data": {
      "text/html": [
       "<style>#sk-container-id-4 {color: black;background-color: white;}#sk-container-id-4 pre{padding: 0;}#sk-container-id-4 div.sk-toggleable {background-color: white;}#sk-container-id-4 label.sk-toggleable__label {cursor: pointer;display: block;width: 100%;margin-bottom: 0;padding: 0.3em;box-sizing: border-box;text-align: center;}#sk-container-id-4 label.sk-toggleable__label-arrow:before {content: \"▸\";float: left;margin-right: 0.25em;color: #696969;}#sk-container-id-4 label.sk-toggleable__label-arrow:hover:before {color: black;}#sk-container-id-4 div.sk-estimator:hover label.sk-toggleable__label-arrow:before {color: black;}#sk-container-id-4 div.sk-toggleable__content {max-height: 0;max-width: 0;overflow: hidden;text-align: left;background-color: #f0f8ff;}#sk-container-id-4 div.sk-toggleable__content pre {margin: 0.2em;color: black;border-radius: 0.25em;background-color: #f0f8ff;}#sk-container-id-4 input.sk-toggleable__control:checked~div.sk-toggleable__content {max-height: 200px;max-width: 100%;overflow: auto;}#sk-container-id-4 input.sk-toggleable__control:checked~label.sk-toggleable__label-arrow:before {content: \"▾\";}#sk-container-id-4 div.sk-estimator input.sk-toggleable__control:checked~label.sk-toggleable__label {background-color: #d4ebff;}#sk-container-id-4 div.sk-label input.sk-toggleable__control:checked~label.sk-toggleable__label {background-color: #d4ebff;}#sk-container-id-4 input.sk-hidden--visually {border: 0;clip: rect(1px 1px 1px 1px);clip: rect(1px, 1px, 1px, 1px);height: 1px;margin: -1px;overflow: hidden;padding: 0;position: absolute;width: 1px;}#sk-container-id-4 div.sk-estimator {font-family: monospace;background-color: #f0f8ff;border: 1px dotted black;border-radius: 0.25em;box-sizing: border-box;margin-bottom: 0.5em;}#sk-container-id-4 div.sk-estimator:hover {background-color: #d4ebff;}#sk-container-id-4 div.sk-parallel-item::after {content: \"\";width: 100%;border-bottom: 1px solid gray;flex-grow: 1;}#sk-container-id-4 div.sk-label:hover label.sk-toggleable__label {background-color: #d4ebff;}#sk-container-id-4 div.sk-serial::before {content: \"\";position: absolute;border-left: 1px solid gray;box-sizing: border-box;top: 0;bottom: 0;left: 50%;z-index: 0;}#sk-container-id-4 div.sk-serial {display: flex;flex-direction: column;align-items: center;background-color: white;padding-right: 0.2em;padding-left: 0.2em;position: relative;}#sk-container-id-4 div.sk-item {position: relative;z-index: 1;}#sk-container-id-4 div.sk-parallel {display: flex;align-items: stretch;justify-content: center;background-color: white;position: relative;}#sk-container-id-4 div.sk-item::before, #sk-container-id-4 div.sk-parallel-item::before {content: \"\";position: absolute;border-left: 1px solid gray;box-sizing: border-box;top: 0;bottom: 0;left: 50%;z-index: -1;}#sk-container-id-4 div.sk-parallel-item {display: flex;flex-direction: column;z-index: 1;position: relative;background-color: white;}#sk-container-id-4 div.sk-parallel-item:first-child::after {align-self: flex-end;width: 50%;}#sk-container-id-4 div.sk-parallel-item:last-child::after {align-self: flex-start;width: 50%;}#sk-container-id-4 div.sk-parallel-item:only-child::after {width: 0;}#sk-container-id-4 div.sk-dashed-wrapped {border: 1px dashed gray;margin: 0 0.4em 0.5em 0.4em;box-sizing: border-box;padding-bottom: 0.4em;background-color: white;}#sk-container-id-4 div.sk-label label {font-family: monospace;font-weight: bold;display: inline-block;line-height: 1.2em;}#sk-container-id-4 div.sk-label-container {text-align: center;}#sk-container-id-4 div.sk-container {/* jupyter's `normalize.less` sets `[hidden] { display: none; }` but bootstrap.min.css set `[hidden] { display: none !important; }` so we also need the `!important` here to be able to override the default hidden behavior on the sphinx rendered scikit-learn.org. See: https://github.com/scikit-learn/scikit-learn/issues/21755 */display: inline-block !important;position: relative;}#sk-container-id-4 div.sk-text-repr-fallback {display: none;}</style><div id=\"sk-container-id-4\" class=\"sk-top-container\"><div class=\"sk-text-repr-fallback\"><pre>DecisionTreeRegressor()</pre><b>In a Jupyter environment, please rerun this cell to show the HTML representation or trust the notebook. <br />On GitHub, the HTML representation is unable to render, please try loading this page with nbviewer.org.</b></div><div class=\"sk-container\" hidden><div class=\"sk-item\"><div class=\"sk-estimator sk-toggleable\"><input class=\"sk-toggleable__control sk-hidden--visually\" id=\"sk-estimator-id-16\" type=\"checkbox\" checked><label for=\"sk-estimator-id-16\" class=\"sk-toggleable__label sk-toggleable__label-arrow\">DecisionTreeRegressor</label><div class=\"sk-toggleable__content\"><pre>DecisionTreeRegressor()</pre></div></div></div></div></div>"
      ],
      "text/plain": [
       "DecisionTreeRegressor()"
      ]
     },
     "execution_count": 46,
     "metadata": {},
     "output_type": "execute_result"
    }
   ],
   "source": [
    "model.fit(preprocessed_train_data,survival_target)"
   ]
  },
  {
   "cell_type": "markdown",
   "id": "82c1b9d2",
   "metadata": {},
   "source": [
    "# Validating DecisionTreeRegressor model through root mean squared error"
   ]
  },
  {
   "cell_type": "code",
   "execution_count": 47,
   "id": "996e2b72",
   "metadata": {},
   "outputs": [
    {
     "data": {
      "text/plain": [
       "0.10384490147109458"
      ]
     },
     "execution_count": 47,
     "metadata": {},
     "output_type": "execute_result"
    }
   ],
   "source": [
    "survival_pred_tree=model.predict(preprocessed_train_data)\n",
    "mse=mean_squared_error(survival_target,survival_pred_tree)\n",
    "rmse=np.sqrt(mse)\n",
    "rmse"
   ]
  },
  {
   "cell_type": "code",
   "execution_count": 49,
   "id": "b7b6329e",
   "metadata": {},
   "outputs": [
    {
     "data": {
      "text/plain": [
       "0.9405162738496072"
      ]
     },
     "execution_count": 49,
     "metadata": {},
     "output_type": "execute_result"
    }
   ],
   "source": [
    "fit_accuracy=(survival_pred_tree==survival_target).mean()\n",
    "fit_accuracy"
   ]
  },
  {
   "cell_type": "code",
   "execution_count": 50,
   "id": "7eaace50",
   "metadata": {},
   "outputs": [
    {
     "data": {
      "text/plain": [
       "array([0.49253689, 0.41673949, 0.50052641, 0.52377912, 0.43424678,\n",
       "       0.4055423 , 0.43481046, 0.47993445, 0.44771929, 0.44007291])"
      ]
     },
     "execution_count": 50,
     "metadata": {},
     "output_type": "execute_result"
    }
   ],
   "source": [
    "from sklearn.model_selection import cross_val_score\n",
    "\n",
    "scores=cross_val_score(model,preprocessed_train_data,survival_target,\n",
    "                       scoring=\"neg_mean_squared_error\",cv=10)\n",
    "\n",
    "rmse_scores=np.sqrt(-scores)\n",
    "rmse_scores\n"
   ]
  },
  {
   "cell_type": "markdown",
   "id": "592f3377",
   "metadata": {},
   "source": [
    "# RandomForestRegressor()"
   ]
  },
  {
   "cell_type": "code",
   "execution_count": 51,
   "id": "4b898fd8",
   "metadata": {
    "scrolled": true
   },
   "outputs": [
    {
     "data": {
      "text/html": [
       "<style>#sk-container-id-5 {color: black;background-color: white;}#sk-container-id-5 pre{padding: 0;}#sk-container-id-5 div.sk-toggleable {background-color: white;}#sk-container-id-5 label.sk-toggleable__label {cursor: pointer;display: block;width: 100%;margin-bottom: 0;padding: 0.3em;box-sizing: border-box;text-align: center;}#sk-container-id-5 label.sk-toggleable__label-arrow:before {content: \"▸\";float: left;margin-right: 0.25em;color: #696969;}#sk-container-id-5 label.sk-toggleable__label-arrow:hover:before {color: black;}#sk-container-id-5 div.sk-estimator:hover label.sk-toggleable__label-arrow:before {color: black;}#sk-container-id-5 div.sk-toggleable__content {max-height: 0;max-width: 0;overflow: hidden;text-align: left;background-color: #f0f8ff;}#sk-container-id-5 div.sk-toggleable__content pre {margin: 0.2em;color: black;border-radius: 0.25em;background-color: #f0f8ff;}#sk-container-id-5 input.sk-toggleable__control:checked~div.sk-toggleable__content {max-height: 200px;max-width: 100%;overflow: auto;}#sk-container-id-5 input.sk-toggleable__control:checked~label.sk-toggleable__label-arrow:before {content: \"▾\";}#sk-container-id-5 div.sk-estimator input.sk-toggleable__control:checked~label.sk-toggleable__label {background-color: #d4ebff;}#sk-container-id-5 div.sk-label input.sk-toggleable__control:checked~label.sk-toggleable__label {background-color: #d4ebff;}#sk-container-id-5 input.sk-hidden--visually {border: 0;clip: rect(1px 1px 1px 1px);clip: rect(1px, 1px, 1px, 1px);height: 1px;margin: -1px;overflow: hidden;padding: 0;position: absolute;width: 1px;}#sk-container-id-5 div.sk-estimator {font-family: monospace;background-color: #f0f8ff;border: 1px dotted black;border-radius: 0.25em;box-sizing: border-box;margin-bottom: 0.5em;}#sk-container-id-5 div.sk-estimator:hover {background-color: #d4ebff;}#sk-container-id-5 div.sk-parallel-item::after {content: \"\";width: 100%;border-bottom: 1px solid gray;flex-grow: 1;}#sk-container-id-5 div.sk-label:hover label.sk-toggleable__label {background-color: #d4ebff;}#sk-container-id-5 div.sk-serial::before {content: \"\";position: absolute;border-left: 1px solid gray;box-sizing: border-box;top: 0;bottom: 0;left: 50%;z-index: 0;}#sk-container-id-5 div.sk-serial {display: flex;flex-direction: column;align-items: center;background-color: white;padding-right: 0.2em;padding-left: 0.2em;position: relative;}#sk-container-id-5 div.sk-item {position: relative;z-index: 1;}#sk-container-id-5 div.sk-parallel {display: flex;align-items: stretch;justify-content: center;background-color: white;position: relative;}#sk-container-id-5 div.sk-item::before, #sk-container-id-5 div.sk-parallel-item::before {content: \"\";position: absolute;border-left: 1px solid gray;box-sizing: border-box;top: 0;bottom: 0;left: 50%;z-index: -1;}#sk-container-id-5 div.sk-parallel-item {display: flex;flex-direction: column;z-index: 1;position: relative;background-color: white;}#sk-container-id-5 div.sk-parallel-item:first-child::after {align-self: flex-end;width: 50%;}#sk-container-id-5 div.sk-parallel-item:last-child::after {align-self: flex-start;width: 50%;}#sk-container-id-5 div.sk-parallel-item:only-child::after {width: 0;}#sk-container-id-5 div.sk-dashed-wrapped {border: 1px dashed gray;margin: 0 0.4em 0.5em 0.4em;box-sizing: border-box;padding-bottom: 0.4em;background-color: white;}#sk-container-id-5 div.sk-label label {font-family: monospace;font-weight: bold;display: inline-block;line-height: 1.2em;}#sk-container-id-5 div.sk-label-container {text-align: center;}#sk-container-id-5 div.sk-container {/* jupyter's `normalize.less` sets `[hidden] { display: none; }` but bootstrap.min.css set `[hidden] { display: none !important; }` so we also need the `!important` here to be able to override the default hidden behavior on the sphinx rendered scikit-learn.org. See: https://github.com/scikit-learn/scikit-learn/issues/21755 */display: inline-block !important;position: relative;}#sk-container-id-5 div.sk-text-repr-fallback {display: none;}</style><div id=\"sk-container-id-5\" class=\"sk-top-container\"><div class=\"sk-text-repr-fallback\"><pre>RandomForestRegressor()</pre><b>In a Jupyter environment, please rerun this cell to show the HTML representation or trust the notebook. <br />On GitHub, the HTML representation is unable to render, please try loading this page with nbviewer.org.</b></div><div class=\"sk-container\" hidden><div class=\"sk-item\"><div class=\"sk-estimator sk-toggleable\"><input class=\"sk-toggleable__control sk-hidden--visually\" id=\"sk-estimator-id-17\" type=\"checkbox\" checked><label for=\"sk-estimator-id-17\" class=\"sk-toggleable__label sk-toggleable__label-arrow\">RandomForestRegressor</label><div class=\"sk-toggleable__content\"><pre>RandomForestRegressor()</pre></div></div></div></div></div>"
      ],
      "text/plain": [
       "RandomForestRegressor()"
      ]
     },
     "execution_count": 51,
     "metadata": {},
     "output_type": "execute_result"
    }
   ],
   "source": [
    "forest_reg=RandomForestRegressor()\n",
    "forest_reg.fit(preprocessed_train_data,survival_target)\n"
   ]
  },
  {
   "cell_type": "code",
   "execution_count": 52,
   "id": "7d699357",
   "metadata": {},
   "outputs": [
    {
     "data": {
      "text/plain": [
       "array([0.07166667, 0.99      , 0.7       , 0.99      , 0.        ,\n",
       "       0.031     , 0.07      , 0.13      , 0.89      , 1.        ,\n",
       "       0.91      , 0.9       , 0.06708333, 0.01      , 0.21      ,\n",
       "       0.92      , 0.07      , 0.62      , 0.3       , 0.97      ,\n",
       "       0.00125   , 0.32063492, 0.77      , 0.88      , 0.07      ,\n",
       "       0.74      , 0.00166667, 0.19      , 0.99      , 0.        ,\n",
       "       0.18      , 0.96      , 0.86985394, 0.18      , 0.25      ,\n",
       "       0.25      , 0.12142965, 0.        , 0.06      , 0.73      ,\n",
       "       0.06      , 0.4       , 0.04125   , 0.96      , 0.84      ,\n",
       "       0.        , 0.02      , 0.86985394, 0.21      , 0.11      ,\n",
       "       0.04      , 0.18      , 1.        , 1.        , 0.04      ,\n",
       "       0.68      , 0.95133333, 0.21119048, 0.96      , 0.        ,\n",
       "       0.29      , 0.99      , 0.07666667, 0.1       , 0.04666667,\n",
       "       0.86      , 1.        , 0.19183333, 0.79      , 0.0675    ,\n",
       "       0.045     , 0.03      , 0.03      , 0.11      , 0.9525    ,\n",
       "       0.02      , 0.        , 0.        , 0.99      , 0.73      ,\n",
       "       0.        , 0.66      , 0.91873152, 0.16      , 0.988     ,\n",
       "       0.85      , 0.03      , 0.        , 0.98      , 0.        ,\n",
       "       0.        , 0.        , 0.17      , 0.0375    , 0.        ,\n",
       "       0.        , 0.14      , 0.78      , 1.        , 0.05      ,\n",
       "       0.25      , 0.        , 0.17      , 0.        , 0.15533333,\n",
       "       0.        , 0.84      , 0.4299359 , 0.02      , 0.71      ,\n",
       "       0.03      , 0.26      , 0.        , 0.08      , 0.25      ,\n",
       "       0.        , 0.        , 0.03      , 0.11      , 0.17      ,\n",
       "       0.        , 0.        , 0.06      , 1.        , 0.05      ,\n",
       "       0.73666667, 0.09689604, 0.63      , 0.9       , 0.12      ,\n",
       "       0.        , 0.02      , 0.1       , 1.        , 0.        ,\n",
       "       0.14      , 1.        , 0.17      , 0.02416667, 0.22      ,\n",
       "       0.29      , 0.90636364, 0.72      , 0.08      , 0.04566667,\n",
       "       0.04      , 0.71      , 0.02      , 0.        , 0.3615    ,\n",
       "       0.        , 1.        , 0.01      , 0.005     , 0.00333333,\n",
       "       0.09      , 0.9       , 0.01      , 0.08      , 0.        ,\n",
       "       0.        , 1.        , 0.1445    , 0.        , 0.06      ,\n",
       "       0.84      , 1.        , 0.01      , 0.04      , 0.25188095,\n",
       "       0.04      , 0.02      , 0.79      , 0.        , 0.2       ,\n",
       "       0.06      , 0.07      , 0.27      , 0.02      , 0.01      ,\n",
       "       0.01      , 0.19      , 0.1       , 0.71      , 0.75      ,\n",
       "       0.01      , 0.98      , 0.52      , 0.03      , 0.01      ,\n",
       "       0.99      , 0.07083333, 0.79      , 0.99      , 0.91      ,\n",
       "       0.98      , 0.09689604, 0.01      , 0.86985394, 0.51866667,\n",
       "       0.03      , 0.        , 0.03      , 0.02      , 0.73058333,\n",
       "       0.3       , 0.05      , 0.67      , 0.82857143, 0.61      ,\n",
       "       0.1       , 0.92      , 0.        , 0.02      , 0.08204691,\n",
       "       1.        , 0.84      , 0.01666667, 1.        , 0.07      ,\n",
       "       0.52341667, 0.03      , 0.01      , 0.        , 0.62      ,\n",
       "       0.        , 0.44616667, 0.02      , 0.        , 0.        ,\n",
       "       1.        , 0.245     , 0.03      , 0.69      , 0.0075    ,\n",
       "       0.37      , 0.01      , 1.        , 0.44616667, 0.05366667,\n",
       "       0.09      , 0.98      , 0.13      , 0.1       , 0.        ,\n",
       "       0.17      , 0.36      , 0.93183333, 0.77      , 0.        ,\n",
       "       0.00333333, 0.12      , 0.005     , 0.01      , 0.24      ,\n",
       "       0.65      , 1.        , 1.        , 1.        , 0.92      ,\n",
       "       0.09689604, 0.55      , 0.12      , 0.02      , 0.86985394,\n",
       "       0.        , 0.        , 0.42547619, 0.95      , 1.        ,\n",
       "       0.1525    , 0.61      , 1.        , 0.29      , 0.86985394,\n",
       "       0.99      , 0.05      , 0.        , 0.        , 0.87      ,\n",
       "       0.02      , 0.02      , 0.01416667, 0.46960714, 0.085     ,\n",
       "       0.01      , 0.69      , 0.        , 0.3615    , 0.84311688,\n",
       "       0.98      , 1.        , 0.12033333, 0.11      , 0.        ,\n",
       "       0.04666667, 0.08      , 0.21      , 0.8425    , 0.95      ,\n",
       "       0.86985394, 0.64      , 0.1375    , 1.        , 0.        ,\n",
       "       0.91      , 1.        , 1.        , 0.09      , 1.        ,\n",
       "       1.        , 0.98      , 0.33      , 0.        , 0.        ,\n",
       "       0.88      , 0.92      , 0.        , 0.92      , 1.        ,\n",
       "       0.        , 0.1       , 1.        , 0.81      , 0.        ,\n",
       "       1.        , 0.02      , 0.99      , 0.72      , 1.        ,\n",
       "       0.88      , 0.0815    , 0.12      , 0.02      , 1.        ,\n",
       "       0.        , 0.13      , 1.        , 0.63      , 0.16166667,\n",
       "       0.98      , 0.98      , 0.01      , 0.        , 0.10334921,\n",
       "       0.51866667, 0.91      , 0.93      , 1.        , 0.01      ,\n",
       "       0.        , 0.3       , 0.07      , 0.0175    , 0.00166667,\n",
       "       0.03      , 1.        , 0.36      , 0.99      , 0.99      ,\n",
       "       0.        , 0.1       , 0.04      , 0.        , 0.02      ,\n",
       "       0.01333333, 0.99      , 0.97      , 0.86985394, 1.        ,\n",
       "       0.91      , 0.05      , 0.46960714, 0.13      , 0.19      ,\n",
       "       1.        , 0.99      , 0.14      , 0.23      , 0.        ,\n",
       "       1.        , 0.94      , 0.34214286, 1.        , 0.        ,\n",
       "       0.03      , 0.14      , 0.99      , 0.00285714, 0.978     ,\n",
       "       0.75      , 0.62      , 0.1375    , 1.        , 0.81      ,\n",
       "       0.2       , 0.16      , 0.        , 0.0075    , 1.        ,\n",
       "       0.48883333, 0.01      , 0.05      , 0.0075    , 0.11      ,\n",
       "       0.        , 0.        , 0.99      , 0.1325    , 0.        ,\n",
       "       0.        , 0.06      , 1.        , 0.        , 0.73083333,\n",
       "       0.02      , 1.        , 0.93133333, 0.02      , 0.11      ,\n",
       "       0.04125   , 0.05      , 0.02      , 0.21      , 0.01      ,\n",
       "       0.00333333, 0.99      , 0.994     , 0.09689604, 0.68083333,\n",
       "       0.799     , 0.93      , 0.86      , 0.05      , 0.26      ,\n",
       "       1.        , 0.02      , 0.90333333, 0.18      , 0.18      ,\n",
       "       0.85      , 0.        , 0.42547619, 0.98      , 0.67      ,\n",
       "       0.91      , 1.        , 0.921     , 0.94      , 0.76      ,\n",
       "       0.        , 0.        , 0.02666667, 0.77      , 0.        ,\n",
       "       0.63125   , 0.005     , 1.        , 0.96      , 0.09689604,\n",
       "       0.827     , 0.        , 0.03      , 0.01      , 0.        ,\n",
       "       0.        , 0.        , 0.12966667, 0.00285714, 0.95      ,\n",
       "       0.00333333, 0.        , 0.96      , 0.92616667, 0.08      ,\n",
       "       0.02666667, 0.        , 0.06      , 0.        , 0.89      ,\n",
       "       0.05      , 0.        , 0.03      , 0.7       , 0.78      ,\n",
       "       0.        , 1.        , 0.1       , 0.01      , 0.86      ,\n",
       "       0.        , 0.01      , 0.18      , 0.08      , 0.        ,\n",
       "       0.07      , 1.        , 0.        , 0.37      , 0.08      ,\n",
       "       0.        , 0.31493506, 0.39334188, 0.26      , 1.        ,\n",
       "       0.19      , 0.99      , 0.47683333, 0.02      , 0.71833333,\n",
       "       0.66046569, 0.        , 0.99      , 1.        , 0.05      ,\n",
       "       0.03      , 1.        , 0.04      , 1.        , 0.09483333,\n",
       "       1.        , 0.        , 0.00166667, 1.        , 0.12142965,\n",
       "       0.01      , 0.96      , 0.05666667, 0.48883333, 0.        ,\n",
       "       0.77      , 0.12142965, 0.08      , 0.92      , 0.1       ,\n",
       "       1.        , 0.52      , 1.        , 0.        , 1.        ,\n",
       "       0.99      , 0.01      , 0.01      , 0.59      , 0.19      ,\n",
       "       0.02      , 0.97      , 0.66      , 0.        , 0.82      ,\n",
       "       0.66      , 0.03      , 0.067942  , 0.63      , 0.78      ,\n",
       "       0.005     , 0.95      , 0.03666667, 1.        , 0.71      ,\n",
       "       0.09689604, 0.0625    , 0.        , 0.        , 0.02      ,\n",
       "       0.05      , 0.01033333, 0.21      , 0.12142965, 0.68416667,\n",
       "       0.65      , 0.99      , 0.99      , 0.86985394, 0.52341667,\n",
       "       0.0075    , 1.        , 1.        , 0.07      , 0.34214286,\n",
       "       0.98      , 1.        , 0.        , 0.11      , 0.05      ,\n",
       "       1.        , 0.        , 0.57      , 0.        , 0.        ,\n",
       "       0.01      , 0.98      , 0.        , 0.2820772 , 0.01      ,\n",
       "       0.        , 1.        , 0.04      , 0.00166667, 0.86      ,\n",
       "       0.97      , 0.        , 0.03      , 0.03      , 0.86833333,\n",
       "       0.02      , 0.01      , 0.88      , 1.        , 0.94      ,\n",
       "       0.17      , 0.00333333, 0.98      , 0.09689604, 0.        ,\n",
       "       1.        , 0.01833333, 0.28      , 0.98      , 0.0175    ,\n",
       "       0.13      , 0.71      , 0.84      , 0.02      , 0.        ,\n",
       "       0.02      , 0.02      , 1.        , 0.        , 0.00285714,\n",
       "       0.72      , 0.        , 0.84      , 0.01      , 0.        ,\n",
       "       0.98      , 0.34214286, 0.12      , 0.07      , 0.        ,\n",
       "       0.        , 1.        , 0.08      , 0.6407619 , 0.95      ,\n",
       "       0.89      , 0.01033333, 0.71      , 0.01904762, 0.84      ,\n",
       "       0.        , 0.99      , 0.01      , 0.985     , 0.24      ,\n",
       "       0.02      , 0.        , 0.29      , 0.        , 0.1       ,\n",
       "       0.67      , 0.        , 0.149     , 0.        , 0.615     ,\n",
       "       0.11      , 0.        , 0.4299359 , 0.        , 1.        ,\n",
       "       1.        , 0.17      , 0.04      , 0.65      , 0.        ,\n",
       "       0.        , 0.        , 0.69      , 0.06      , 0.92      ,\n",
       "       0.22      , 0.73      , 0.        , 0.01      , 0.02      ,\n",
       "       0.13      , 0.        , 0.03416667, 0.1       , 1.        ,\n",
       "       0.7       , 0.87      , 0.6407619 , 0.11      , 0.005     ,\n",
       "       0.        , 0.03      , 0.97567413, 0.23      , 0.01      ,\n",
       "       1.        , 0.99      , 0.23      , 0.07464018, 0.119     ,\n",
       "       0.        , 0.99      , 0.879     , 0.87      , 0.86      ,\n",
       "       1.        , 0.47683333, 0.75      , 0.17      , 0.01      ,\n",
       "       0.02      , 0.99      , 0.94      , 0.01      , 0.0495    ,\n",
       "       0.99      , 0.01      , 0.32063492, 0.01      , 0.75      ,\n",
       "       0.01      , 0.84      , 0.97567413, 0.08      , 0.18      ,\n",
       "       1.        , 0.3575    , 0.        , 0.        , 0.        ,\n",
       "       0.        , 0.03      , 0.95      , 0.        , 0.        ,\n",
       "       0.7725    , 0.2       , 0.98      , 0.01      , 0.69404762,\n",
       "       0.05      , 0.01      , 0.99      , 0.17      , 0.02975397,\n",
       "       0.94      , 0.96      , 0.05      , 0.        , 0.98      ,\n",
       "       1.        , 0.1825    , 0.04566667, 0.        , 1.        ,\n",
       "       0.        , 0.01      , 0.62      , 0.96      , 0.063     ,\n",
       "       0.97      , 0.05      , 0.24297239, 0.04      , 0.18166667,\n",
       "       0.        , 0.1       , 0.37      , 0.00166667, 0.88      ,\n",
       "       0.00280952, 0.09689604, 0.94      , 0.00285714, 1.        ,\n",
       "       0.88      , 1.        , 0.3125    , 0.03      , 0.03      ,\n",
       "       0.03      , 0.89      , 0.        , 1.        , 0.1       ,\n",
       "       0.09689604, 0.02      , 0.01      , 0.26      , 0.        ,\n",
       "       0.01733333, 0.98      , 0.6       , 0.03226299, 0.06      ,\n",
       "       0.32063492, 0.98      , 0.89      , 0.97      , 0.74      ,\n",
       "       0.19416667, 0.01      , 0.32      , 0.01733333, 1.        ,\n",
       "       0.        , 0.        , 0.01458333, 0.17      , 0.15      ,\n",
       "       0.01      , 0.22      , 0.12      , 0.02      , 0.04      ,\n",
       "       1.        , 0.53      , 0.01      , 0.86      , 0.03      ,\n",
       "       0.12      , 0.6407619 , 0.96      , 0.09689604, 0.99      ,\n",
       "       0.67      , 1.        , 0.12142965, 0.        , 0.08916667,\n",
       "       1.        , 0.01      , 0.        , 0.9525    , 0.71      ,\n",
       "       0.09333333, 0.067     , 1.        , 0.03      , 0.        ,\n",
       "       0.01      , 0.        , 0.        , 0.02      , 1.        ,\n",
       "       0.1       , 0.0175    , 0.26      , 1.        , 0.39      ,\n",
       "       0.76      , 1.        , 0.85466667, 0.91      , 0.12142965,\n",
       "       0.015     , 0.02      , 0.98      , 0.01      , 0.        ,\n",
       "       0.98      , 0.84      , 0.06      , 0.26      , 0.98      ,\n",
       "       0.        , 1.        , 0.17      , 0.08      , 1.        ,\n",
       "       0.96      , 0.        , 0.01033333, 0.        , 0.99      ,\n",
       "       0.82333333, 0.        , 0.11      , 0.        , 0.03      ,\n",
       "       0.16      , 0.03      , 1.        , 0.11      , 0.91      ,\n",
       "       0.076     ])"
      ]
     },
     "execution_count": 52,
     "metadata": {},
     "output_type": "execute_result"
    }
   ],
   "source": [
    "survival_pred_forest=forest_reg.predict(preprocessed_train_data)\n",
    "survival_pred_forest"
   ]
  },
  {
   "cell_type": "code",
   "execution_count": 53,
   "id": "1ed28f47",
   "metadata": {},
   "outputs": [
    {
     "data": {
      "text/plain": [
       "0.02743510489716387"
      ]
     },
     "execution_count": 53,
     "metadata": {},
     "output_type": "execute_result"
    }
   ],
   "source": [
    "mean_squared_error(survival_pred_forest,survival_target)"
   ]
  },
  {
   "cell_type": "code",
   "execution_count": 54,
   "id": "002979ee",
   "metadata": {},
   "outputs": [
    {
     "data": {
      "text/plain": [
       "0.37817524287441584"
      ]
     },
     "execution_count": 54,
     "metadata": {},
     "output_type": "execute_result"
    }
   ],
   "source": [
    "from sklearn.model_selection import cross_val_score\n",
    "\n",
    "forest_scores=cross_val_score(forest_reg,preprocessed_train_data,survival_target,\n",
    "               scoring=\"neg_mean_squared_error\",cv=10)\n",
    "forest_rsme=np.sqrt(-forest_scores)\n",
    "                \n",
    "forest_rsme.mean()\n",
    "    \n",
    "                "
   ]
  },
  {
   "cell_type": "markdown",
   "id": "e517c15c",
   "metadata": {},
   "source": [
    "# Logistic regression"
   ]
  },
  {
   "cell_type": "code",
   "execution_count": 55,
   "id": "83d7435e",
   "metadata": {},
   "outputs": [
    {
     "data": {
      "text/html": [
       "<style>#sk-container-id-6 {color: black;background-color: white;}#sk-container-id-6 pre{padding: 0;}#sk-container-id-6 div.sk-toggleable {background-color: white;}#sk-container-id-6 label.sk-toggleable__label {cursor: pointer;display: block;width: 100%;margin-bottom: 0;padding: 0.3em;box-sizing: border-box;text-align: center;}#sk-container-id-6 label.sk-toggleable__label-arrow:before {content: \"▸\";float: left;margin-right: 0.25em;color: #696969;}#sk-container-id-6 label.sk-toggleable__label-arrow:hover:before {color: black;}#sk-container-id-6 div.sk-estimator:hover label.sk-toggleable__label-arrow:before {color: black;}#sk-container-id-6 div.sk-toggleable__content {max-height: 0;max-width: 0;overflow: hidden;text-align: left;background-color: #f0f8ff;}#sk-container-id-6 div.sk-toggleable__content pre {margin: 0.2em;color: black;border-radius: 0.25em;background-color: #f0f8ff;}#sk-container-id-6 input.sk-toggleable__control:checked~div.sk-toggleable__content {max-height: 200px;max-width: 100%;overflow: auto;}#sk-container-id-6 input.sk-toggleable__control:checked~label.sk-toggleable__label-arrow:before {content: \"▾\";}#sk-container-id-6 div.sk-estimator input.sk-toggleable__control:checked~label.sk-toggleable__label {background-color: #d4ebff;}#sk-container-id-6 div.sk-label input.sk-toggleable__control:checked~label.sk-toggleable__label {background-color: #d4ebff;}#sk-container-id-6 input.sk-hidden--visually {border: 0;clip: rect(1px 1px 1px 1px);clip: rect(1px, 1px, 1px, 1px);height: 1px;margin: -1px;overflow: hidden;padding: 0;position: absolute;width: 1px;}#sk-container-id-6 div.sk-estimator {font-family: monospace;background-color: #f0f8ff;border: 1px dotted black;border-radius: 0.25em;box-sizing: border-box;margin-bottom: 0.5em;}#sk-container-id-6 div.sk-estimator:hover {background-color: #d4ebff;}#sk-container-id-6 div.sk-parallel-item::after {content: \"\";width: 100%;border-bottom: 1px solid gray;flex-grow: 1;}#sk-container-id-6 div.sk-label:hover label.sk-toggleable__label {background-color: #d4ebff;}#sk-container-id-6 div.sk-serial::before {content: \"\";position: absolute;border-left: 1px solid gray;box-sizing: border-box;top: 0;bottom: 0;left: 50%;z-index: 0;}#sk-container-id-6 div.sk-serial {display: flex;flex-direction: column;align-items: center;background-color: white;padding-right: 0.2em;padding-left: 0.2em;position: relative;}#sk-container-id-6 div.sk-item {position: relative;z-index: 1;}#sk-container-id-6 div.sk-parallel {display: flex;align-items: stretch;justify-content: center;background-color: white;position: relative;}#sk-container-id-6 div.sk-item::before, #sk-container-id-6 div.sk-parallel-item::before {content: \"\";position: absolute;border-left: 1px solid gray;box-sizing: border-box;top: 0;bottom: 0;left: 50%;z-index: -1;}#sk-container-id-6 div.sk-parallel-item {display: flex;flex-direction: column;z-index: 1;position: relative;background-color: white;}#sk-container-id-6 div.sk-parallel-item:first-child::after {align-self: flex-end;width: 50%;}#sk-container-id-6 div.sk-parallel-item:last-child::after {align-self: flex-start;width: 50%;}#sk-container-id-6 div.sk-parallel-item:only-child::after {width: 0;}#sk-container-id-6 div.sk-dashed-wrapped {border: 1px dashed gray;margin: 0 0.4em 0.5em 0.4em;box-sizing: border-box;padding-bottom: 0.4em;background-color: white;}#sk-container-id-6 div.sk-label label {font-family: monospace;font-weight: bold;display: inline-block;line-height: 1.2em;}#sk-container-id-6 div.sk-label-container {text-align: center;}#sk-container-id-6 div.sk-container {/* jupyter's `normalize.less` sets `[hidden] { display: none; }` but bootstrap.min.css set `[hidden] { display: none !important; }` so we also need the `!important` here to be able to override the default hidden behavior on the sphinx rendered scikit-learn.org. See: https://github.com/scikit-learn/scikit-learn/issues/21755 */display: inline-block !important;position: relative;}#sk-container-id-6 div.sk-text-repr-fallback {display: none;}</style><div id=\"sk-container-id-6\" class=\"sk-top-container\"><div class=\"sk-text-repr-fallback\"><pre>LogisticRegression()</pre><b>In a Jupyter environment, please rerun this cell to show the HTML representation or trust the notebook. <br />On GitHub, the HTML representation is unable to render, please try loading this page with nbviewer.org.</b></div><div class=\"sk-container\" hidden><div class=\"sk-item\"><div class=\"sk-estimator sk-toggleable\"><input class=\"sk-toggleable__control sk-hidden--visually\" id=\"sk-estimator-id-18\" type=\"checkbox\" checked><label for=\"sk-estimator-id-18\" class=\"sk-toggleable__label sk-toggleable__label-arrow\">LogisticRegression</label><div class=\"sk-toggleable__content\"><pre>LogisticRegression()</pre></div></div></div></div></div>"
      ],
      "text/plain": [
       "LogisticRegression()"
      ]
     },
     "execution_count": 55,
     "metadata": {},
     "output_type": "execute_result"
    }
   ],
   "source": [
    "from sklearn.linear_model import LogisticRegression\n",
    "log_reg=LogisticRegression()\n",
    "log_reg.fit(preprocessed_train_data,survival_target)"
   ]
  },
  {
   "cell_type": "code",
   "execution_count": 56,
   "id": "dcac5047",
   "metadata": {},
   "outputs": [
    {
     "data": {
      "text/plain": [
       "0.4445659938297819"
      ]
     },
     "execution_count": 56,
     "metadata": {},
     "output_type": "execute_result"
    }
   ],
   "source": [
    "log_pred=log_reg.predict(preprocessed_train_data)\n",
    "scores=cross_val_score(log_reg,preprocessed_train_data,survival_target,\n",
    "               scoring=\"neg_mean_squared_error\",cv=10)\n",
    "log_reg_rsme=np.sqrt(-scores)\n",
    "log_reg_rsme.mean()"
   ]
  },
  {
   "cell_type": "markdown",
   "id": "c3a0bb8f",
   "metadata": {},
   "source": [
    "# Choosing the best Classification model:"
   ]
  },
  {
   "cell_type": "code",
   "execution_count": 57,
   "id": "b19a3317",
   "metadata": {},
   "outputs": [],
   "source": [
    "from sklearn.neighbors import KNeighborsClassifier\n",
    "from sklearn.svm import SVC\n",
    "from xgboost import XGBClassifier\n",
    "from lightgbm import LGBMClassifier \n",
    "from sklearn.tree import DecisionTreeClassifier\n",
    "from sklearn.ensemble import RandomForestClassifier\n",
    "from sklearn.linear_model import SGDClassifier\n",
    "from sklearn.neural_network import MLPClassifier\n",
    "from sklearn.model_selection import cross_validate, GridSearchCV\n",
    "\n",
    "from sklearn.metrics import classification_report,accuracy_score, confusion_matrix\n"
   ]
  },
  {
   "cell_type": "code",
   "execution_count": 58,
   "id": "0cabcd45",
   "metadata": {},
   "outputs": [],
   "source": [
    "classifier = {\n",
    "    \"KNN\": KNeighborsClassifier(),\n",
    "    \"LR\": LogisticRegression(),\n",
    "    \"DT\": DecisionTreeClassifier(),\n",
    "    \"RF\": RandomForestClassifier(),\n",
    "    \"SVM\": SVC(),\n",
    "    \"MLP\": MLPClassifier(),\n",
    "    \"XGB\": XGBClassifier(),\n",
    "    \"LBM\": LGBMClassifier(),\n",
    "    \"SGD\": SGDClassifier()\n",
    "}\n",
    "\n",
    "results_list=[]\n",
    "\n",
    "for name, model in classifier.items():\n",
    "    cv_results = cross_validate(\n",
    "        model, preprocessed_train_data, survival_target,\n",
    "        cv=10, scoring=[\"accuracy\", \"f1\"]\n",
    "    )\n",
    "    df=pd.DataFrame({\"classifier\":name,\n",
    "                    \"avg_accuracy\":cv_results[\"test_accuracy\"],\n",
    "                    \"f1_accuracy\":cv_results[\"test_f1\"]})\n",
    "    results_list.append(df)\n",
    "                \n",
    "results_df=pd.concat(results_list)\n",
    "results_df[\"overall_accuracy\"] = (results_df[\"avg_accuracy\"] + results_df[\"f1_accuracy\"]) / 2\n"
   ]
  },
  {
   "cell_type": "code",
   "execution_count": 60,
   "id": "316f88ed",
   "metadata": {},
   "outputs": [],
   "source": [
    "sorted_results=results_df.sort_values(by=[\"overall_accuracy\"],ascending=False)"
   ]
  },
  {
   "cell_type": "code",
   "execution_count": 62,
   "id": "148268a7",
   "metadata": {},
   "outputs": [
    {
     "name": "stderr",
     "output_type": "stream",
     "text": [
      "No artists with labels found to put in legend.  Note that artists whose label start with an underscore are ignored when legend() is called with no argument.\n"
     ]
    },
    {
     "data": {
      "text/plain": [
       "<matplotlib.legend.Legend at 0x191ba9e30a0>"
      ]
     },
     "execution_count": 62,
     "metadata": {},
     "output_type": "execute_result"
    },
    {
     "data": {
      "image/png": "[encoded data removed]",
      "text/plain": [
       "<Figure size 1000x800 with 1 Axes>"
      ]
     },
     "metadata": {},
     "output_type": "display_data"
    }
   ],
   "source": [
    "fig,axis=plt.subplots(figsize=(10,8))\n",
    "axis.set(xlabel=\"Classfication model\",ylabel=\"Overall accuracy\",title=\"Best model for titalsurvival prediction classifaction\")\n",
    "\n",
    "sns.barplot(data=sorted_results,x=sorted_results[\"classifier\"],y=sorted_results[\"overall_accuracy\"],\n",
    "           ax=axis)\n",
    "\n",
    "axis.legend(loc=\"upper right\")\n",
    "\n",
    "\n"
   ]
  },
  {
   "cell_type": "markdown",
   "id": "9ef5a4df",
   "metadata": {},
   "source": [
    "# Light GBM"
   ]
  },
  {
   "cell_type": "code",
   "execution_count": null,
   "id": "1769035c",
   "metadata": {},
   "outputs": [],
   "source": [
    "lbm_clf=LGBMClassifier()"
   ]
  },
  {
   "cell_type": "code",
   "execution_count": null,
   "id": "1ba38637",
   "metadata": {},
   "outputs": [],
   "source": [
    "lbm_clf.fit(preprocessed_train_data,survival_target)"
   ]
  },
  {
   "cell_type": "code",
   "execution_count": null,
   "id": "57034f1b",
   "metadata": {},
   "outputs": [],
   "source": [
    "preprocessed_test_data=full_pipeline.fit_transform(test_data)"
   ]
  },
  {
   "cell_type": "code",
   "execution_count": 540,
   "id": "d148beb9",
   "metadata": {},
   "outputs": [],
   "source": [
    "survival_test_data=lbm_clf.predict(preprocessed_test_data)"
   ]
  },
  {
   "cell_type": "code",
   "execution_count": null,
   "id": "48e1b038",
   "metadata": {},
   "outputs": [],
   "source": []
  },
  {
   "cell_type": "code",
   "execution_count": null,
   "id": "5466dd1e",
   "metadata": {},
   "outputs": [],
   "source": []
  },
  {
   "cell_type": "markdown",
   "id": "adc4e74a",
   "metadata": {},
   "source": [
    "# Finetuning the model:\n",
    "\n"
   ]
  },
  {
   "cell_type": "code",
   "execution_count": 475,
   "id": "acad58d7",
   "metadata": {},
   "outputs": [
    {
     "data": {
      "text/html": [
       "<style>#sk-container-id-37 {color: black;background-color: white;}#sk-container-id-37 pre{padding: 0;}#sk-container-id-37 div.sk-toggleable {background-color: white;}#sk-container-id-37 label.sk-toggleable__label {cursor: pointer;display: block;width: 100%;margin-bottom: 0;padding: 0.3em;box-sizing: border-box;text-align: center;}#sk-container-id-37 label.sk-toggleable__label-arrow:before {content: \"▸\";float: left;margin-right: 0.25em;color: #696969;}#sk-container-id-37 label.sk-toggleable__label-arrow:hover:before {color: black;}#sk-container-id-37 div.sk-estimator:hover label.sk-toggleable__label-arrow:before {color: black;}#sk-container-id-37 div.sk-toggleable__content {max-height: 0;max-width: 0;overflow: hidden;text-align: left;background-color: #f0f8ff;}#sk-container-id-37 div.sk-toggleable__content pre {margin: 0.2em;color: black;border-radius: 0.25em;background-color: #f0f8ff;}#sk-container-id-37 input.sk-toggleable__control:checked~div.sk-toggleable__content {max-height: 200px;max-width: 100%;overflow: auto;}#sk-container-id-37 input.sk-toggleable__control:checked~label.sk-toggleable__label-arrow:before {content: \"▾\";}#sk-container-id-37 div.sk-estimator input.sk-toggleable__control:checked~label.sk-toggleable__label {background-color: #d4ebff;}#sk-container-id-37 div.sk-label input.sk-toggleable__control:checked~label.sk-toggleable__label {background-color: #d4ebff;}#sk-container-id-37 input.sk-hidden--visually {border: 0;clip: rect(1px 1px 1px 1px);clip: rect(1px, 1px, 1px, 1px);height: 1px;margin: -1px;overflow: hidden;padding: 0;position: absolute;width: 1px;}#sk-container-id-37 div.sk-estimator {font-family: monospace;background-color: #f0f8ff;border: 1px dotted black;border-radius: 0.25em;box-sizing: border-box;margin-bottom: 0.5em;}#sk-container-id-37 div.sk-estimator:hover {background-color: #d4ebff;}#sk-container-id-37 div.sk-parallel-item::after {content: \"\";width: 100%;border-bottom: 1px solid gray;flex-grow: 1;}#sk-container-id-37 div.sk-label:hover label.sk-toggleable__label {background-color: #d4ebff;}#sk-container-id-37 div.sk-serial::before {content: \"\";position: absolute;border-left: 1px solid gray;box-sizing: border-box;top: 0;bottom: 0;left: 50%;z-index: 0;}#sk-container-id-37 div.sk-serial {display: flex;flex-direction: column;align-items: center;background-color: white;padding-right: 0.2em;padding-left: 0.2em;position: relative;}#sk-container-id-37 div.sk-item {position: relative;z-index: 1;}#sk-container-id-37 div.sk-parallel {display: flex;align-items: stretch;justify-content: center;background-color: white;position: relative;}#sk-container-id-37 div.sk-item::before, #sk-container-id-37 div.sk-parallel-item::before {content: \"\";position: absolute;border-left: 1px solid gray;box-sizing: border-box;top: 0;bottom: 0;left: 50%;z-index: -1;}#sk-container-id-37 div.sk-parallel-item {display: flex;flex-direction: column;z-index: 1;position: relative;background-color: white;}#sk-container-id-37 div.sk-parallel-item:first-child::after {align-self: flex-end;width: 50%;}#sk-container-id-37 div.sk-parallel-item:last-child::after {align-self: flex-start;width: 50%;}#sk-container-id-37 div.sk-parallel-item:only-child::after {width: 0;}#sk-container-id-37 div.sk-dashed-wrapped {border: 1px dashed gray;margin: 0 0.4em 0.5em 0.4em;box-sizing: border-box;padding-bottom: 0.4em;background-color: white;}#sk-container-id-37 div.sk-label label {font-family: monospace;font-weight: bold;display: inline-block;line-height: 1.2em;}#sk-container-id-37 div.sk-label-container {text-align: center;}#sk-container-id-37 div.sk-container {/* jupyter's `normalize.less` sets `[hidden] { display: none; }` but bootstrap.min.css set `[hidden] { display: none !important; }` so we also need the `!important` here to be able to override the default hidden behavior on the sphinx rendered scikit-learn.org. See: https://github.com/scikit-learn/scikit-learn/issues/21755 */display: inline-block !important;position: relative;}#sk-container-id-37 div.sk-text-repr-fallback {display: none;}</style><div id=\"sk-container-id-37\" class=\"sk-top-container\"><div class=\"sk-text-repr-fallback\"><pre>GridSearchCV(cv=5, estimator=RandomForestRegressor(),\n",
       "             param_grid=[{&#x27;max_features&#x27;: [2, 5, 7, 15, 20],\n",
       "                          &#x27;n_estimators&#x27;: [120, 150, 170]}],\n",
       "             scoring=&#x27;neg_mean_squared_error&#x27;)</pre><b>In a Jupyter environment, please rerun this cell to show the HTML representation or trust the notebook. <br />On GitHub, the HTML representation is unable to render, please try loading this page with nbviewer.org.</b></div><div class=\"sk-container\" hidden><div class=\"sk-item sk-dashed-wrapped\"><div class=\"sk-label-container\"><div class=\"sk-label sk-toggleable\"><input class=\"sk-toggleable__control sk-hidden--visually\" id=\"sk-estimator-id-107\" type=\"checkbox\" ><label for=\"sk-estimator-id-107\" class=\"sk-toggleable__label sk-toggleable__label-arrow\">GridSearchCV</label><div class=\"sk-toggleable__content\"><pre>GridSearchCV(cv=5, estimator=RandomForestRegressor(),\n",
       "             param_grid=[{&#x27;max_features&#x27;: [2, 5, 7, 15, 20],\n",
       "                          &#x27;n_estimators&#x27;: [120, 150, 170]}],\n",
       "             scoring=&#x27;neg_mean_squared_error&#x27;)</pre></div></div></div><div class=\"sk-parallel\"><div class=\"sk-parallel-item\"><div class=\"sk-item\"><div class=\"sk-label-container\"><div class=\"sk-label sk-toggleable\"><input class=\"sk-toggleable__control sk-hidden--visually\" id=\"sk-estimator-id-108\" type=\"checkbox\" ><label for=\"sk-estimator-id-108\" class=\"sk-toggleable__label sk-toggleable__label-arrow\">estimator: RandomForestRegressor</label><div class=\"sk-toggleable__content\"><pre>RandomForestRegressor()</pre></div></div></div><div class=\"sk-serial\"><div class=\"sk-item\"><div class=\"sk-estimator sk-toggleable\"><input class=\"sk-toggleable__control sk-hidden--visually\" id=\"sk-estimator-id-109\" type=\"checkbox\" ><label for=\"sk-estimator-id-109\" class=\"sk-toggleable__label sk-toggleable__label-arrow\">RandomForestRegressor</label><div class=\"sk-toggleable__content\"><pre>RandomForestRegressor()</pre></div></div></div></div></div></div></div></div></div></div>"
      ],
      "text/plain": [
       "GridSearchCV(cv=5, estimator=RandomForestRegressor(),\n",
       "             param_grid=[{'max_features': [2, 5, 7, 15, 20],\n",
       "                          'n_estimators': [120, 150, 170]}],\n",
       "             scoring='neg_mean_squared_error')"
      ]
     },
     "execution_count": 475,
     "metadata": {},
     "output_type": "execute_result"
    }
   ],
   "source": [
    "from sklearn.model_selection import GridSearchCV\n",
    "\n",
    "param_grid=[{\"n_estimators\":[120,150,170],\"max_features\":[2,5,7,15,20]}]\n",
    "\n",
    "grid_search=GridSearchCV(forest_reg,param_grid,cv=5,\n",
    "            scoring=\"neg_mean_squared_error\")\n",
    "grid_search.fit(preprocessed_train_data,survival_target)\n",
    "\n"
   ]
  },
  {
   "cell_type": "code",
   "execution_count": 437,
   "id": "d9a5fc63",
   "metadata": {},
   "outputs": [
    {
     "data": {
      "text/html": [
       "<style>#sk-container-id-35 {color: black;background-color: white;}#sk-container-id-35 pre{padding: 0;}#sk-container-id-35 div.sk-toggleable {background-color: white;}#sk-container-id-35 label.sk-toggleable__label {cursor: pointer;display: block;width: 100%;margin-bottom: 0;padding: 0.3em;box-sizing: border-box;text-align: center;}#sk-container-id-35 label.sk-toggleable__label-arrow:before {content: \"▸\";float: left;margin-right: 0.25em;color: #696969;}#sk-container-id-35 label.sk-toggleable__label-arrow:hover:before {color: black;}#sk-container-id-35 div.sk-estimator:hover label.sk-toggleable__label-arrow:before {color: black;}#sk-container-id-35 div.sk-toggleable__content {max-height: 0;max-width: 0;overflow: hidden;text-align: left;background-color: #f0f8ff;}#sk-container-id-35 div.sk-toggleable__content pre {margin: 0.2em;color: black;border-radius: 0.25em;background-color: #f0f8ff;}#sk-container-id-35 input.sk-toggleable__control:checked~div.sk-toggleable__content {max-height: 200px;max-width: 100%;overflow: auto;}#sk-container-id-35 input.sk-toggleable__control:checked~label.sk-toggleable__label-arrow:before {content: \"▾\";}#sk-container-id-35 div.sk-estimator input.sk-toggleable__control:checked~label.sk-toggleable__label {background-color: #d4ebff;}#sk-container-id-35 div.sk-label input.sk-toggleable__control:checked~label.sk-toggleable__label {background-color: #d4ebff;}#sk-container-id-35 input.sk-hidden--visually {border: 0;clip: rect(1px 1px 1px 1px);clip: rect(1px, 1px, 1px, 1px);height: 1px;margin: -1px;overflow: hidden;padding: 0;position: absolute;width: 1px;}#sk-container-id-35 div.sk-estimator {font-family: monospace;background-color: #f0f8ff;border: 1px dotted black;border-radius: 0.25em;box-sizing: border-box;margin-bottom: 0.5em;}#sk-container-id-35 div.sk-estimator:hover {background-color: #d4ebff;}#sk-container-id-35 div.sk-parallel-item::after {content: \"\";width: 100%;border-bottom: 1px solid gray;flex-grow: 1;}#sk-container-id-35 div.sk-label:hover label.sk-toggleable__label {background-color: #d4ebff;}#sk-container-id-35 div.sk-serial::before {content: \"\";position: absolute;border-left: 1px solid gray;box-sizing: border-box;top: 0;bottom: 0;left: 50%;z-index: 0;}#sk-container-id-35 div.sk-serial {display: flex;flex-direction: column;align-items: center;background-color: white;padding-right: 0.2em;padding-left: 0.2em;position: relative;}#sk-container-id-35 div.sk-item {position: relative;z-index: 1;}#sk-container-id-35 div.sk-parallel {display: flex;align-items: stretch;justify-content: center;background-color: white;position: relative;}#sk-container-id-35 div.sk-item::before, #sk-container-id-35 div.sk-parallel-item::before {content: \"\";position: absolute;border-left: 1px solid gray;box-sizing: border-box;top: 0;bottom: 0;left: 50%;z-index: -1;}#sk-container-id-35 div.sk-parallel-item {display: flex;flex-direction: column;z-index: 1;position: relative;background-color: white;}#sk-container-id-35 div.sk-parallel-item:first-child::after {align-self: flex-end;width: 50%;}#sk-container-id-35 div.sk-parallel-item:last-child::after {align-self: flex-start;width: 50%;}#sk-container-id-35 div.sk-parallel-item:only-child::after {width: 0;}#sk-container-id-35 div.sk-dashed-wrapped {border: 1px dashed gray;margin: 0 0.4em 0.5em 0.4em;box-sizing: border-box;padding-bottom: 0.4em;background-color: white;}#sk-container-id-35 div.sk-label label {font-family: monospace;font-weight: bold;display: inline-block;line-height: 1.2em;}#sk-container-id-35 div.sk-label-container {text-align: center;}#sk-container-id-35 div.sk-container {/* jupyter's `normalize.less` sets `[hidden] { display: none; }` but bootstrap.min.css set `[hidden] { display: none !important; }` so we also need the `!important` here to be able to override the default hidden behavior on the sphinx rendered scikit-learn.org. See: https://github.com/scikit-learn/scikit-learn/issues/21755 */display: inline-block !important;position: relative;}#sk-container-id-35 div.sk-text-repr-fallback {display: none;}</style><div id=\"sk-container-id-35\" class=\"sk-top-container\"><div class=\"sk-text-repr-fallback\"><pre>RandomForestRegressor(max_features=5, n_estimators=150)</pre><b>In a Jupyter environment, please rerun this cell to show the HTML representation or trust the notebook. <br />On GitHub, the HTML representation is unable to render, please try loading this page with nbviewer.org.</b></div><div class=\"sk-container\" hidden><div class=\"sk-item\"><div class=\"sk-estimator sk-toggleable\"><input class=\"sk-toggleable__control sk-hidden--visually\" id=\"sk-estimator-id-105\" type=\"checkbox\" checked><label for=\"sk-estimator-id-105\" class=\"sk-toggleable__label sk-toggleable__label-arrow\">RandomForestRegressor</label><div class=\"sk-toggleable__content\"><pre>RandomForestRegressor(max_features=5, n_estimators=150)</pre></div></div></div></div></div>"
      ],
      "text/plain": [
       "RandomForestRegressor(max_features=5, n_estimators=150)"
      ]
     },
     "execution_count": 437,
     "metadata": {},
     "output_type": "execute_result"
    }
   ],
   "source": [
    "grid_search.best_estimator_"
   ]
  },
  {
   "cell_type": "code",
   "execution_count": 438,
   "id": "f4171ed0",
   "metadata": {},
   "outputs": [
    {
     "data": {
      "text/plain": [
       "{'mean_fit_time': array([0.14060359, 0.15520024, 0.16001654, 0.14396591, 0.1797379 ,\n",
       "        0.1821918 , 0.14345393, 0.18263993, 0.23505044, 0.18741546,\n",
       "        0.22652159, 0.24473186, 0.18247533, 0.22195234, 0.26124125]),\n",
       " 'std_fit_time': array([0.03264348, 0.01218227, 0.00698252, 0.01393935, 0.00918819,\n",
       "        0.01102927, 0.01672429, 0.02721366, 0.0056528 , 0.01365391,\n",
       "        0.00531862, 0.00707061, 0.00906949, 0.01734491, 0.014437  ]),\n",
       " 'mean_score_time': array([0.00412269, 0.00555358, 0.01381764, 0.00613236, 0.01032743,\n",
       "        0.01347423, 0.00786424, 0.00654612, 0.0112896 , 0.00345273,\n",
       "        0.00470042, 0.01244121, 0.00187836, 0.00558195, 0.00290804]),\n",
       " 'std_score_time': array([0.00606458, 0.00461773, 0.00720926, 0.00754496, 0.00118064,\n",
       "        0.00316682, 0.0075723 , 0.00670023, 0.00649364, 0.00309858,\n",
       "        0.00510685, 0.00623975, 0.00243951, 0.0056553 , 0.00238475]),\n",
       " 'param_max_features': masked_array(data=[2, 2, 2, 5, 5, 5, 7, 7, 7, 15, 15, 15, 20, 20, 20],\n",
       "              mask=[False, False, False, False, False, False, False, False,\n",
       "                    False, False, False, False, False, False, False],\n",
       "        fill_value='?',\n",
       "             dtype=object),\n",
       " 'param_n_estimators': masked_array(data=[120, 150, 170, 120, 150, 170, 120, 150, 170, 120, 150,\n",
       "                    170, 120, 150, 170],\n",
       "              mask=[False, False, False, False, False, False, False, False,\n",
       "                    False, False, False, False, False, False, False],\n",
       "        fill_value='?',\n",
       "             dtype=object),\n",
       " 'params': [{'max_features': 2, 'n_estimators': 120},\n",
       "  {'max_features': 2, 'n_estimators': 150},\n",
       "  {'max_features': 2, 'n_estimators': 170},\n",
       "  {'max_features': 5, 'n_estimators': 120},\n",
       "  {'max_features': 5, 'n_estimators': 150},\n",
       "  {'max_features': 5, 'n_estimators': 170},\n",
       "  {'max_features': 7, 'n_estimators': 120},\n",
       "  {'max_features': 7, 'n_estimators': 150},\n",
       "  {'max_features': 7, 'n_estimators': 170},\n",
       "  {'max_features': 15, 'n_estimators': 120},\n",
       "  {'max_features': 15, 'n_estimators': 150},\n",
       "  {'max_features': 15, 'n_estimators': 170},\n",
       "  {'max_features': 20, 'n_estimators': 120},\n",
       "  {'max_features': 20, 'n_estimators': 150},\n",
       "  {'max_features': 20, 'n_estimators': 170}],\n",
       " 'split0_test_score': array([-0.16027997, -0.16359495, -0.16304865, -0.1600937 , -0.15980359,\n",
       "        -0.16153401, -0.16246587, -0.16145776, -0.16567906, -0.16675998,\n",
       "        -0.16619065, -0.16550964, -0.16721468, -0.16529084, -0.16593472]),\n",
       " 'split1_test_score': array([-0.16483877, -0.16162676, -0.16209665, -0.16044641, -0.16038805,\n",
       "        -0.15852509, -0.15877478, -0.15894239, -0.15815636, -0.15807291,\n",
       "        -0.15818064, -0.16186952, -0.16084793, -0.15957837, -0.16354145]),\n",
       " 'split2_test_score': array([-0.11902828, -0.11937477, -0.11615855, -0.11502417, -0.11686983,\n",
       "        -0.11487082, -0.11478398, -0.11716768, -0.11834903, -0.1194214 ,\n",
       "        -0.11908854, -0.1177508 , -0.12193582, -0.11729449, -0.11912639]),\n",
       " 'split3_test_score': array([-0.16311033, -0.16318591, -0.1620305 , -0.16673932, -0.1624339 ,\n",
       "        -0.16550403, -0.16497301, -0.16250691, -0.16277049, -0.16578954,\n",
       "        -0.16783909, -0.16458696, -0.16803533, -0.16669087, -0.16607536]),\n",
       " 'split4_test_score': array([-0.12329367, -0.1240738 , -0.12081701, -0.11976564, -0.11701007,\n",
       "        -0.11975678, -0.12111527, -0.1214243 , -0.11867163, -0.1183898 ,\n",
       "        -0.11967019, -0.11924096, -0.11931354, -0.12143412, -0.12310206]),\n",
       " 'mean_test_score': array([-0.1461102 , -0.14637124, -0.14483027, -0.14441385, -0.14330109,\n",
       "        -0.14403814, -0.14442258, -0.14429981, -0.14472531, -0.14568673,\n",
       "        -0.14619382, -0.14579158, -0.14746946, -0.14605774, -0.147556  ]),\n",
       " 'std_test_score': array([0.02046739, 0.02018963, 0.02156195, 0.02223787, 0.02154154,\n",
       "        0.02198672, 0.02179699, 0.02049263, 0.02153872, 0.02207538,\n",
       "        0.02213718, 0.02232393, 0.02207503, 0.02196403, 0.02164494]),\n",
       " 'rank_test_score': array([11, 13,  7,  4,  1,  2,  5,  3,  6,  8, 12,  9, 14, 10, 15])}"
      ]
     },
     "execution_count": 438,
     "metadata": {},
     "output_type": "execute_result"
    }
   ],
   "source": [
    "grid_search.cv_results_"
   ]
  },
  {
   "cell_type": "code",
   "execution_count": 439,
   "id": "30d5d4c3",
   "metadata": {},
   "outputs": [],
   "source": [
    "results=grid_search.cv_results_"
   ]
  },
  {
   "cell_type": "code",
   "execution_count": 440,
   "id": "13328cba",
   "metadata": {},
   "outputs": [
    {
     "name": "stdout",
     "output_type": "stream",
     "text": [
      "0.3822436430774146 {'max_features': 2, 'n_estimators': 120}\n",
      "0.3825849418235615 {'max_features': 2, 'n_estimators': 150}\n",
      "0.38056572683524165 {'max_features': 2, 'n_estimators': 170}\n",
      "0.3800182187117001 {'max_features': 5, 'n_estimators': 120}\n",
      "0.37855130509034446 {'max_features': 5, 'n_estimators': 150}\n",
      "0.37952357598631625 {'max_features': 5, 'n_estimators': 170}\n",
      "0.3800297133449668 {'max_features': 7, 'n_estimators': 120}\n",
      "0.37986814586656237 {'max_features': 7, 'n_estimators': 150}\n",
      "0.38042780198016346 {'max_features': 7, 'n_estimators': 170}\n",
      "0.3816893048746612 {'max_features': 15, 'n_estimators': 120}\n",
      "0.3823530073869947 {'max_features': 15, 'n_estimators': 150}\n",
      "0.38182663123368527 {'max_features': 15, 'n_estimators': 170}\n",
      "0.3840175252480597 {'max_features': 20, 'n_estimators': 120}\n",
      "0.3821750116920655 {'max_features': 20, 'n_estimators': 150}\n",
      "0.3841301842843888 {'max_features': 20, 'n_estimators': 170}\n"
     ]
    }
   ],
   "source": [
    "for mean_error_scores,params in zip(results[\"mean_test_score\"],results[\"params\"]):\n",
    "    print(np.sqrt(-mean_error_scores),params)\n"
   ]
  },
  {
   "cell_type": "markdown",
   "id": "dfa14401",
   "metadata": {},
   "source": [
    "# Estimating feature importance"
   ]
  },
  {
   "cell_type": "code",
   "execution_count": 441,
   "id": "497a66b5",
   "metadata": {},
   "outputs": [
    {
     "data": {
      "text/plain": [
       "array([0.25291715, 0.04670055, 0.03241516, 0.24201589, 0.02498374,\n",
       "       0.0127891 , 0.06320912, 0.14196811, 0.1497675 , 0.01155695,\n",
       "       0.0076697 , 0.01400703])"
      ]
     },
     "execution_count": 441,
     "metadata": {},
     "output_type": "execute_result"
    }
   ],
   "source": [
    "feature_importances=grid_search.best_estimator_.feature_importances_\n",
    "feature_importances"
   ]
  },
  {
   "cell_type": "code",
   "execution_count": 442,
   "id": "7e3f359a",
   "metadata": {},
   "outputs": [
    {
     "data": {
      "text/plain": [
       "[(0.2529171494506641, 'Age'),\n",
       " (0.24201588750798378, 'Fare'),\n",
       " (0.1497675020982731, 'male'),\n",
       " (0.1419681083030455, 'female'),\n",
       " (0.06320911667151004, 3),\n",
       " (0.04670055464720687, 'SibSp'),\n",
       " (0.03241516203919861, 'Parch'),\n",
       " (0.024983742514252654, 1),\n",
       " (0.01400702921829983, 'S'),\n",
       " (0.012789099707298567, 2),\n",
       " (0.011556948402238285, 'C'),\n",
       " (0.007669699440028665, 'Q')]"
      ]
     },
     "execution_count": 442,
     "metadata": {},
     "output_type": "execute_result"
    }
   ],
   "source": [
    "encoder=cat_pipeline.named_steps[\"cat_encoder\"]\n",
    "cat_uniques=encoder.categories_\n",
    "\n",
    "num_attribs=num_train_data_attributes\n",
    "cat_attribs=[]\n",
    "for col in range(len(cat_uniques)):\n",
    "    cat_attribs=cat_attribs+list(cat_uniques[col])\n",
    "tot_attribs=num_attribs+cat_attribs\n",
    "\n",
    "sorted(zip(feature_importances, tot_attribs), reverse=True)\n"
   ]
  },
  {
   "cell_type": "code",
   "execution_count": 443,
   "id": "36b51066",
   "metadata": {},
   "outputs": [
    {
     "data": {
      "text/plain": [
       "[array([1, 2, 3], dtype=object),\n",
       " array(['female', 'male'], dtype=object),\n",
       " array(['C', 'Q', 'S'], dtype=object)]"
      ]
     },
     "execution_count": 443,
     "metadata": {},
     "output_type": "execute_result"
    }
   ],
   "source": [
    "cat_uniques"
   ]
  },
  {
   "cell_type": "code",
   "execution_count": 444,
   "id": "a79a6f72",
   "metadata": {},
   "outputs": [
    {
     "data": {
      "text/plain": [
       "{'n_jobs': None,\n",
       " 'remainder': 'drop',\n",
       " 'sparse_threshold': 0.3,\n",
       " 'transformer_weights': None,\n",
       " 'transformers': [('num',\n",
       "   Pipeline(steps=[('replace_fare_zeros',\n",
       "                    FunctionTransformer(func=<function replace_fare_zeros_with_nan at 0x000001D007838670>)),\n",
       "                   ('imputer', SimpleImputer()),\n",
       "                   ('fare_log',\n",
       "                    FunctionTransformer(func=<function log_fare1 at 0x000001D00DFF4D30>)),\n",
       "                   ('scaler', StandardScaler())]),\n",
       "   ['Age', 'SibSp', 'Parch', 'Fare']),\n",
       "  ('cat',\n",
       "   Pipeline(steps=[('imputer', SimpleImputer(strategy='most_frequent')),\n",
       "                   ('cat_encoder', OneHotEncoder())]),\n",
       "   ['Pclass', 'Sex', 'Embarked'])],\n",
       " 'verbose': False,\n",
       " 'verbose_feature_names_out': True,\n",
       " 'num': Pipeline(steps=[('replace_fare_zeros',\n",
       "                  FunctionTransformer(func=<function replace_fare_zeros_with_nan at 0x000001D007838670>)),\n",
       "                 ('imputer', SimpleImputer()),\n",
       "                 ('fare_log',\n",
       "                  FunctionTransformer(func=<function log_fare1 at 0x000001D00DFF4D30>)),\n",
       "                 ('scaler', StandardScaler())]),\n",
       " 'cat': Pipeline(steps=[('imputer', SimpleImputer(strategy='most_frequent')),\n",
       "                 ('cat_encoder', OneHotEncoder())]),\n",
       " 'num__memory': None,\n",
       " 'num__steps': [('replace_fare_zeros',\n",
       "   FunctionTransformer(func=<function replace_fare_zeros_with_nan at 0x000001D007838670>)),\n",
       "  ('imputer', SimpleImputer()),\n",
       "  ('fare_log',\n",
       "   FunctionTransformer(func=<function log_fare1 at 0x000001D00DFF4D30>)),\n",
       "  ('scaler', StandardScaler())],\n",
       " 'num__verbose': False,\n",
       " 'num__replace_fare_zeros': FunctionTransformer(func=<function replace_fare_zeros_with_nan at 0x000001D007838670>),\n",
       " 'num__imputer': SimpleImputer(),\n",
       " 'num__fare_log': FunctionTransformer(func=<function log_fare1 at 0x000001D00DFF4D30>),\n",
       " 'num__scaler': StandardScaler(),\n",
       " 'num__replace_fare_zeros__accept_sparse': False,\n",
       " 'num__replace_fare_zeros__check_inverse': True,\n",
       " 'num__replace_fare_zeros__feature_names_out': None,\n",
       " 'num__replace_fare_zeros__func': <function __main__.replace_fare_zeros_with_nan(data)>,\n",
       " 'num__replace_fare_zeros__inv_kw_args': None,\n",
       " 'num__replace_fare_zeros__inverse_func': None,\n",
       " 'num__replace_fare_zeros__kw_args': None,\n",
       " 'num__replace_fare_zeros__validate': False,\n",
       " 'num__imputer__add_indicator': False,\n",
       " 'num__imputer__copy': True,\n",
       " 'num__imputer__fill_value': None,\n",
       " 'num__imputer__keep_empty_features': False,\n",
       " 'num__imputer__missing_values': nan,\n",
       " 'num__imputer__strategy': 'mean',\n",
       " 'num__imputer__verbose': 'deprecated',\n",
       " 'num__fare_log__accept_sparse': False,\n",
       " 'num__fare_log__check_inverse': True,\n",
       " 'num__fare_log__feature_names_out': None,\n",
       " 'num__fare_log__func': <function __main__.log_fare1(data)>,\n",
       " 'num__fare_log__inv_kw_args': None,\n",
       " 'num__fare_log__inverse_func': None,\n",
       " 'num__fare_log__kw_args': None,\n",
       " 'num__fare_log__validate': False,\n",
       " 'num__scaler__copy': True,\n",
       " 'num__scaler__with_mean': True,\n",
       " 'num__scaler__with_std': True,\n",
       " 'cat__memory': None,\n",
       " 'cat__steps': [('imputer', SimpleImputer(strategy='most_frequent')),\n",
       "  ('cat_encoder', OneHotEncoder())],\n",
       " 'cat__verbose': False,\n",
       " 'cat__imputer': SimpleImputer(strategy='most_frequent'),\n",
       " 'cat__cat_encoder': OneHotEncoder(),\n",
       " 'cat__imputer__add_indicator': False,\n",
       " 'cat__imputer__copy': True,\n",
       " 'cat__imputer__fill_value': None,\n",
       " 'cat__imputer__keep_empty_features': False,\n",
       " 'cat__imputer__missing_values': nan,\n",
       " 'cat__imputer__strategy': 'most_frequent',\n",
       " 'cat__imputer__verbose': 'deprecated',\n",
       " 'cat__cat_encoder__categories': 'auto',\n",
       " 'cat__cat_encoder__drop': None,\n",
       " 'cat__cat_encoder__dtype': numpy.float64,\n",
       " 'cat__cat_encoder__handle_unknown': 'error',\n",
       " 'cat__cat_encoder__max_categories': None,\n",
       " 'cat__cat_encoder__min_frequency': None,\n",
       " 'cat__cat_encoder__sparse': 'deprecated',\n",
       " 'cat__cat_encoder__sparse_output': True}"
      ]
     },
     "execution_count": 444,
     "metadata": {},
     "output_type": "execute_result"
    }
   ],
   "source": [
    "full_pipeline.get_params()"
   ]
  },
  {
   "cell_type": "code",
   "execution_count": 445,
   "id": "5e0c250e",
   "metadata": {},
   "outputs": [],
   "source": [
    "preprocessed_test_data=full_pipeline.fit_transform(test_data)"
   ]
  },
  {
   "cell_type": "code",
   "execution_count": 446,
   "id": "9709879b",
   "metadata": {},
   "outputs": [
    {
     "data": {
      "text/html": [
       "<div>\n",
       "<style scoped>\n",
       "    .dataframe tbody tr th:only-of-type {\n",
       "        vertical-align: middle;\n",
       "    }\n",
       "\n",
       "    .dataframe tbody tr th {\n",
       "        vertical-align: top;\n",
       "    }\n",
       "\n",
       "    .dataframe thead th {\n",
       "        text-align: right;\n",
       "    }\n",
       "</style>\n",
       "<table border=\"1\" class=\"dataframe\">\n",
       "  <thead>\n",
       "    <tr style=\"text-align: right;\">\n",
       "      <th></th>\n",
       "      <th>0</th>\n",
       "      <th>1</th>\n",
       "      <th>2</th>\n",
       "      <th>3</th>\n",
       "      <th>4</th>\n",
       "      <th>5</th>\n",
       "      <th>6</th>\n",
       "      <th>7</th>\n",
       "      <th>8</th>\n",
       "      <th>9</th>\n",
       "      <th>10</th>\n",
       "      <th>11</th>\n",
       "    </tr>\n",
       "  </thead>\n",
       "  <tbody>\n",
       "    <tr>\n",
       "      <th>0</th>\n",
       "      <td>0.337676</td>\n",
       "      <td>-0.365160</td>\n",
       "      <td>-0.299165</td>\n",
       "      <td>-0.501623</td>\n",
       "      <td>0.0</td>\n",
       "      <td>0.0</td>\n",
       "      <td>1.0</td>\n",
       "      <td>0.0</td>\n",
       "      <td>1.0</td>\n",
       "      <td>0.0</td>\n",
       "      <td>1.0</td>\n",
       "      <td>0.0</td>\n",
       "    </tr>\n",
       "    <tr>\n",
       "      <th>1</th>\n",
       "      <td>1.322931</td>\n",
       "      <td>0.516194</td>\n",
       "      <td>-0.299165</td>\n",
       "      <td>-0.516502</td>\n",
       "      <td>0.0</td>\n",
       "      <td>0.0</td>\n",
       "      <td>1.0</td>\n",
       "      <td>1.0</td>\n",
       "      <td>0.0</td>\n",
       "      <td>0.0</td>\n",
       "      <td>0.0</td>\n",
       "      <td>1.0</td>\n",
       "    </tr>\n",
       "    <tr>\n",
       "      <th>2</th>\n",
       "      <td>2.505237</td>\n",
       "      <td>-0.365160</td>\n",
       "      <td>-0.299165</td>\n",
       "      <td>-0.468276</td>\n",
       "      <td>0.0</td>\n",
       "      <td>1.0</td>\n",
       "      <td>0.0</td>\n",
       "      <td>0.0</td>\n",
       "      <td>1.0</td>\n",
       "      <td>0.0</td>\n",
       "      <td>1.0</td>\n",
       "      <td>0.0</td>\n",
       "    </tr>\n",
       "    <tr>\n",
       "      <th>3</th>\n",
       "      <td>-2.121849</td>\n",
       "      <td>-12.541521</td>\n",
       "      <td>-11.802653</td>\n",
       "      <td>-0.603371</td>\n",
       "      <td>0.0</td>\n",
       "      <td>0.0</td>\n",
       "      <td>1.0</td>\n",
       "      <td>0.0</td>\n",
       "      <td>1.0</td>\n",
       "      <td>0.0</td>\n",
       "      <td>0.0</td>\n",
       "      <td>1.0</td>\n",
       "    </tr>\n",
       "    <tr>\n",
       "      <th>4</th>\n",
       "      <td>-0.647579</td>\n",
       "      <td>0.516194</td>\n",
       "      <td>0.533485</td>\n",
       "      <td>-0.421621</td>\n",
       "      <td>0.0</td>\n",
       "      <td>0.0</td>\n",
       "      <td>1.0</td>\n",
       "      <td>1.0</td>\n",
       "      <td>0.0</td>\n",
       "      <td>0.0</td>\n",
       "      <td>0.0</td>\n",
       "      <td>1.0</td>\n",
       "    </tr>\n",
       "    <tr>\n",
       "      <th>...</th>\n",
       "      <td>...</td>\n",
       "      <td>...</td>\n",
       "      <td>...</td>\n",
       "      <td>...</td>\n",
       "      <td>...</td>\n",
       "      <td>...</td>\n",
       "      <td>...</td>\n",
       "      <td>...</td>\n",
       "      <td>...</td>\n",
       "      <td>...</td>\n",
       "      <td>...</td>\n",
       "      <td>...</td>\n",
       "    </tr>\n",
       "    <tr>\n",
       "      <th>413</th>\n",
       "      <td>0.004470</td>\n",
       "      <td>-0.365160</td>\n",
       "      <td>-0.299165</td>\n",
       "      <td>-0.497660</td>\n",
       "      <td>0.0</td>\n",
       "      <td>0.0</td>\n",
       "      <td>1.0</td>\n",
       "      <td>0.0</td>\n",
       "      <td>1.0</td>\n",
       "      <td>0.0</td>\n",
       "      <td>0.0</td>\n",
       "      <td>1.0</td>\n",
       "    </tr>\n",
       "    <tr>\n",
       "      <th>414</th>\n",
       "      <td>0.692368</td>\n",
       "      <td>-0.365160</td>\n",
       "      <td>-0.299165</td>\n",
       "      <td>1.312041</td>\n",
       "      <td>1.0</td>\n",
       "      <td>0.0</td>\n",
       "      <td>0.0</td>\n",
       "      <td>1.0</td>\n",
       "      <td>0.0</td>\n",
       "      <td>1.0</td>\n",
       "      <td>0.0</td>\n",
       "      <td>0.0</td>\n",
       "    </tr>\n",
       "    <tr>\n",
       "      <th>415</th>\n",
       "      <td>0.652958</td>\n",
       "      <td>-0.365160</td>\n",
       "      <td>-0.299165</td>\n",
       "      <td>-0.512016</td>\n",
       "      <td>0.0</td>\n",
       "      <td>0.0</td>\n",
       "      <td>1.0</td>\n",
       "      <td>0.0</td>\n",
       "      <td>1.0</td>\n",
       "      <td>0.0</td>\n",
       "      <td>0.0</td>\n",
       "      <td>1.0</td>\n",
       "    </tr>\n",
       "    <tr>\n",
       "      <th>416</th>\n",
       "      <td>0.004470</td>\n",
       "      <td>-0.365160</td>\n",
       "      <td>-0.299165</td>\n",
       "      <td>-0.497660</td>\n",
       "      <td>0.0</td>\n",
       "      <td>0.0</td>\n",
       "      <td>1.0</td>\n",
       "      <td>0.0</td>\n",
       "      <td>1.0</td>\n",
       "      <td>0.0</td>\n",
       "      <td>0.0</td>\n",
       "      <td>1.0</td>\n",
       "    </tr>\n",
       "    <tr>\n",
       "      <th>417</th>\n",
       "      <td>0.004470</td>\n",
       "      <td>0.516194</td>\n",
       "      <td>0.533485</td>\n",
       "      <td>-0.240905</td>\n",
       "      <td>0.0</td>\n",
       "      <td>0.0</td>\n",
       "      <td>1.0</td>\n",
       "      <td>0.0</td>\n",
       "      <td>1.0</td>\n",
       "      <td>1.0</td>\n",
       "      <td>0.0</td>\n",
       "      <td>0.0</td>\n",
       "    </tr>\n",
       "  </tbody>\n",
       "</table>\n",
       "<p>418 rows × 12 columns</p>\n",
       "</div>"
      ],
      "text/plain": [
       "           0          1          2         3    4    5    6    7    8    9   \\\n",
       "0    0.337676  -0.365160  -0.299165 -0.501623  0.0  0.0  1.0  0.0  1.0  0.0   \n",
       "1    1.322931   0.516194  -0.299165 -0.516502  0.0  0.0  1.0  1.0  0.0  0.0   \n",
       "2    2.505237  -0.365160  -0.299165 -0.468276  0.0  1.0  0.0  0.0  1.0  0.0   \n",
       "3   -2.121849 -12.541521 -11.802653 -0.603371  0.0  0.0  1.0  0.0  1.0  0.0   \n",
       "4   -0.647579   0.516194   0.533485 -0.421621  0.0  0.0  1.0  1.0  0.0  0.0   \n",
       "..        ...        ...        ...       ...  ...  ...  ...  ...  ...  ...   \n",
       "413  0.004470  -0.365160  -0.299165 -0.497660  0.0  0.0  1.0  0.0  1.0  0.0   \n",
       "414  0.692368  -0.365160  -0.299165  1.312041  1.0  0.0  0.0  1.0  0.0  1.0   \n",
       "415  0.652958  -0.365160  -0.299165 -0.512016  0.0  0.0  1.0  0.0  1.0  0.0   \n",
       "416  0.004470  -0.365160  -0.299165 -0.497660  0.0  0.0  1.0  0.0  1.0  0.0   \n",
       "417  0.004470   0.516194   0.533485 -0.240905  0.0  0.0  1.0  0.0  1.0  1.0   \n",
       "\n",
       "      10   11  \n",
       "0    1.0  0.0  \n",
       "1    0.0  1.0  \n",
       "2    1.0  0.0  \n",
       "3    0.0  1.0  \n",
       "4    0.0  1.0  \n",
       "..   ...  ...  \n",
       "413  0.0  1.0  \n",
       "414  0.0  0.0  \n",
       "415  0.0  1.0  \n",
       "416  0.0  1.0  \n",
       "417  0.0  0.0  \n",
       "\n",
       "[418 rows x 12 columns]"
      ]
     },
     "execution_count": 446,
     "metadata": {},
     "output_type": "execute_result"
    }
   ],
   "source": [
    "pd.DataFrame(preprocessed_test_data)"
   ]
  },
  {
   "cell_type": "markdown",
   "id": "23731663",
   "metadata": {},
   "source": [
    "# Predicting the survival of titanic passengers"
   ]
  },
  {
   "cell_type": "code",
   "execution_count": 468,
   "id": "a1f1c1d9",
   "metadata": {},
   "outputs": [],
   "source": [
    "model=log_reg\n",
    "survival_test_data=model.predict(preprocessed_test_data)"
   ]
  },
  {
   "cell_type": "code",
   "execution_count": 469,
   "id": "1c9cc702",
   "metadata": {},
   "outputs": [
    {
     "data": {
      "text/plain": [
       "array([0, 0, 0, 1, 1, 0, 1, 0, 1, 0, 0, 0, 1, 0, 1, 1, 0, 0, 1, 1, 0, 0,\n",
       "       1, 1, 1, 0, 1, 0, 0, 0, 0, 0, 0, 0, 0, 0, 1, 1, 0, 0, 0, 0, 0, 1,\n",
       "       1, 0, 0, 0, 1, 0, 0, 0, 1, 1, 0, 0, 0, 0, 0, 1, 0, 0, 0, 1, 1, 1,\n",
       "       1, 0, 1, 1, 1, 0, 1, 1, 1, 1, 0, 1, 0, 1, 0, 0, 0, 0, 0, 0, 1, 1,\n",
       "       1, 0, 1, 0, 1, 0, 1, 0, 1, 0, 1, 0, 1, 0, 0, 0, 1, 0, 0, 0, 0, 0,\n",
       "       0, 1, 1, 1, 1, 0, 0, 1, 1, 1, 1, 0, 1, 0, 0, 1, 0, 1, 0, 0, 0, 0,\n",
       "       1, 0, 0, 0, 0, 0, 1, 0, 0, 1, 0, 0, 0, 0, 0, 0, 0, 0, 1, 0, 0, 0,\n",
       "       0, 0, 1, 1, 0, 1, 1, 0, 1, 0, 0, 1, 0, 0, 1, 1, 0, 0, 0, 0, 0, 1,\n",
       "       1, 0, 1, 1, 0, 0, 1, 0, 1, 0, 1, 0, 0, 0, 0, 0, 0, 0, 0, 0, 1, 1,\n",
       "       0, 1, 1, 0, 0, 1, 0, 1, 1, 0, 1, 0, 0, 0, 0, 1, 0, 0, 1, 0, 1, 0,\n",
       "       1, 0, 1, 0, 1, 1, 0, 1, 0, 0, 0, 1, 0, 0, 0, 0, 0, 0, 1, 1, 1, 1,\n",
       "       0, 0, 0, 0, 1, 0, 1, 1, 1, 0, 1, 0, 0, 0, 0, 0, 1, 0, 0, 0, 1, 1,\n",
       "       0, 0, 0, 0, 1, 0, 0, 0, 1, 1, 0, 1, 0, 0, 0, 0, 1, 0, 1, 1, 1, 0,\n",
       "       0, 0, 0, 0, 0, 1, 0, 0, 0, 0, 1, 0, 0, 0, 0, 0, 0, 0, 1, 1, 0, 0,\n",
       "       0, 0, 0, 0, 0, 1, 1, 1, 0, 0, 0, 0, 0, 0, 0, 0, 1, 0, 1, 0, 0, 0,\n",
       "       1, 0, 0, 1, 0, 0, 0, 0, 0, 0, 0, 0, 0, 1, 0, 1, 0, 1, 0, 1, 1, 0,\n",
       "       0, 0, 1, 0, 1, 0, 0, 1, 0, 1, 1, 0, 1, 0, 0, 1, 1, 0, 0, 1, 0, 0,\n",
       "       1, 1, 1, 0, 0, 0, 0, 0, 1, 1, 0, 1, 0, 0, 0, 0, 1, 1, 0, 0, 0, 1,\n",
       "       0, 1, 0, 0, 1, 0, 1, 1, 0, 0, 0, 0, 1, 1, 1, 1, 1, 0, 1, 0, 0, 0],\n",
       "      dtype=int64)"
      ]
     },
     "execution_count": 469,
     "metadata": {},
     "output_type": "execute_result"
    }
   ],
   "source": [
    "survival_test_data"
   ]
  },
  {
   "cell_type": "code",
   "execution_count": 541,
   "id": "26c05ecd",
   "metadata": {},
   "outputs": [
    {
     "data": {
      "text/plain": [
       "(418, 2)"
      ]
     },
     "execution_count": 541,
     "metadata": {},
     "output_type": "execute_result"
    }
   ],
   "source": [
    "passengerid=np.array(test_data.index)\n",
    "survival_pred=np.c_[passengerid,survival_test_data]\n",
    "survival_pred.shape"
   ]
  },
  {
   "cell_type": "code",
   "execution_count": 542,
   "id": "6f0d0e60",
   "metadata": {},
   "outputs": [
    {
     "data": {
      "text/html": [
       "<div>\n",
       "<style scoped>\n",
       "    .dataframe tbody tr th:only-of-type {\n",
       "        vertical-align: middle;\n",
       "    }\n",
       "\n",
       "    .dataframe tbody tr th {\n",
       "        vertical-align: top;\n",
       "    }\n",
       "\n",
       "    .dataframe thead th {\n",
       "        text-align: right;\n",
       "    }\n",
       "</style>\n",
       "<table border=\"1\" class=\"dataframe\">\n",
       "  <thead>\n",
       "    <tr style=\"text-align: right;\">\n",
       "      <th></th>\n",
       "      <th>Passengerid</th>\n",
       "      <th>Survived</th>\n",
       "    </tr>\n",
       "  </thead>\n",
       "  <tbody>\n",
       "    <tr>\n",
       "      <th>0</th>\n",
       "      <td>892</td>\n",
       "      <td>0</td>\n",
       "    </tr>\n",
       "    <tr>\n",
       "      <th>1</th>\n",
       "      <td>893</td>\n",
       "      <td>0</td>\n",
       "    </tr>\n",
       "    <tr>\n",
       "      <th>2</th>\n",
       "      <td>894</td>\n",
       "      <td>0</td>\n",
       "    </tr>\n",
       "    <tr>\n",
       "      <th>3</th>\n",
       "      <td>895</td>\n",
       "      <td>1</td>\n",
       "    </tr>\n",
       "    <tr>\n",
       "      <th>4</th>\n",
       "      <td>896</td>\n",
       "      <td>0</td>\n",
       "    </tr>\n",
       "    <tr>\n",
       "      <th>...</th>\n",
       "      <td>...</td>\n",
       "      <td>...</td>\n",
       "    </tr>\n",
       "    <tr>\n",
       "      <th>413</th>\n",
       "      <td>1305</td>\n",
       "      <td>0</td>\n",
       "    </tr>\n",
       "    <tr>\n",
       "      <th>414</th>\n",
       "      <td>1306</td>\n",
       "      <td>1</td>\n",
       "    </tr>\n",
       "    <tr>\n",
       "      <th>415</th>\n",
       "      <td>1307</td>\n",
       "      <td>0</td>\n",
       "    </tr>\n",
       "    <tr>\n",
       "      <th>416</th>\n",
       "      <td>1308</td>\n",
       "      <td>0</td>\n",
       "    </tr>\n",
       "    <tr>\n",
       "      <th>417</th>\n",
       "      <td>1309</td>\n",
       "      <td>0</td>\n",
       "    </tr>\n",
       "  </tbody>\n",
       "</table>\n",
       "<p>418 rows × 2 columns</p>\n",
       "</div>"
      ],
      "text/plain": [
       "     Passengerid  Survived\n",
       "0            892         0\n",
       "1            893         0\n",
       "2            894         0\n",
       "3            895         1\n",
       "4            896         0\n",
       "..           ...       ...\n",
       "413         1305         0\n",
       "414         1306         1\n",
       "415         1307         0\n",
       "416         1308         0\n",
       "417         1309         0\n",
       "\n",
       "[418 rows x 2 columns]"
      ]
     },
     "execution_count": 542,
     "metadata": {},
     "output_type": "execute_result"
    }
   ],
   "source": [
    "survival_test_df=pd.DataFrame(survival_pred,columns=[\"Passengerid\",\"Survived\"])\n",
    "survival_test_df"
   ]
  },
  {
   "cell_type": "code",
   "execution_count": 543,
   "id": "d9807438",
   "metadata": {},
   "outputs": [
    {
     "data": {
      "text/plain": [
       "Passengerid    int64\n",
       "Survived       int64\n",
       "dtype: object"
      ]
     },
     "execution_count": 543,
     "metadata": {},
     "output_type": "execute_result"
    }
   ],
   "source": [
    "survival_test_df.dtypes\n"
   ]
  },
  {
   "cell_type": "markdown",
   "id": "53109a1b",
   "metadata": {},
   "source": [
    "# Converting a dataframe back to csv file"
   ]
  },
  {
   "cell_type": "code",
   "execution_count": 544,
   "id": "185fc3f4",
   "metadata": {},
   "outputs": [],
   "source": [
    "survival_test_df.to_csv(\"titanic_survival_predictions.csv\",index=False)"
   ]
  },
  {
   "cell_type": "code",
   "execution_count": 545,
   "id": "f063c584",
   "metadata": {},
   "outputs": [
    {
     "data": {
      "text/html": [
       "<div>\n",
       "<style scoped>\n",
       "    .dataframe tbody tr th:only-of-type {\n",
       "        vertical-align: middle;\n",
       "    }\n",
       "\n",
       "    .dataframe tbody tr th {\n",
       "        vertical-align: top;\n",
       "    }\n",
       "\n",
       "    .dataframe thead th {\n",
       "        text-align: right;\n",
       "    }\n",
       "</style>\n",
       "<table border=\"1\" class=\"dataframe\">\n",
       "  <thead>\n",
       "    <tr style=\"text-align: right;\">\n",
       "      <th></th>\n",
       "      <th>Passengerid</th>\n",
       "      <th>Survived</th>\n",
       "    </tr>\n",
       "  </thead>\n",
       "  <tbody>\n",
       "    <tr>\n",
       "      <th>0</th>\n",
       "      <td>892</td>\n",
       "      <td>0</td>\n",
       "    </tr>\n",
       "    <tr>\n",
       "      <th>1</th>\n",
       "      <td>893</td>\n",
       "      <td>0</td>\n",
       "    </tr>\n",
       "    <tr>\n",
       "      <th>2</th>\n",
       "      <td>894</td>\n",
       "      <td>0</td>\n",
       "    </tr>\n",
       "    <tr>\n",
       "      <th>3</th>\n",
       "      <td>895</td>\n",
       "      <td>1</td>\n",
       "    </tr>\n",
       "    <tr>\n",
       "      <th>4</th>\n",
       "      <td>896</td>\n",
       "      <td>0</td>\n",
       "    </tr>\n",
       "    <tr>\n",
       "      <th>...</th>\n",
       "      <td>...</td>\n",
       "      <td>...</td>\n",
       "    </tr>\n",
       "    <tr>\n",
       "      <th>413</th>\n",
       "      <td>1305</td>\n",
       "      <td>0</td>\n",
       "    </tr>\n",
       "    <tr>\n",
       "      <th>414</th>\n",
       "      <td>1306</td>\n",
       "      <td>1</td>\n",
       "    </tr>\n",
       "    <tr>\n",
       "      <th>415</th>\n",
       "      <td>1307</td>\n",
       "      <td>0</td>\n",
       "    </tr>\n",
       "    <tr>\n",
       "      <th>416</th>\n",
       "      <td>1308</td>\n",
       "      <td>0</td>\n",
       "    </tr>\n",
       "    <tr>\n",
       "      <th>417</th>\n",
       "      <td>1309</td>\n",
       "      <td>0</td>\n",
       "    </tr>\n",
       "  </tbody>\n",
       "</table>\n",
       "<p>418 rows × 2 columns</p>\n",
       "</div>"
      ],
      "text/plain": [
       "     Passengerid  Survived\n",
       "0            892         0\n",
       "1            893         0\n",
       "2            894         0\n",
       "3            895         1\n",
       "4            896         0\n",
       "..           ...       ...\n",
       "413         1305         0\n",
       "414         1306         1\n",
       "415         1307         0\n",
       "416         1308         0\n",
       "417         1309         0\n",
       "\n",
       "[418 rows x 2 columns]"
      ]
     },
     "execution_count": 545,
     "metadata": {},
     "output_type": "execute_result"
    }
   ],
   "source": [
    "pd.read_csv(\"titanic_survival_predictions.csv\")"
   ]
  },
  {
   "cell_type": "code",
   "execution_count": null,
   "id": "7f59bafa",
   "metadata": {},
   "outputs": [],
   "source": []
  },
  {
   "cell_type": "code",
   "execution_count": null,
   "id": "26024977",
   "metadata": {},
   "outputs": [],
   "source": []
  },
  {
   "cell_type": "code",
   "execution_count": null,
   "id": "6b820625",
   "metadata": {},
   "outputs": [],
   "source": []
  },
  {
   "cell_type": "code",
   "execution_count": null,
   "id": "895b1d4c",
   "metadata": {},
   "outputs": [],
   "source": []
  },
  {
   "cell_type": "code",
   "execution_count": null,
   "id": "6718050a",
   "metadata": {},
   "outputs": [],
   "source": []
  },
  {
   "cell_type": "code",
   "execution_count": null,
   "id": "3211a1fe",
   "metadata": {},
   "outputs": [],
   "source": []
  },
  {
   "cell_type": "code",
   "execution_count": null,
   "id": "5fd3ab5d",
   "metadata": {},
   "outputs": [],
   "source": []
  },
  {
   "cell_type": "code",
   "execution_count": null,
   "id": "e965aab0",
   "metadata": {},
   "outputs": [],
   "source": []
  },
  {
   "cell_type": "code",
   "execution_count": null,
   "id": "4d439da9",
   "metadata": {},
   "outputs": [],
   "source": []
  },
  {
   "cell_type": "code",
   "execution_count": null,
   "id": "c68bd51b",
   "metadata": {},
   "outputs": [],
   "source": []
  }
 ],
 "metadata": {
  "kernelspec": {
   "display_name": "Python 3 (ipykernel)",
   "language": "python",
   "name": "python3"
  },
  "language_info": {
   "codemirror_mode": {
    "name": "ipython",
    "version": 3
   },
   "file_extension": ".py",
   "mimetype": "text/x-python",
   "name": "python",
   "nbconvert_exporter": "python",
   "pygments_lexer": "ipython3",
   "version": "3.10.9"
  }
 },
 "nbformat": 4,
 "nbformat_minor": 5
}
